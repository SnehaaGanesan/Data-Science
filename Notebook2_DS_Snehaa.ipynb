{
 "cells": [
  {
   "cell_type": "markdown",
   "metadata": {},
   "source": [
    "# Foundations of Data Science - Course Work\n"
   ]
  },
  {
   "cell_type": "markdown",
   "metadata": {},
   "source": [
    "Snehaa Ganesan\n",
    "\n",
    "sg4860@nyu.edu\n",
    "***"
   ]
  },
  {
   "cell_type": "markdown",
   "metadata": {},
   "source": [
    "### Part 1: Critique this plan (8 points)\n",
    "1\\. After a few beers your CIO invited his buddy from Green Berry consulting to propose a project using data mining to improve the targeting of the new service that you have been a principal in developing. The service has been quite successful so far, being marketed over the last 6 months via your ingenious, and very inexpensive, word-of-mouth campaign. You've already garnered a pretty large customer base without any targeting, and you've been seeing this success as your best stepping stone to bigger and better things in the firm. \n",
    "\n",
    "After some reflection, you've decided that your best course of action is to play a key role in ensuring the success of this data mining project as well. You agree with your CIO's statement in a meeting with Green Berry, that accurate targeting might cost-effectively expand your audience substantially to consumers that word-of-mouth would not reach. You accept that what Green Berry says about the characteristics of your service is accurate.\n",
    "\n",
    "Based on what we have covered in class, identify the four most serious weaknesses/flaws in this abridged version of Green Berry's proposal, and suggest how to ameliorate them.  Your answer should be 4 bullet points, each comprising 2-4 sentences: 1-2 sentences stating each weakness, and 1-2 sentences suggesting a better alternative.  Maximal credit will be given when the 4 points are as independent as possible.\n",
    "\n",
    "\n",
    "```\n",
    "--- -------------------------------------------------------------------------- ---\n",
    "                            Targeted Audience Expansion             \n",
    "                      Prepared by Green Berry Consulting, Inc.\n",
    "\n",
    "Your problem is to expand the audience of your new service.  We (Green Berry) have a \n",
    "large database of consumers who can be targeted.  We will build a predictive model \n",
    "to estimate which of these consumers are the most likely to adopt the product, and\n",
    "then target them with the special offer you have designed.\n",
    "\n",
    "More specifically, we will build a logistic regression (LR) model to predict adop-\n",
    "tion of the service by a consumer, based on the data on your current customers of \n",
    "this service.  The model will be based on their demographics and their usage of \n",
    "the service. We believe that logistic regression is the best choice of method be-\n",
    "cause it is a tried-and-true statistical modeling technique, and we can easily \n",
    "interpret the coefficients of the model to infer whether the attributes are stat-\n",
    "istically significant, and whether they make sense. If they are statistically sig-\n",
    "nificant and they do make sense, then we can have confidence that the model will \n",
    "be accurate in predicting service uptake. We will apply the model to our large \n",
    "database of consumers, and select out those who have not yet subscribed and whom\n",
    "the LR model predicts to be the most likely to subscribe.  To these we will send \n",
    "the targeted offer. As this is a fixed-profit-per-customer service, this also \n",
    "will in effect rank them by expected profit.\n",
    "--- -------------------------------------------------------------------------- ---\n",
    "```"
   ]
  },
  {
   "cell_type": "markdown",
   "metadata": {},
   "source": [
    "1. Weakness/Flaw : Poor Problem description - no objective target variable, lack of specificity of methodology\n",
    "   Fix by : Being more objective about the problem, target variable, and the \"sense\" in \"If they are statistically     significant and they do make sense\"\n",
    "   \n",
    "2. Weakness/Flaw : Assumption not stated/realized that, current customers data(used in modeling) does not neccessarily reflect the behavior/data of customers not yet subscribed.\n",
    "   Fix : Realize the assumption, and use a mix of current customers data + not yet customers(not subscribed) data.\n",
    "  \n",
    "3. Weakness/Flaw : Confidence of accurate prediction is guaranteed based on statistical significance of attributes if any. Despite, the methodology being is based on the assumption that currentcustomers data can be used to understand/predict behavior of notyet_customers.\n",
    "   Fix: Instead of supporting confidence in accurate prediction, make use of computed accuracy and probablity of accurate prediction.\n",
    "   \n",
    "4. Weakness/Flaw : Fixed-profit-per-customer is based on prediction as from the LR model, hence, ranking them is not an insightful feature.\n",
    "   Fix : Instead of ranking individual customers, grouped ranking based on features like demographics may be more insightful."
   ]
  },
  {
   "cell_type": "markdown",
   "metadata": {},
   "source": [
    "### Part 2: Sentiment analysis (12 points)\n",
    "\n",
    "In this assignment we will be looking at a directed, signed network regarding Wikipedia editors who want to become an administrator. In order for this to happen, a request for adminship (RfA) is submitted, either by the candidate or by another community member. Subsequently, any Wikipedia member may cast a supporting, neutral, or opposing vote.\n",
    "\n",
    "The dataset and further description can be found here:\n",
    "https://snap.stanford.edu/data/wiki-RfA.html\n",
    "\n",
    "In sum, nodes represent Wikipedia members and edges represent votes. Each entry in the dataset also includes text of a comment associated with the vote.\n",
    "\n"
   ]
  },
  {
   "cell_type": "markdown",
   "metadata": {},
   "source": [
    "1\\. Convert the data into a pandas `DataFrame()`, which will have one column for each of the data attributes, SRC, TGT, etc. (3 points) "
   ]
  },
  {
   "cell_type": "code",
   "execution_count": 1,
   "metadata": {
    "collapsed": false
   },
   "outputs": [],
   "source": [
    "#code here\n",
    "import pandas as pd\n",
    "import numpy as np\n",
    "from pandas import DataFrame, Series\n",
    "import os\n",
    "from os import system\n",
    "import csv\n",
    "import re\n",
    "from sklearn.model_selection import train_test_split\n",
    "from sklearn.feature_extraction.text import CountVectorizer, TfidfVectorizer\n",
    "from nltk.tokenize import sent_tokenize, word_tokenize\n",
    "from nltk.corpus import stopwords\n",
    "from sklearn.feature_extraction.text import TfidfTransformer \n",
    "import networkx as nx\n",
    "from pprint import pprint\n",
    "from itertools import combinations\n",
    "from random import randint\n",
    "import networkx as nx\n",
    "import timeit\n",
    "from sklearn.naive_bayes import BernoulliNB\n",
    "from sklearn import linear_model\n",
    "from sklearn import metrics\n",
    "from sklearn.metrics import accuracy_score\n",
    "from sklearn.metrics import *\n",
    "import matplotlib.pylab as plt\n",
    "from sklearn.linear_model import LogisticRegression"
   ]
  },
  {
   "cell_type": "code",
   "execution_count": 2,
   "metadata": {
    "collapsed": false
   },
   "outputs": [
    {
     "data": {
      "text/plain": [
       "'Reading txt file (input)   then, processing line by line to separate column name and entries/data'"
      ]
     },
     "execution_count": 2,
     "metadata": {},
     "output_type": "execute_result"
    }
   ],
   "source": [
    "'''Reading txt file (input)   then, processing line by line to separate column name and entries/data'''"
   ]
  },
  {
   "cell_type": "code",
   "execution_count": 3,
   "metadata": {
    "collapsed": false
   },
   "outputs": [],
   "source": [
    "#Reading txt file\n",
    "f = open(\"wiki-RfA.txt\", 'r')\n",
    "reader = csv.reader(f)\n",
    "#f = (map(lambda x: x.encode(\"ascii\", \"ignore\").split(), f))\n",
    "\n",
    "#f = [line.decode('utf-8', 'ignore').strip() for line in f.readlines()]\n",
    "\n",
    "list_of_lists = list()\n",
    "\n",
    "#Line by line processing to separate column name from entry data\n",
    "with open('wiki-RfA.txt') as f:\n",
    "    for line in f:\n",
    "            inner_list = [line.strip() for line in line.split(':')]\n",
    "            list_of_lists.append(inner_list)\n",
    "      \n",
    "    "
   ]
  },
  {
   "cell_type": "code",
   "execution_count": 4,
   "metadata": {
    "collapsed": false
   },
   "outputs": [],
   "source": [
    "#Changing the input form from list to dataframe \n",
    "#and extracting only relevant columns(extra (not in real data)non empty cols)\n",
    "\n",
    "df = pd.DataFrame(list_of_lists) #takes around 3 mins\n",
    "df1= df[[0,1]]\n",
    "#df1.head()"
   ]
  },
  {
   "cell_type": "code",
   "execution_count": 5,
   "metadata": {
    "collapsed": false
   },
   "outputs": [],
   "source": [
    "#Creating and adding the required columns to df1 and filling them with NaN (except column'Content')\n",
    "df1 = df1.assign(SRC = \"Nan\")\n",
    "df1 = df1.assign(TGT = \"Nan\")\n",
    "df1 = df1.assign(VOT = \"Nan\")\n",
    "df1 = df1.assign(RES = \"Nan\")\n",
    "df1 = df1.assign(YEA = \"Nan\")\n",
    "df1 = df1.assign(DAT = \"Nan\")\n",
    "df1 = df1.assign(TXT = \"Nan\")\n",
    "df1 = df1.assign(Content = \"\")"
   ]
  },
  {
   "cell_type": "code",
   "execution_count": 6,
   "metadata": {
    "collapsed": false
   },
   "outputs": [
    {
     "data": {
      "text/plain": [
       "'Text processing to add data to the respective columns (like, SRC data to SRC column, etc.)'"
      ]
     },
     "execution_count": 6,
     "metadata": {},
     "output_type": "execute_result"
    }
   ],
   "source": [
    "'''Text processing to add data to the respective columns (like, SRC data to SRC column, etc.)'''"
   ]
  },
  {
   "cell_type": "code",
   "execution_count": 7,
   "metadata": {
    "collapsed": false
   },
   "outputs": [],
   "source": [
    "#Combining contents of columns 0 and 1 to fill column 'Content' (for future text processing)\n",
    "df1['Content'] = df1[0].str.cat(df1[1])\n",
    "\n",
    "\n",
    "#Performing string extract to extract data entry(to separate data of SRC and TGT)\n",
    "#from each row in 'Content' and adding them to the correct column\n",
    "# example, Steel1943 is added to SRC , BDD to TGT (where they belong).\n",
    "df1[['S1','SRC']] = df1['Content'].str.extract(r'(^SRC{1})(.*)', expand=True)\n",
    "df1[['S1','TGT']] = df1['Content'].str.extract(r'(^TGT{1})(.*)', expand=True)\n",
    "df1[['S1','VOT']] = df1['Content'].str.extract(r'(^VOT{1})(.*)', expand=True)\n",
    "df1[['S1','RES']] = df1['Content'].str.extract(r'(^RES{1})(.*)', expand=True)\n",
    "df1[['S1','YEA']] = df1['Content'].str.extract(r'(^YEA{1})(.*)', expand=True)\n",
    "df1[['S1','DAT']] = df1['Content'].str.extract(r'(^DAT{1})(.*)', expand=True)\n",
    "df1[['S1','TXT']] = df1['Content'].str.extract(r'(^TXT{1})(.*)', expand=True)"
   ]
  },
  {
   "cell_type": "code",
   "execution_count": 8,
   "metadata": {
    "collapsed": true
   },
   "outputs": [],
   "source": [
    "#Replacing NaN by succeeding values in label(SRC,TGT,VOT,YEA,DAT,TXT) columns\n",
    "#This forms the correct row entries as per original data , but only wherever the 1st column (0) is SRC\n",
    "#All other rows where column[0] value is not SRC are incorrect and must be deleted (done in the next step)\n",
    "df1 = df1.fillna(method='bfill')\n",
    "#df1.head(9)"
   ]
  },
  {
   "cell_type": "code",
   "execution_count": 9,
   "metadata": {
    "collapsed": false
   },
   "outputs": [
    {
     "data": {
      "text/plain": [
       "'Filtering of data to remove the extra columns (content, S1), and to keep only the correct row-column entries'"
      ]
     },
     "execution_count": 9,
     "metadata": {},
     "output_type": "execute_result"
    }
   ],
   "source": [
    "'''Filtering of data to remove the extra columns (content, S1), and to keep only the correct row-column entries'''"
   ]
  },
  {
   "cell_type": "code",
   "execution_count": 10,
   "metadata": {
    "collapsed": true
   },
   "outputs": [],
   "source": [
    "#Deleting extra columns (irrelevant / unneccesary columns)\n",
    "df1.drop('Content', axis=1, inplace=True)\n",
    "df1.drop('S1', axis=1, inplace=True)\n",
    "#df1.head()\n",
    "\n",
    "#Filtering out the data to keep only correct row column entries\n",
    "#Deleting rows for which df1[0] does not match \"SRC\" \n",
    "#i.e. Keeping only correct entries as per original data\n",
    "df1 = df1[(df1[0] == \"SRC\")]"
   ]
  },
  {
   "cell_type": "code",
   "execution_count": 11,
   "metadata": {
    "collapsed": false
   },
   "outputs": [],
   "source": [
    "#Dropping df1[0] and df1[1] columns since they are irrelevant\n",
    "df1.drop(0, axis=1, inplace=True)\n",
    "#198275  \n",
    "df1.drop(1, axis=1, inplace=True)\n",
    "#Changing index for proper indexing\n",
    "df1.index = range(198275)"
   ]
  },
  {
   "cell_type": "code",
   "execution_count": 12,
   "metadata": {
    "collapsed": false
   },
   "outputs": [
    {
     "data": {
      "text/html": [
       "<div>\n",
       "<table border=\"1\" class=\"dataframe\">\n",
       "  <thead>\n",
       "    <tr style=\"text-align: right;\">\n",
       "      <th></th>\n",
       "      <th>SRC</th>\n",
       "      <th>TGT</th>\n",
       "      <th>VOT</th>\n",
       "      <th>RES</th>\n",
       "      <th>YEA</th>\n",
       "      <th>DAT</th>\n",
       "      <th>TXT</th>\n",
       "    </tr>\n",
       "  </thead>\n",
       "  <tbody>\n",
       "    <tr>\n",
       "      <th>0</th>\n",
       "      <td>Steel1943</td>\n",
       "      <td>BDD</td>\n",
       "      <td>1</td>\n",
       "      <td>1</td>\n",
       "      <td>2013</td>\n",
       "      <td>23</td>\n",
       "      <td>'''Support''' as co-nom.</td>\n",
       "    </tr>\n",
       "    <tr>\n",
       "      <th>1</th>\n",
       "      <td>Cuchullain</td>\n",
       "      <td>BDD</td>\n",
       "      <td>1</td>\n",
       "      <td>1</td>\n",
       "      <td>2013</td>\n",
       "      <td>01</td>\n",
       "      <td>'''Support''' as nominator.--</td>\n",
       "    </tr>\n",
       "    <tr>\n",
       "      <th>2</th>\n",
       "      <td>INeverCry</td>\n",
       "      <td>BDD</td>\n",
       "      <td>1</td>\n",
       "      <td>1</td>\n",
       "      <td>2013</td>\n",
       "      <td>23</td>\n",
       "      <td>'''Support''' per noms.</td>\n",
       "    </tr>\n",
       "    <tr>\n",
       "      <th>3</th>\n",
       "      <td>Cncmaster</td>\n",
       "      <td>BDD</td>\n",
       "      <td>1</td>\n",
       "      <td>1</td>\n",
       "      <td>2013</td>\n",
       "      <td>00</td>\n",
       "      <td>'''Support''' per noms. BDD is a strong contri...</td>\n",
       "    </tr>\n",
       "    <tr>\n",
       "      <th>4</th>\n",
       "      <td>Miniapolis</td>\n",
       "      <td>BDD</td>\n",
       "      <td>1</td>\n",
       "      <td>1</td>\n",
       "      <td>2013</td>\n",
       "      <td>00</td>\n",
       "      <td>'''Support''', with great pleasure. I work wit...</td>\n",
       "    </tr>\n",
       "  </tbody>\n",
       "</table>\n",
       "</div>"
      ],
      "text/plain": [
       "          SRC  TGT VOT RES   YEA DAT  \\\n",
       "0   Steel1943  BDD   1   1  2013  23   \n",
       "1  Cuchullain  BDD   1   1  2013  01   \n",
       "2   INeverCry  BDD   1   1  2013  23   \n",
       "3   Cncmaster  BDD   1   1  2013  00   \n",
       "4  Miniapolis  BDD   1   1  2013  00   \n",
       "\n",
       "                                                 TXT  \n",
       "0                           '''Support''' as co-nom.  \n",
       "1                      '''Support''' as nominator.--  \n",
       "2                            '''Support''' per noms.  \n",
       "3  '''Support''' per noms. BDD is a strong contri...  \n",
       "4  '''Support''', with great pleasure. I work wit...  "
      ]
     },
     "execution_count": 12,
     "metadata": {},
     "output_type": "execute_result"
    }
   ],
   "source": [
    "df1.head()\n"
   ]
  },
  {
   "cell_type": "code",
   "execution_count": 13,
   "metadata": {
    "collapsed": true
   },
   "outputs": [],
   "source": [
    "#End of part2-question1"
   ]
  },
  {
   "cell_type": "markdown",
   "metadata": {},
   "source": [
    "2\\. Using the VOT column as the target variable, code the values as -1 or 0  as '0' and 1 to stay as '1'. (1 point)\n"
   ]
  },
  {
   "cell_type": "code",
   "execution_count": 14,
   "metadata": {
    "collapsed": false
   },
   "outputs": [
    {
     "data": {
      "text/plain": [
       "array([1, 0])"
      ]
     },
     "execution_count": 14,
     "metadata": {},
     "output_type": "execute_result"
    }
   ],
   "source": [
    "#Replacing the value -1 with 0\n",
    "df1[\"VOT\"] = df1[\"VOT\"].replace('-1',0)\n",
    "df1[\"VOT\"] = df1[\"VOT\"].replace('0',0)\n",
    "df1[\"VOT\"] = df1[\"VOT\"].replace('1',1)\n",
    "df1[\"VOT\"].unique()"
   ]
  },
  {
   "cell_type": "code",
   "execution_count": 15,
   "metadata": {
    "collapsed": false
   },
   "outputs": [
    {
     "data": {
      "text/html": [
       "<div>\n",
       "<table border=\"1\" class=\"dataframe\">\n",
       "  <thead>\n",
       "    <tr style=\"text-align: right;\">\n",
       "      <th></th>\n",
       "      <th>SRC</th>\n",
       "      <th>TGT</th>\n",
       "      <th>RES</th>\n",
       "      <th>YEA</th>\n",
       "      <th>DAT</th>\n",
       "      <th>TXT</th>\n",
       "      <th>VOT</th>\n",
       "    </tr>\n",
       "  </thead>\n",
       "  <tbody>\n",
       "    <tr>\n",
       "      <th>0</th>\n",
       "      <td>Steel1943</td>\n",
       "      <td>BDD</td>\n",
       "      <td>1</td>\n",
       "      <td>2013</td>\n",
       "      <td>23</td>\n",
       "      <td>'''Support''' as co-nom.</td>\n",
       "      <td>1</td>\n",
       "    </tr>\n",
       "    <tr>\n",
       "      <th>1</th>\n",
       "      <td>Cuchullain</td>\n",
       "      <td>BDD</td>\n",
       "      <td>1</td>\n",
       "      <td>2013</td>\n",
       "      <td>01</td>\n",
       "      <td>'''Support''' as nominator.--</td>\n",
       "      <td>1</td>\n",
       "    </tr>\n",
       "    <tr>\n",
       "      <th>2</th>\n",
       "      <td>INeverCry</td>\n",
       "      <td>BDD</td>\n",
       "      <td>1</td>\n",
       "      <td>2013</td>\n",
       "      <td>23</td>\n",
       "      <td>'''Support''' per noms.</td>\n",
       "      <td>1</td>\n",
       "    </tr>\n",
       "    <tr>\n",
       "      <th>3</th>\n",
       "      <td>Cncmaster</td>\n",
       "      <td>BDD</td>\n",
       "      <td>1</td>\n",
       "      <td>2013</td>\n",
       "      <td>00</td>\n",
       "      <td>'''Support''' per noms. BDD is a strong contri...</td>\n",
       "      <td>1</td>\n",
       "    </tr>\n",
       "    <tr>\n",
       "      <th>4</th>\n",
       "      <td>Miniapolis</td>\n",
       "      <td>BDD</td>\n",
       "      <td>1</td>\n",
       "      <td>2013</td>\n",
       "      <td>00</td>\n",
       "      <td>'''Support''', with great pleasure. I work wit...</td>\n",
       "      <td>1</td>\n",
       "    </tr>\n",
       "  </tbody>\n",
       "</table>\n",
       "</div>"
      ],
      "text/plain": [
       "          SRC  TGT RES   YEA DAT  \\\n",
       "0   Steel1943  BDD   1  2013  23   \n",
       "1  Cuchullain  BDD   1  2013  01   \n",
       "2   INeverCry  BDD   1  2013  23   \n",
       "3   Cncmaster  BDD   1  2013  00   \n",
       "4  Miniapolis  BDD   1  2013  00   \n",
       "\n",
       "                                                 TXT  VOT  \n",
       "0                           '''Support''' as co-nom.    1  \n",
       "1                      '''Support''' as nominator.--    1  \n",
       "2                            '''Support''' per noms.    1  \n",
       "3  '''Support''' per noms. BDD is a strong contri...    1  \n",
       "4  '''Support''', with great pleasure. I work wit...    1  "
      ]
     },
     "execution_count": 15,
     "metadata": {},
     "output_type": "execute_result"
    }
   ],
   "source": [
    "#Just rearranging columns to make VOT the last (target column)\n",
    "df1 = df1[['SRC', 'TGT', 'RES', 'YEA', 'DAT', 'TXT', 'VOT']]\n",
    "df1.head()\n"
   ]
  },
  {
   "cell_type": "code",
   "execution_count": 16,
   "metadata": {
    "collapsed": true
   },
   "outputs": [],
   "source": [
    "# End of part2-question2"
   ]
  },
  {
   "cell_type": "markdown",
   "metadata": {},
   "source": [
    "3\\. Put all of the text (TXT column) into a data frame called `X` and the target variable in a data frame called `Y`. Make a train/test split where you give 75% of the data to training. (2 points)"
   ]
  },
  {
   "cell_type": "code",
   "execution_count": 17,
   "metadata": {
    "collapsed": false
   },
   "outputs": [
    {
     "data": {
      "text/plain": [
       "0    1\n",
       "1    1\n",
       "2    1\n",
       "3    1\n",
       "4    1\n",
       "Name: VOT, dtype: int64"
      ]
     },
     "execution_count": 17,
     "metadata": {},
     "output_type": "execute_result"
    }
   ],
   "source": [
    "#Creating X and Y dataframes\n",
    "X = df1['TXT']\n",
    "Y = df1['VOT']\n",
    "X.head()\n",
    "Y.head()\n",
    "#type(Y)"
   ]
  },
  {
   "cell_type": "code",
   "execution_count": 18,
   "metadata": {
    "collapsed": false
   },
   "outputs": [],
   "source": [
    "#Splitting\n",
    "X_train, X_test, Y_train, Y_test = train_test_split(X, Y, test_size=0.25)\n",
    "#print x_test\n",
    "#print y_test"
   ]
  },
  {
   "cell_type": "code",
   "execution_count": 19,
   "metadata": {
    "collapsed": false
   },
   "outputs": [
    {
     "data": {
      "text/plain": [
       "'End of part2 question 3'"
      ]
     },
     "execution_count": 19,
     "metadata": {},
     "output_type": "execute_result"
    }
   ],
   "source": [
    "'''End of part2 question 3'''"
   ]
  },
  {
   "cell_type": "markdown",
   "metadata": {},
   "source": [
    "4\\. Create a binary `CountVectorizer()` and `TfidfVectorizer()`. Use the original single words as well as bigrams. Also, use an \"english\" stop word list. Fit these to the training data to extract a vocabulary and then transform both the train and test data. (3 points)"
   ]
  },
  {
   "cell_type": "code",
   "execution_count": 20,
   "metadata": {
    "collapsed": false
   },
   "outputs": [
    {
     "data": {
      "text/plain": [
       "' Creating the binary CountVectorizer() -> vectorizer  : '"
      ]
     },
     "execution_count": 20,
     "metadata": {},
     "output_type": "execute_result"
    }
   ],
   "source": [
    "''' Creating the binary CountVectorizer() -> vectorizer  : '''"
   ]
  },
  {
   "cell_type": "code",
   "execution_count": 21,
   "metadata": {
    "collapsed": false,
    "scrolled": false
   },
   "outputs": [
    {
     "data": {
      "text/plain": [
       "[u'direct fault',\n",
       " u'wikipedia surely',\n",
       " u'cautious closing',\n",
       " u'administrators focus',\n",
       " u'helpful wp',\n",
       " u'writers make',\n",
       " u'using know',\n",
       " u'policy saying',\n",
       " u'time swing',\n",
       " u'thinks right']"
      ]
     },
     "execution_count": 21,
     "metadata": {},
     "output_type": "execute_result"
    }
   ],
   "source": [
    "#Creating the binary CountVectorizer() -> vectorizer  : \n",
    "\n",
    "#Setting token_pattern = r'\\b\\w+\\b' to allow single character words\n",
    "#Setting ngram_range(1,2) for single words and bigrams\n",
    "#Setting stop_words='english' as asked\n",
    "\n",
    "vectorizer = CountVectorizer(binary=True,  ngram_range=(1, 2), stop_words='english')\n",
    "\n",
    "#fitting it(vectorizer) to train[\"TXT\"]\n",
    "vt1 = vectorizer.fit(X_train)\n",
    "\n",
    "#Extracting vocabulary\n",
    "vocab = vectorizer.vocabulary_\n",
    "\n",
    "list(vocab.keys())[0:10]\n"
   ]
  },
  {
   "cell_type": "code",
   "execution_count": 22,
   "metadata": {
    "collapsed": false
   },
   "outputs": [
    {
     "name": "stdout",
     "output_type": "stream",
     "text": [
      "n_samples: 148706, n_features: 616239\n"
     ]
    }
   ],
   "source": [
    "#Transforming train for Count Vectorizer\n",
    "X_train_binary = vectorizer.transform(X_train)\n",
    "\n",
    "print(\"n_samples: %d, n_features: %d\" % X_train_binary.shape)\n",
    "\n"
   ]
  },
  {
   "cell_type": "code",
   "execution_count": 23,
   "metadata": {
    "collapsed": false
   },
   "outputs": [
    {
     "name": "stdout",
     "output_type": "stream",
     "text": [
      "n_samples: 49569, n_features: 616239\n"
     ]
    }
   ],
   "source": [
    "#Transforming test for Count Vectorizer\n",
    "X_test_binary = vectorizer.transform(X_test)\n",
    "\n",
    "print(\"n_samples: %d, n_features: %d\" % X_test_binary.shape)\n",
    "\n",
    "\n"
   ]
  },
  {
   "cell_type": "code",
   "execution_count": 24,
   "metadata": {
    "collapsed": false
   },
   "outputs": [
    {
     "data": {
      "text/plain": [
       "' Creating the binary tfidfVectorizer() -> tvectorizer  : '"
      ]
     },
     "execution_count": 24,
     "metadata": {},
     "output_type": "execute_result"
    }
   ],
   "source": [
    "''' Creating the binary tfidfVectorizer() -> tvectorizer  : '''"
   ]
  },
  {
   "cell_type": "code",
   "execution_count": 25,
   "metadata": {
    "collapsed": false
   },
   "outputs": [
    {
     "data": {
      "text/plain": [
       "[u'direct fault',\n",
       " u'wikipedia surely',\n",
       " u'cautious closing',\n",
       " u'administrators focus',\n",
       " u'helpful wp',\n",
       " u'writers make',\n",
       " u'using know',\n",
       " u'policy saying',\n",
       " u'time swing',\n",
       " u'thinks right']"
      ]
     },
     "execution_count": 25,
     "metadata": {},
     "output_type": "execute_result"
    }
   ],
   "source": [
    "#tfidf vectorizer :\n",
    "\n",
    "#Setting token_pattern = r'\\b\\w+\\b' to allow single character words\n",
    "#Setting ngram_range(1,2) for single words and bigrams\n",
    "#Setting stop_words='english' as asked\n",
    "\n",
    "\n",
    "tvectorizer = TfidfVectorizer(ngram_range=(1, 2), stop_words='english')\n",
    "\n",
    "tfidf_matrix = tvectorizer.fit(X_train)\n",
    "\n",
    "#Extracting vocabulary\n",
    "tvocab = tvectorizer.vocabulary_\n",
    "\n",
    "list(tvocab.keys())[0:10]"
   ]
  },
  {
   "cell_type": "code",
   "execution_count": 26,
   "metadata": {
    "collapsed": false
   },
   "outputs": [
    {
     "name": "stdout",
     "output_type": "stream",
     "text": [
      "n_samples: 148706, n_features: 616239\n"
     ]
    }
   ],
   "source": [
    "#Transforming train for tfidf vectorizer\n",
    "X_train_tfidf = tvectorizer.transform(X_train)\n",
    "\n",
    "print(\"n_samples: %d, n_features: %d\" % X_train_tfidf.shape)"
   ]
  },
  {
   "cell_type": "code",
   "execution_count": 27,
   "metadata": {
    "collapsed": false
   },
   "outputs": [
    {
     "name": "stdout",
     "output_type": "stream",
     "text": [
      "n_samples: 49569, n_features: 616239\n"
     ]
    }
   ],
   "source": [
    "#Transforming test for tfidf vectorizer\n",
    "X_test_tfidf = tvectorizer.transform(X_test)\n",
    "\n",
    "print(\"n_samples: %d, n_features: %d\" % X_test_tfidf.shape)"
   ]
  },
  {
   "cell_type": "code",
   "execution_count": 28,
   "metadata": {
    "collapsed": false
   },
   "outputs": [
    {
     "data": {
      "text/plain": [
       "0"
      ]
     },
     "execution_count": 28,
     "metadata": {},
     "output_type": "execute_result"
    }
   ],
   "source": [
    "#Just showing that the vocabulary extract using CountVectorizer and tfidfVectorizer are the same.\n",
    "\n",
    "cmp(vocab, tvocab)"
   ]
  },
  {
   "cell_type": "markdown",
   "metadata": {},
   "source": [
    "5\\. Create `LogisticRegression()` and `BernoulliNB()` models. For all settings, keep the default values. In a single plot, show the AUC curve for both classifiers and both the binary and tfidf feature sets. In the legend, include the area under the ROC curve (AUC). Do not forget to label your axes. Your final plot will be a single window with 4 curves.\n",
    "\n",
    "Which model do you think does a better job? Why? Explain in no more than a paragraph. (3 points)"
   ]
  },
  {
   "cell_type": "code",
   "execution_count": 47,
   "metadata": {
    "collapsed": false
   },
   "outputs": [],
   "source": [
    "%matplotlib inline\n",
    "plt.rcParams['figure.figsize'] = 10, 8\n",
    "\n",
    "np.random.seed(36)\n",
    "\n",
    "tprs = []\n",
    "fprs = []\n",
    "roc_labels = []"
   ]
  },
  {
   "cell_type": "code",
   "execution_count": 48,
   "metadata": {
    "collapsed": false
   },
   "outputs": [
    {
     "name": "stdout",
     "output_type": "stream",
     "text": [
      "Area for binary = 0.958\n"
     ]
    }
   ],
   "source": [
    "#binary logistic regression() -> lr_binary\n",
    "\n",
    "lr_binary = LogisticRegression()\n",
    "lr_binary.fit(X_train_binary, Y_train)\n",
    "\n",
    "print(\"Area for binary = %.3f\" % metrics.roc_auc_score(lr_binary.predict(X_test_binary), Y_test))\n",
    "\n",
    "fpr, tpr, thresholds = metrics.roc_curve(Y_test, lr_binary.predict_proba(X_test_binary)[:,1])\n",
    "tprs.append(tpr)\n",
    "fprs.append(fpr)\n",
    "roc_auc_binary = metrics.auc(fpr, tpr)\n",
    "roc_labels.append(\"LR Binary= %0.4f\" %roc_auc_binary)\n",
    "\n"
   ]
  },
  {
   "cell_type": "code",
   "execution_count": 49,
   "metadata": {
    "collapsed": false
   },
   "outputs": [
    {
     "name": "stdout",
     "output_type": "stream",
     "text": [
      "Area for tfidf = 0.955\n"
     ]
    }
   ],
   "source": [
    "#tfidf logistic regression() -> lr_tfidf\n",
    "\n",
    "lr_tfidf = LogisticRegression()\n",
    "lr_tfidf.fit(X_train_tfidf, Y_train)\n",
    "\n",
    "print(\"Area for tfidf = %.3f\" % metrics.roc_auc_score(lr_tfidf.predict(X_test_tfidf), Y_test))\n",
    "\n",
    "fpr, tpr, thresholds = metrics.roc_curve(Y_test, lr_tfidf.predict_proba(X_test_tfidf)[:,1])\n",
    "tprs.append(tpr)\n",
    "fprs.append(fpr)\n",
    "roc_auc_tfidf = metrics.auc(fpr, tpr)\n",
    "roc_labels.append(\"LR Tfidf= %0.4f\" %roc_auc_tfidf)\n",
    "\n"
   ]
  },
  {
   "cell_type": "code",
   "execution_count": 50,
   "metadata": {
    "collapsed": false
   },
   "outputs": [
    {
     "name": "stdout",
     "output_type": "stream",
     "text": [
      "AUC for binary = 0.829\n"
     ]
    }
   ],
   "source": [
    "#binary BernoulliNB() -> bnb_binary\n",
    "\n",
    "bnb_binary = BernoulliNB()\n",
    "bnb_binary.fit(X_train_binary, Y_train)\n",
    "\n",
    "print(\"AUC for binary = %.3f\" % metrics.roc_auc_score(bnb_binary.predict(X_test_binary), Y_test))\n",
    "\n",
    "fpr, tpr, thresholds = metrics.roc_curve(Y_test, bnb_binary.predict_proba(X_test_binary)[:,1])\n",
    "tprs.append(tpr)\n",
    "fprs.append(fpr)\n",
    "roc_auc_binary_bern = metrics.auc(fpr, tpr)\n",
    "roc_labels.append(\"Bernoulli Binary= %0.4f\"%roc_auc_binary_bern)\n",
    "\n"
   ]
  },
  {
   "cell_type": "code",
   "execution_count": 51,
   "metadata": {
    "collapsed": false
   },
   "outputs": [
    {
     "name": "stdout",
     "output_type": "stream",
     "text": [
      "AUC for tfidf = 0.829\n"
     ]
    }
   ],
   "source": [
    "#tfidf bernoulli NB() -> bnb_tfidf\n",
    "\n",
    "bnb_tfidf = BernoulliNB()\n",
    "bnb_tfidf.fit(X_train_tfidf, Y_train)\n",
    "\n",
    "print(\"AUC for tfidf = %.3f\" % metrics.roc_auc_score(bnb_tfidf.predict(X_test_tfidf), Y_test))\n",
    "\n",
    "fpr, tpr, thresholds = metrics.roc_curve(Y_test, bnb_tfidf.predict_proba(X_test_tfidf)[:,1])\n",
    "tprs.append(tpr)\n",
    "fprs.append(fpr)\n",
    "roc_auc_tfidf_bern = metrics.auc(fpr, tpr)\n",
    "roc_labels.append(\"Bernoulli Tfidf= %0.4f\"%roc_auc_tfidf_bern)\n",
    "\n"
   ]
  },
  {
   "cell_type": "code",
   "execution_count": 53,
   "metadata": {
    "collapsed": false
   },
   "outputs": [
    {
     "data": {
      "image/png": "[encoded data removed]",
      "text/plain": [
       "<matplotlib.figure.Figure at 0x13b834790>"
      ]
     },
     "metadata": {},
     "output_type": "display_data"
    },
    {
     "data": {
      "text/plain": [
       "'Note : Since Bernoulli Binary and Tfidf both have same AUC, a single plot (light green) identifies both'"
      ]
     },
     "execution_count": 53,
     "metadata": {},
     "output_type": "execute_result"
    }
   ],
   "source": [
    "#Plotting graph\n",
    "\n",
    "for fpr, tpr, roc_label in zip(fprs, tprs, roc_labels):\n",
    "    plt.plot(fpr, tpr, label=roc_label)\n",
    "\n",
    "plt.xlabel(\"fpr\")\n",
    "plt.ylabel(\"tpr\")\n",
    "plt.title(\"ROC Curves\")\n",
    "plt.legend()\n",
    "plt.xlim([0.0, 1.0])\n",
    "plt.ylim([0.5, 1.0])\n",
    "plt.show()\n",
    "\n",
    "'''Note : Since Bernoulli Binary and Tfidf both have same AUC, a single plot (light green) identifies both'''"
   ]
  },
  {
   "cell_type": "code",
   "execution_count": 58,
   "metadata": {
    "collapsed": false
   },
   "outputs": [
    {
     "data": {
      "text/plain": [
       "' Here, Linear Regression, both binary and tfidf give better results than bernoulli. \\nThis may be because of the large size of dataset which is handled better by Linear Regression than Bernoulli. \\nAlso, Bernoulli tends to have higher error rates than Linear Regression. '"
      ]
     },
     "execution_count": 58,
     "metadata": {},
     "output_type": "execute_result"
    }
   ],
   "source": [
    "''' Here, Linear Regression, both binary and tfidf give better results than bernoulli. \n",
    "This may be because of the large size of dataset which is handled better by Linear Regression than Bernoulli. \n",
    "Also, Bernoulli tends to have higher error rates than Linear Regression. '''"
   ]
  },
  {
   "cell_type": "markdown",
   "metadata": {},
   "source": [
    "### Part 3: Network analysis and visualization (10 points)\n",
    "\n",
    "In this part of the assignment we will analyze basic characteristics of the same Wikipedia network used in Part 2.\n"
   ]
  },
  {
   "cell_type": "markdown",
   "metadata": {},
   "source": [
    "1. Prepare an edgefile for importing. First, map the node names to integer values. For data values, let's just start with the VOT column value. (2 points)"
   ]
  },
  {
   "cell_type": "code",
   "execution_count": 59,
   "metadata": {
    "collapsed": false
   },
   "outputs": [
    {
     "data": {
      "text/plain": [
       "SRC    196614\n",
       "TGT    196614\n",
       "RES    196614\n",
       "YEA    196614\n",
       "DAT    196614\n",
       "TXT    196614\n",
       "VOT    196614\n",
       "dtype: int64"
      ]
     },
     "execution_count": 59,
     "metadata": {},
     "output_type": "execute_result"
    }
   ],
   "source": [
    "# Removing rows of df1 that are empty in 'SRC' column (1661 such rows found and deleted)\n",
    "df1 = df1.replace({'SRC': {'': np.nan}}).dropna(subset=['SRC'])\n",
    "df1.count()"
   ]
  },
  {
   "cell_type": "code",
   "execution_count": 60,
   "metadata": {
    "collapsed": false
   },
   "outputs": [
    {
     "name": "stdout",
     "output_type": "stream",
     "text": [
      "TGT_SRC_allwords    3491\n",
      "dtype: int64\n"
     ]
    },
    {
     "data": {
      "text/plain": [
       "TGT_SRC_allwords    10415\n",
       "dtype: int64"
      ]
     },
     "execution_count": 60,
     "metadata": {},
     "output_type": "execute_result"
    }
   ],
   "source": [
    "#Finding unique values of TGT as a new dataframe\n",
    "unique_tgt = df1[\"TGT\"].unique()\n",
    "unique_tgt_df = DataFrame(unique_tgt, columns=[\"TGT_SRC_allwords\"])\n",
    "\n",
    "\n",
    "#Finding unique values of SRC as a new dataframe\n",
    "unique_src = df1[\"SRC\"].unique()\n",
    "unique_src_df = DataFrame(unique_src, columns=[\"TGT_SRC_allwords\"])\n",
    "\n",
    "\n",
    "print unique_tgt_df.count() ; unique_src_df.count()\n",
    "\n",
    "#Unique TGT and SRC words respectively (3491, 10415)"
   ]
  },
  {
   "cell_type": "code",
   "execution_count": 61,
   "metadata": {
    "collapsed": false
   },
   "outputs": [
    {
     "name": "stdout",
     "output_type": "stream",
     "text": [
      "TGT_SRC_allwords    13906\n",
      "dtype: int64\n",
      "\n",
      "\n",
      " After removing duplicates : \n",
      "\n",
      "\n",
      "TGT_SRC_allwords    11376\n",
      "dtype: int64\n"
     ]
    }
   ],
   "source": [
    "#Appending unique_tgt_df to unique_src_df to get the collection of all unique words as a df\n",
    "unique_df_words = unique_src_df.append(unique_tgt_df, ignore_index=True)\n",
    "\n",
    "#Remove duplicates\n",
    "unique_df_words_noduplicates = unique_df_words.drop_duplicates()\n",
    "\n",
    "\n",
    "print unique_df_words.count()\n",
    "print \"\\n\"\n",
    "print ''' After removing duplicates : '''\n",
    "print \"\\n\"\n",
    "print unique_df_words_noduplicates.count()\n",
    "\n",
    "\n",
    "#i.e. 13906 - 11376 = 2530 duplicates"
   ]
  },
  {
   "cell_type": "code",
   "execution_count": 62,
   "metadata": {
    "collapsed": false
   },
   "outputs": [
    {
     "name": "stdout",
     "output_type": "stream",
     "text": [
      "SRC_TGT_allwords    11376\n",
      "code                11376\n",
      "dtype: int64\n"
     ]
    },
    {
     "data": {
      "text/html": [
       "<div>\n",
       "<table border=\"1\" class=\"dataframe\">\n",
       "  <thead>\n",
       "    <tr style=\"text-align: right;\">\n",
       "      <th></th>\n",
       "      <th>SRC_TGT_allwords</th>\n",
       "      <th>code</th>\n",
       "    </tr>\n",
       "  </thead>\n",
       "  <tbody>\n",
       "    <tr>\n",
       "      <th>0</th>\n",
       "      <td>Scienceman123</td>\n",
       "      <td>10747</td>\n",
       "    </tr>\n",
       "    <tr>\n",
       "      <th>1</th>\n",
       "      <td>Mkamensek</td>\n",
       "      <td>8117</td>\n",
       "    </tr>\n",
       "    <tr>\n",
       "      <th>2</th>\n",
       "      <td>Dcheagle</td>\n",
       "      <td>1253</td>\n",
       "    </tr>\n",
       "  </tbody>\n",
       "</table>\n",
       "</div>"
      ],
      "text/plain": [
       "  SRC_TGT_allwords   code\n",
       "0    Scienceman123  10747\n",
       "1        Mkamensek   8117\n",
       "2         Dcheagle   1253"
      ]
     },
     "execution_count": 62,
     "metadata": {},
     "output_type": "execute_result"
    }
   ],
   "source": [
    "#Generating mapping (mapping unique SRC and TGT(names) to integer values)\n",
    "mapping = {k: v for v, k in enumerate(unique_df_words_noduplicates[\"TGT_SRC_allwords\"].unique())}\n",
    "\n",
    "\n",
    "#Changing the mapping (unique SRC and TGT name,code as corresponding int values) from dict to pd dataframe with separate\n",
    "#columns for ease of use later\n",
    "\n",
    "mapped = pd.DataFrame(mapping.items(), columns=['SRC_TGT_allwords', 'code'])\n",
    "\n",
    "print mapped.count() ; mapped.head(3)\n",
    "\n",
    "#i.e. all the 11376 unique words contained in SRC and TGT combined are mapped to integers"
   ]
  },
  {
   "cell_type": "code",
   "execution_count": 63,
   "metadata": {
    "collapsed": false
   },
   "outputs": [
    {
     "name": "stdout",
     "output_type": "stream",
     "text": [
      "Index([u'SRC', u'TGT', u'VOT'], dtype='object')\n",
      "SRC    196614\n",
      "TGT    196614\n",
      "VOT    196614\n",
      "dtype: int64\n"
     ]
    },
    {
     "data": {
      "text/html": [
       "<div>\n",
       "<table border=\"1\" class=\"dataframe\">\n",
       "  <thead>\n",
       "    <tr style=\"text-align: right;\">\n",
       "      <th></th>\n",
       "      <th>SRC</th>\n",
       "      <th>TGT</th>\n",
       "      <th>VOT</th>\n",
       "    </tr>\n",
       "  </thead>\n",
       "  <tbody>\n",
       "    <tr>\n",
       "      <th>0</th>\n",
       "      <td>Steel1943</td>\n",
       "      <td>BDD</td>\n",
       "      <td>1</td>\n",
       "    </tr>\n",
       "    <tr>\n",
       "      <th>1</th>\n",
       "      <td>Cuchullain</td>\n",
       "      <td>BDD</td>\n",
       "      <td>1</td>\n",
       "    </tr>\n",
       "    <tr>\n",
       "      <th>2</th>\n",
       "      <td>INeverCry</td>\n",
       "      <td>BDD</td>\n",
       "      <td>1</td>\n",
       "    </tr>\n",
       "  </tbody>\n",
       "</table>\n",
       "</div>"
      ],
      "text/plain": [
       "          SRC  TGT  VOT\n",
       "0   Steel1943  BDD    1\n",
       "1  Cuchullain  BDD    1\n",
       "2   INeverCry  BDD    1"
      ]
     },
     "execution_count": 63,
     "metadata": {},
     "output_type": "execute_result"
    }
   ],
   "source": [
    "#Picking columns from df1 for the EDGE file (SRC, TGT, VOT)\n",
    "df_for_edgelist = pd.DataFrame()\n",
    "df_for_edgelist[[\"SRC\", \"TGT\", \"VOT\"]] = df1[[\"SRC\", \"TGT\", \"VOT\"]]\n",
    "\n",
    "#Creating a copy of the EDGE file for : mapped values(integers)\n",
    "edgefile_mapped = pd.DataFrame()\n",
    "edgefile_mapped[[\"SRC\", \"TGT\", \"VOT\"]]= df_for_edgelist[[\"SRC\", \"TGT\", \"VOT\"]]\n",
    "\n",
    "print df_for_edgelist.columns \n",
    "\n",
    "print df_for_edgelist.count() ; df_for_edgelist.head(3)"
   ]
  },
  {
   "cell_type": "code",
   "execution_count": 64,
   "metadata": {
    "collapsed": false
   },
   "outputs": [],
   "source": [
    "#Creating a mapped dictionary of words and the codes(mapped integers)\n",
    "words_dict = dict(zip(mapped.SRC_TGT_allwords, mapped.code))\n"
   ]
  },
  {
   "cell_type": "code",
   "execution_count": 65,
   "metadata": {
    "collapsed": false
   },
   "outputs": [],
   "source": [
    "#Replacing TGT words in the copy of EDGE file dataframe by the mapped integers (takes around 3 minutes)\n",
    "edgefile_mapped.TGT = edgefile_mapped.TGT.replace(words_dict)"
   ]
  },
  {
   "cell_type": "code",
   "execution_count": 66,
   "metadata": {
    "collapsed": false
   },
   "outputs": [],
   "source": [
    "#Replacing SRC words in the copy of EDGE file dataframe by the mapped integers (takes around 5 minutes)\n",
    "edgefile_mapped.SRC = edgefile_mapped.SRC.replace(words_dict)\n"
   ]
  },
  {
   "cell_type": "code",
   "execution_count": 67,
   "metadata": {
    "collapsed": false
   },
   "outputs": [
    {
     "name": "stdout",
     "output_type": "stream",
     "text": [
      "SRC    196614\n",
      "TGT    196614\n",
      "VOT    196614\n",
      "dtype: int64\n"
     ]
    },
    {
     "data": {
      "text/html": [
       "<div>\n",
       "<table border=\"1\" class=\"dataframe\">\n",
       "  <thead>\n",
       "    <tr style=\"text-align: right;\">\n",
       "      <th></th>\n",
       "      <th>SRC</th>\n",
       "      <th>TGT</th>\n",
       "      <th>VOT</th>\n",
       "    </tr>\n",
       "  </thead>\n",
       "  <tbody>\n",
       "    <tr>\n",
       "      <th>0</th>\n",
       "      <td>0</td>\n",
       "      <td>488</td>\n",
       "      <td>1</td>\n",
       "    </tr>\n",
       "    <tr>\n",
       "      <th>1</th>\n",
       "      <td>1</td>\n",
       "      <td>488</td>\n",
       "      <td>1</td>\n",
       "    </tr>\n",
       "    <tr>\n",
       "      <th>2</th>\n",
       "      <td>2</td>\n",
       "      <td>488</td>\n",
       "      <td>1</td>\n",
       "    </tr>\n",
       "    <tr>\n",
       "      <th>3</th>\n",
       "      <td>3</td>\n",
       "      <td>488</td>\n",
       "      <td>1</td>\n",
       "    </tr>\n",
       "    <tr>\n",
       "      <th>4</th>\n",
       "      <td>4</td>\n",
       "      <td>488</td>\n",
       "      <td>1</td>\n",
       "    </tr>\n",
       "  </tbody>\n",
       "</table>\n",
       "</div>"
      ],
      "text/plain": [
       "   SRC  TGT  VOT\n",
       "0    0  488    1\n",
       "1    1  488    1\n",
       "2    2  488    1\n",
       "3    3  488    1\n",
       "4    4  488    1"
      ]
     },
     "execution_count": 67,
     "metadata": {},
     "output_type": "execute_result"
    }
   ],
   "source": [
    "print edgefile_mapped.count(); edgefile_mapped.head()\n"
   ]
  },
  {
   "cell_type": "code",
   "execution_count": 68,
   "metadata": {
    "collapsed": true
   },
   "outputs": [],
   "source": [
    "np.savetxt('edge2.EDGE', edgefile_mapped.values, fmt='%5s', delimiter=\" \")"
   ]
  },
  {
   "cell_type": "code",
   "execution_count": 69,
   "metadata": {
    "collapsed": false
   },
   "outputs": [
    {
     "data": {
      "text/plain": [
       "1    143879\n",
       "0     52735\n",
       "Name: VOT, dtype: int64"
      ]
     },
     "execution_count": 69,
     "metadata": {},
     "output_type": "execute_result"
    }
   ],
   "source": [
    "edgefile_mapped['VOT'].value_counts()"
   ]
  },
  {
   "cell_type": "code",
   "execution_count": 70,
   "metadata": {
    "collapsed": false
   },
   "outputs": [
    {
     "data": {
      "text/plain": [
       "SRC    196614\n",
       "TGT    196614\n",
       "VOT    196614\n",
       "dtype: int64"
      ]
     },
     "execution_count": 70,
     "metadata": {},
     "output_type": "execute_result"
    }
   ],
   "source": [
    "edgefile_mapped.count()"
   ]
  },
  {
   "cell_type": "code",
   "execution_count": 71,
   "metadata": {
    "collapsed": false
   },
   "outputs": [],
   "source": [
    "#Saving mapped as EDGE files (for future graph use)\n",
    "np.savetxt('edge_mappedx1.EDGE', edgefile_mapped.values, fmt='%5s', delimiter=\" \")\n",
    "np.savetxt('edge_wordsx1.EDGE', df_for_edgelist.values, fmt='%5s', delimiter=\" \")\n"
   ]
  },
  {
   "cell_type": "code",
   "execution_count": 94,
   "metadata": {
    "collapsed": false
   },
   "outputs": [],
   "source": [
    "#cat edge_mappedx1.EDGE"
   ]
  },
  {
   "cell_type": "code",
   "execution_count": 73,
   "metadata": {
    "collapsed": true
   },
   "outputs": [],
   "source": [
    "#End of part 3 Question 1"
   ]
  },
  {
   "cell_type": "markdown",
   "metadata": {
    "collapsed": true
   },
   "source": [
    "2\\. Now load the data as a graph object called 'Gwik'. (1 point)"
   ]
  },
  {
   "cell_type": "code",
   "execution_count": 74,
   "metadata": {
    "collapsed": false
   },
   "outputs": [],
   "source": [
    "import pandas as pd\n",
    "import networkx as nx\n",
    "from networkx import *\n",
    "from datetime import datetime\n",
    "import matplotlib.pyplot as plt\n",
    "import numpy.random as npr\n",
    "import numpy as np\n",
    "import warnings\n",
    "import pylab as plt\n",
    "#from graph_tool.all import *\n",
    "\n",
    "#import pygraphviz as pgv"
   ]
  },
  {
   "cell_type": "code",
   "execution_count": 75,
   "metadata": {
    "collapsed": false
   },
   "outputs": [],
   "source": [
    "Gwik=nx.DiGraph()\n",
    "fh=open(\"edge_mappedx1.EDGE\", 'rb')\n",
    "Gwik = nx.parse_edgelist(fh, data=(('weight',float),))\n",
    "fh.close()"
   ]
  },
  {
   "cell_type": "markdown",
   "metadata": {},
   "source": [
    "3\\. Confirm the number of nodes and edges in the graph object. (2 points)"
   ]
  },
  {
   "cell_type": "code",
   "execution_count": 76,
   "metadata": {
    "collapsed": false
   },
   "outputs": [
    {
     "name": "stdout",
     "output_type": "stream",
     "text": [
      "('num_of_nodes :', 11376)\n",
      "\n",
      "\n",
      "('num_of_edges :', 181073)\n"
     ]
    }
   ],
   "source": [
    "num_of_nodes = number_of_nodes(Gwik)\n",
    "num_of_edges = number_of_edges(Gwik)\n",
    "\n",
    "print (\"num_of_nodes :\" , num_of_nodes )\n",
    "\n",
    "print \"\\n\"\n",
    "print (\"num_of_edges :\" , num_of_edges)"
   ]
  },
  {
   "cell_type": "markdown",
   "metadata": {},
   "source": [
    "4\\. Compute the degree, betweneess and closeness centrality measures for the graph. Are all 3 meaningful here given what you know about the nodes and edges? (2 points)"
   ]
  },
  {
   "cell_type": "code",
   "execution_count": 77,
   "metadata": {
    "collapsed": false
   },
   "outputs": [
    {
     "data": {
      "text/plain": [
       "'Degree centrality is meaningful in the context here since it gives the importance score of each node based on how\\nmany links it has to other nodes. What it means here is, higher the degree centrality score of a node, more proportion/\\nnumber of RfAs the subsequent person/SRC has submitted (more number of votes by the person/SRC) '"
      ]
     },
     "execution_count": 77,
     "metadata": {},
     "output_type": "execute_result"
    }
   ],
   "source": [
    "'''Degree centrality is meaningful in the context here since it gives the importance score of each node based on how\n",
    "many links it has to other nodes. What it means here is, higher the degree centrality score of a node, more proportion/\n",
    "number of RfAs the subsequent person/SRC has submitted (more number of votes by the person/SRC) '''\n"
   ]
  },
  {
   "cell_type": "code",
   "execution_count": 78,
   "metadata": {
    "collapsed": false
   },
   "outputs": [],
   "source": [
    "deg_centrality = degree_centrality(Gwik)"
   ]
  },
  {
   "cell_type": "code",
   "execution_count": 79,
   "metadata": {
    "collapsed": false
   },
   "outputs": [
    {
     "data": {
      "text/plain": [
       "'Betweeness centrality gives an importance score which \\nin the context means tells us, how many/proportion of votes a person x who is voted \\nfor/against submits votes of his own. This information may show the participation of votees'"
      ]
     },
     "execution_count": 79,
     "metadata": {},
     "output_type": "execute_result"
    }
   ],
   "source": [
    "'''Betweeness centrality gives an importance score which \n",
    "in the context means tells us, how many/proportion of votes a person x who is voted \n",
    "for/against submits votes of his own. This information may show the participation of votees'''"
   ]
  },
  {
   "cell_type": "code",
   "execution_count": 80,
   "metadata": {
    "collapsed": false
   },
   "outputs": [],
   "source": [
    "bet_centrality = betweenness_centrality(Gwik) #20 mins"
   ]
  },
  {
   "cell_type": "code",
   "execution_count": 81,
   "metadata": {
    "collapsed": false
   },
   "outputs": [
    {
     "data": {
      "text/plain": [
       "'Closeness centrality tells us the importance score of each node based on the shortest distance from that node to \\nevery other node in the graph. In context it means that, given I am a node,\\nhow many influences/votes my votees(who I voted for) have submitted. This can help map the vote behavior persons,\\nfor example, whether the voters and votees happen to vote for each other, i.e. voting for fellow friends.\\n'"
      ]
     },
     "execution_count": 81,
     "metadata": {},
     "output_type": "execute_result"
    }
   ],
   "source": [
    "'''Closeness centrality tells us the importance score of each node based on the shortest distance from that node to \n",
    "every other node in the graph. In context it means that, given I am a node,\n",
    "how many influences/votes my votees(who I voted for) have submitted. This can help map the vote behavior persons,\n",
    "for example, whether the voters and votees happen to vote for each other, i.e. voting for fellow friends.\n",
    "'''"
   ]
  },
  {
   "cell_type": "code",
   "execution_count": 82,
   "metadata": {
    "collapsed": false
   },
   "outputs": [],
   "source": [
    "close_centrality = closeness_centrality(Gwik, normalized=True) #12 mins"
   ]
  },
  {
   "cell_type": "code",
   "execution_count": 91,
   "metadata": {
    "collapsed": false
   },
   "outputs": [
    {
     "name": "stdout",
     "output_type": "stream",
     "text": [
      "{'5988': 0.00017582417582417582, '5989': 0.0007032967032967033, '5982': 0.0012307692307692308, '3480': 8.791208791208791e-05, '5980': 0.00035164835164835164, '5981': 0.0006153846153846154, '5986': 0.0007032967032967033, '5987': 0.00017582417582417582, '5984': 0.0002637362637362637, '5983': 0.0043076923076923075}\n"
     ]
    }
   ],
   "source": [
    "print dict(deg_centrality.items()[0:10])"
   ]
  },
  {
   "cell_type": "code",
   "execution_count": 92,
   "metadata": {
    "collapsed": false
   },
   "outputs": [
    {
     "name": "stdout",
     "output_type": "stream",
     "text": [
      "{'5988': 2.975337474422694e-08, '5989': 1.9086656419082558e-07, '5982': 1.2582336380510461e-06, '3480': 0.0, '5980': 2.209070552941549e-08, '5981': 5.417546494302896e-07, '5986': 4.0270819625838227e-07, '5987': 1.4906306613717334e-08, '5984': 1.1776009080216344e-07, '5983': 0.0002264887081436705}\n"
     ]
    }
   ],
   "source": [
    "print dict(bet_centrality.items()[0:10])"
   ]
  },
  {
   "cell_type": "code",
   "execution_count": 93,
   "metadata": {
    "collapsed": false
   },
   "outputs": [
    {
     "name": "stdout",
     "output_type": "stream",
     "text": [
      "{'5988': 0.2724877230806085, '5989': 0.3138104171264621, '5982': 0.31270617989883437, '3480': 0.2809890815671163, '5980': 0.2832914103553906, '5981': 0.301988477978071, '5986': 0.303770763232388, '5987': 0.2656965336821452, '5984': 0.2957003223458459, '5983': 0.35101524409060053}\n"
     ]
    }
   ],
   "source": [
    "print dict(close_centrality.items()[0:10])"
   ]
  },
  {
   "cell_type": "code",
   "execution_count": null,
   "metadata": {
    "collapsed": true
   },
   "outputs": [],
   "source": []
  },
  {
   "cell_type": "markdown",
   "metadata": {},
   "source": [
    "5\\. Now visualize the graph. How do you visualize the edges to communicate vote values? (1 point)"
   ]
  },
  {
   "cell_type": "code",
   "execution_count": 86,
   "metadata": {
    "collapsed": false
   },
   "outputs": [
    {
     "data": {
      "image/png": "[encoded data removed]",
      "text/plain": [
       "<matplotlib.figure.Figure at 0x13c313c90>"
      ]
     },
     "metadata": {},
     "output_type": "display_data"
    }
   ],
   "source": [
    "nx.draw(Gwik, node_size=8)\n",
    "plt.savefig('graphsx1.png') # takes 6 mins"
   ]
  },
  {
   "cell_type": "code",
   "execution_count": null,
   "metadata": {
    "collapsed": true
   },
   "outputs": [],
   "source": [
    "                                            The End"
   ]
  }
 ],
 "metadata": {
  "kernelspec": {
   "display_name": "Python 2",
   "language": "python",
   "name": "python2"
  },
  "language_info": {
   "codemirror_mode": {
    "name": "ipython",
    "version": 2
   },
   "file_extension": ".py",
   "mimetype": "text/x-python",
   "name": "python",
   "nbconvert_exporter": "python",
   "pygments_lexer": "ipython2",
   "version": "2.7.13"
  }
 },
 "nbformat": 4,
 "nbformat_minor": 1
}
