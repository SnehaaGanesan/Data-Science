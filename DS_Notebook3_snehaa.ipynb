{
 "cells": [
  {
   "cell_type": "markdown",
   "metadata": {},
   "source": [
    "\n",
    "# Data Science Course Work\n"
   ]
  },
  {
   "cell_type": "markdown",
   "metadata": {},
   "source": [
    "### Snehaa Ganesan\n",
    "### sg4860@nyu.edu\n",
    "***"
   ]
  },
  {
   "cell_type": "markdown",
   "metadata": {},
   "source": [
    "### Part 1 - Preparing a Training Set and Training a Decision Tree (Total 10 Points)\n",
    "This is a hands-on task where we build a predictive model using Decision Trees discussed in class. For this part, we will be using the data in `cell2cell_data.csv` (you can find this on NYU Classes).\n",
    "\n",
    "These historical data consist of 39,859 customers: 19,901 customers that churned (i.e., left the company) and 19,958 that did not churn (see the `\"churndep\"` variable). Here are the data set's 11 possible predictor variables for churning behavior: \n",
    "\n",
    "```\n",
    "Pos.  Var. Name  Var. Description\n",
    "----- ---------- --------------------------------------------------------------\n",
    "1     revenue    Mean monthly revenue in dollars\n",
    "2     outcalls   Mean number of outbound voice calls\n",
    "3     incalls    Mean number of inbound voice calls\n",
    "4     months     Months in Service\n",
    "5     eqpdays    Number of days the customer has had his/her current equipment\n",
    "6     webcap     Handset is web capable\n",
    "7     marryyes   Married (1=Yes; 0=No)\n",
    "8     travel     Has traveled to non-US country (1=Yes; 0=No)\n",
    "9     pcown      Owns a personal computer (1=Yes; 0=No)\n",
    "10    creditcd   Possesses a credit card (1=Yes; 0=No)\n",
    "11    retcalls   Number of calls previously made to retention team\n",
    "```\n",
    "\n",
    "The 12th column, the dependent variable `\"churndep\"`, equals 1 if the customer churned, and 0 otherwise. "
   ]
  },
  {
   "cell_type": "markdown",
   "metadata": {},
   "source": [
    "1\\. Load the data and prepare it for modeling. Note that the features are already processed for you, so the only thing needed here is split the data into training and testing. Use pandas to create two data frames: train_df and test_df, where train_df has 80% of the data chosen uniformly at random without replacement (test_df should have the other 20%). Also, make sure to write your own code to do the splits. You may use any random() function numpy but do not use the data splitting functions from Sklearn.<br><br>\n",
    "\n",
    "(2 Points)"
   ]
  },
  {
   "cell_type": "code",
   "execution_count": 69,
   "metadata": {
    "collapsed": false
   },
   "outputs": [],
   "source": [
    "#Place your code here\n",
    "\n",
    "#importing relevant libraries\n",
    "import pandas as pd\n",
    "import numpy \n",
    "from pandas import DataFrame\n",
    "import os\n",
    "from os import system\n",
    "\n",
    "#Loading the csv file using pandas dataframe\n",
    "df = pd.read_csv('Cell2Cell_data.csv', sep=',')\n",
    "\n",
    "#Eliminating/Dropping any duplicate entries to reduce data \n",
    "df.drop_duplicates()\n",
    "\n",
    "#Shuffling the data 3 times (and re indexing) to make the split(in the next step) random \n",
    "df3 = df.sample(frac=1).reset_index(drop=True)\n",
    "df2 = df.sample(frac=1).reset_index(drop=True)\n",
    "df1 = df.sample(frac=1).reset_index(drop=True)\n",
    "\n",
    "\n",
    "#Taking 80% of the data after shuffling as train_df\n",
    "train_df = df1.ix[:(0.8)*39859, :12]\n",
    "#train_df\n",
    "\n",
    "#Taking 20% of the data after shuffling as test_df\n",
    "test_df = df1.ix[((0.8)*39859):, :12]\n",
    "#test_df\n",
    "\n",
    "\n"
   ]
  },
  {
   "cell_type": "markdown",
   "metadata": {},
   "source": [
    "2\\. If we had to, how would we prove to ourselves or a colleague that our data was indeed randomly sampled on X? And by prove, I mean empirically, not just showing this person our code. Don't actually do the work, just describe in your own words a test you could here. Hint: think about this in terms of selection bias and use notes from our 2nd lecture.\n",
    "\n",
    "(1 Point)"
   ]
  },
  {
   "cell_type": "markdown",
   "metadata": {},
   "source": [
    "Finding Varaince will show randomness"
   ]
  },
  {
   "cell_type": "markdown",
   "metadata": {},
   "source": [
    "3\\. Now build and train a decision tree classifier using `DecisionTreeClassifier()` [(manual page)](http://scikit-learn.org/stable/modules/generated/sklearn.tree.DecisionTreeClassifier.html) on train_df to predict the `\"churndep\"` target variable. Make sure to use `criterion='entropy'` when instantiating an instance of `DecisionTreeClassifier()`. For all other settings you should use all of the default options.\n",
    "\n",
    "(1 Point)"
   ]
  },
  {
   "cell_type": "code",
   "execution_count": 70,
   "metadata": {
    "collapsed": false
   },
   "outputs": [
    {
     "data": {
      "text/plain": [
       "array([0, 1, 1, ..., 1, 1, 0])"
      ]
     },
     "execution_count": 70,
     "metadata": {},
     "output_type": "execute_result"
    }
   ],
   "source": [
    "#Place your code here\n",
    "\n",
    "#importing relevant libraries\n",
    "\n",
    "import matplotlib\n",
    "import matplotlib.pyplot as plt\n",
    "#from matplotlib.pyplot import rcdefaults\n",
    "\n",
    "import sklearn\n",
    "from sklearn import tree\n",
    "from sklearn.tree import DecisionTreeClassifier\n",
    "\n",
    "#Saving churndep of train_df and test_df into new dataframes\n",
    "cd_train = train_df.churndep\n",
    "cd_test = test_df.churndep\n",
    "\n",
    "#Alloting 1st 11 columns as features, and the 12th as targets for DTC\n",
    "features = list(df.columns[:11])\n",
    "targets = list(df.columns[11:])\n",
    "\n",
    "#Alloting features as X, 'churndep' as y for fitting \n",
    "X = train_df[features]\n",
    "y = train_df[\"churndep\"]\n",
    "\n",
    "#Building the required DecisionTreeClassifier with criterion='entropy'\n",
    "clf = tree.DecisionTreeClassifier(criterion='entropy')\n",
    "\n",
    "#Fitting the train data\n",
    "clf2 = clf.fit(X, y)\n",
    "\n",
    "#Dropping target field \"churndep\" from test_df to enable prediction (input and model should have same number of fields)\n",
    "test1 = test_df\n",
    "test2 = test1.drop('churndep', axis=1)\n",
    "\n",
    "#Predicting the test data (test2) on the Decision Tree Classifier model build and trained\n",
    "y3 = clf.predict(test2)\n",
    "\n",
    "#Printing the result (prediction of \"churndep\" on test data (test2))\n",
    "y3\n"
   ]
  },
  {
   "cell_type": "raw",
   "metadata": {},
   "source": [
    "# 4. Using the resulting model from 2.3, show a bar plot of feature names and their feature importance (hint: check the attributes of the `DecisionTreeClassifier()` object directly in IPython or check the manual!).\n",
    "\n",
    "(3 Points)"
   ]
  },
  {
   "cell_type": "code",
   "execution_count": null,
   "metadata": {
    "collapsed": true
   },
   "outputs": [],
   "source": [
    "imp = DataFrame(clf2.feature_importances_, columns = [\"Imp\"], index = X.columns).sort_values(['Imp'], ascending = False)\n",
    "imp"
   ]
  },
  {
   "cell_type": "code",
   "execution_count": 60,
   "metadata": {
    "collapsed": false
   },
   "outputs": [
    {
     "name": "stdout",
     "output_type": "stream",
     "text": [
      "               Imp\n",
      "revenue   0.271585\n",
      "eqpdays   0.246531\n",
      "outcalls  0.184108\n",
      "incalls   0.129213\n",
      "months    0.097245\n",
      "marryyes  0.023630\n",
      "pcown     0.018087\n",
      "creditcd  0.011593\n",
      "travel    0.009399\n",
      "retcalls  0.004949\n",
      "webcap    0.003659"
     ]
    },
    {
     "data": {
      "image/png": "[encoded data removed]",
      "text/plain": [
       "<matplotlib.figure.Figure at 0x11dff44d0>"
      ]
     },
     "metadata": {},
     "output_type": "display_data"
    },
    {
     "name": "stdout",
     "output_type": "stream",
     "text": [
      " None\n"
     ]
    }
   ],
   "source": [
    "#computing Imporatance\n",
    "imp = DataFrame(clf2.feature_importances_, columns = [\"Imp\"], index = X.columns).sort_values(['Imp'], ascending = False)\n",
    "\n",
    "#Constructing the bar plot\n",
    "fig, ax = plt.subplots()\n",
    "width=0.35\n",
    "#ax.bar(train.drop(lab,1).columns.values, clf.feature_importances_, width, color='r')\n",
    "ax.bar(numpy.arange(11), clf2.feature_importances_, width, color='r')\n",
    "ax.set_xticks(numpy.arange(len(clf2.feature_importances_)))\n",
    "ax.set_xticklabels(X.columns.values,rotation=90)\n",
    "plt.title('Feature Importance from DT')\n",
    "ax.set_ylabel('Importance')\n",
    "\n",
    "print(imp), plt.show()"
   ]
  },
  {
   "cell_type": "markdown",
   "metadata": {},
   "source": [
    "5\\. Is the relationship between the top 3 most important features (as measured here) negative or positive? If your marketing director asked you to explain the top 3 drivers of churn, how would you interpret the relationship between these 3 features and the churn outcome?  What \"real-life\" connection can you draw between each variable and churn?\n",
    "\n",
    "(2 Points)"
   ]
  },
  {
   "cell_type": "code",
   "execution_count": 71,
   "metadata": {
    "collapsed": false
   },
   "outputs": [
    {
     "data": {
      "text/html": [
       "<div>\n",
       "<table border=\"1\" class=\"dataframe\">\n",
       "  <thead>\n",
       "    <tr style=\"text-align: right;\">\n",
       "      <th></th>\n",
       "      <th>revenue</th>\n",
       "      <th>outcalls</th>\n",
       "      <th>eqpdays</th>\n",
       "      <th>churndep</th>\n",
       "    </tr>\n",
       "  </thead>\n",
       "  <tbody>\n",
       "    <tr>\n",
       "      <th>revenue</th>\n",
       "      <td>1.000000</td>\n",
       "      <td>0.500870</td>\n",
       "      <td>-0.221958</td>\n",
       "      <td>-0.013566</td>\n",
       "    </tr>\n",
       "    <tr>\n",
       "      <th>outcalls</th>\n",
       "      <td>0.500870</td>\n",
       "      <td>1.000000</td>\n",
       "      <td>-0.243999</td>\n",
       "      <td>-0.037233</td>\n",
       "    </tr>\n",
       "    <tr>\n",
       "      <th>eqpdays</th>\n",
       "      <td>-0.221958</td>\n",
       "      <td>-0.243999</td>\n",
       "      <td>1.000000</td>\n",
       "      <td>0.112731</td>\n",
       "    </tr>\n",
       "    <tr>\n",
       "      <th>churndep</th>\n",
       "      <td>-0.013566</td>\n",
       "      <td>-0.037233</td>\n",
       "      <td>0.112731</td>\n",
       "      <td>1.000000</td>\n",
       "    </tr>\n",
       "  </tbody>\n",
       "</table>\n",
       "</div>"
      ],
      "text/plain": [
       "           revenue  outcalls   eqpdays  churndep\n",
       "revenue   1.000000  0.500870 -0.221958 -0.013566\n",
       "outcalls  0.500870  1.000000 -0.243999 -0.037233\n",
       "eqpdays  -0.221958 -0.243999  1.000000  0.112731\n",
       "churndep -0.013566 -0.037233  0.112731  1.000000"
      ]
     },
     "execution_count": 71,
     "metadata": {},
     "output_type": "execute_result"
    }
   ],
   "source": [
    "imp_cols=list(['revenue','outcalls','eqpdays','churndep'])\n",
    "df_imp = df1[imp_cols]\n",
    "df_imp.corr()\n"
   ]
  },
  {
   "cell_type": "raw",
   "metadata": {},
   "source": [
    "As we can see from the correlation above :\n",
    "\n",
    "    1. All features are perfectly related to themselves (obviously)\n",
    "    2. Revenue is positively related to outcalls, and negatively related to eqpdays and churndep\n",
    "    3. Outcome is positively related to revenue, and negatively related to eqpdays and churndep\n",
    "    4. eqpdays is negatively related to revenue and outcalls, positively to churndep\n",
    "\n",
    "\n",
    "Hence, \n",
    "    1. outcalls and churndep are (most) inversely related, i.e. for higher outcalls, churndep is likely to be 0\n",
    "        i.e. If the number of outcalls received is high, the customer will not likely leave the company.\n",
    "        \n",
    "    2. revenue and churndep are inversely related, i.e. for big revenue, churndep is likely to be 0\n",
    "        i.e. If the revenue received is high, the customer will not likely leave the company.\n",
    "        \n",
    "    3. eqpdays and churndep are directly/positively related, i.e. for higher eqpdays, churndep is likely to be 1\n",
    "        i.e. If the number of days using the same equipment is high, the customer will likely leave the company.\n"
   ]
  },
  {
   "cell_type": "markdown",
   "metadata": {},
   "source": [
    "6\\. Using the classifier built in 2.3, try predicting `\"churndep\"` on both the train_df and test_df data sets. What is the accuracy on each?\n",
    "\n",
    "(1 Point)"
   ]
  },
  {
   "cell_type": "code",
   "execution_count": 72,
   "metadata": {
    "collapsed": false
   },
   "outputs": [
    {
     "data": {
      "text/plain": [
       "0.99984320120421477"
      ]
     },
     "execution_count": 72,
     "metadata": {},
     "output_type": "execute_result"
    }
   ],
   "source": [
    "#Importing accuracy_score\n",
    "from sklearn.metrics import accuracy_score\n",
    "\n",
    "#Dropping target field \"churndep\" from train_df to enable prediction (input and model should have same number of fields)\n",
    "train1 = train_df\n",
    "train2 = train1.drop('churndep', axis=1)\n",
    "\n",
    "\n",
    "\n",
    "#Predicting churndep for both train and test data using the model\n",
    "try_train = clf2.predict(train2)\n",
    "try_test = clf2.predict(test2)\n",
    "\n",
    "\n",
    "#try_train\n",
    "#try_test\n",
    "\n",
    "#Accuracy of (train_df)'s churndep against it's churndep as predicted by the model (1=>100%, 0=>0%, 0.5=>50% accurate)\n",
    "accuracy_score(cd_train, try_train)\n",
    "\n",
    "#accuracy_score(cd_test, try_test)\n",
    "\n"
   ]
  },
  {
   "cell_type": "code",
   "execution_count": 73,
   "metadata": {
    "collapsed": false
   },
   "outputs": [
    {
     "data": {
      "text/plain": [
       "0.54961736294065988"
      ]
     },
     "execution_count": 73,
     "metadata": {},
     "output_type": "execute_result"
    }
   ],
   "source": [
    "#Accuracy of (test_df)'s churndep against it's churndep as predicted by the model (1=>100%, 0=>0%, 0.5=>50% accurate)\n",
    "accuracy_score(cd_test, try_test)"
   ]
  },
  {
   "cell_type": "markdown",
   "metadata": {},
   "source": [
    "### Part 2 - Finding a Good Decision Tree (Total 10 Points)\n",
    "The default options for your decision tree may not be optimal. We need to analyze whether tuning the parameters can improve the accuracy of the classifier.  For the following options `min_samples_split` and `min_samples_leaf`:"
   ]
  },
  {
   "cell_type": "markdown",
   "metadata": {},
   "source": [
    "1\\. Generate a list of 10 values of each for the parameters min_samples_split and min_samples_leaf. \n",
    "\n",
    "(1 Point)"
   ]
  },
  {
   "cell_type": "code",
   "execution_count": 63,
   "metadata": {
    "collapsed": false
   },
   "outputs": [
    {
     "data": {
      "text/plain": [
       "([2470, 4196, 3539, 2911, 2255, 3742, 4864, 6464, 4012, 4482],\n",
       " [562, 597, 306, 885, 531, 316, 462, 475, 453, 889])"
      ]
     },
     "execution_count": 63,
     "metadata": {},
     "output_type": "execute_result"
    }
   ],
   "source": [
    "import random\n",
    "\n",
    "min_samples_split=[]\n",
    "min_samples_leaf=[]\n",
    "for i in range(10):\n",
    "    min_samples_split.append(random.randint(2,6000))\n",
    "    min_samples_leaf.append(random.randint(1,500))\n",
    "min_samples_split , min_samples_leaf"
   ]
  },
  {
   "cell_type": "markdown",
   "metadata": {},
   "source": [
    "2\\. Explain in words your reasoning for choosing the above ranges.\n",
    "\n",
    "(1 Points)"
   ]
  },
  {
   "cell_type": "raw",
   "metadata": {},
   "source": [
    "Default min_samples_split and min_samples_leaf are 2 and 1 respectively. \n",
    "\n",
    "It is known that increasing the min_samples_split = 2 will cause over-fitting. \n",
    "Hence, we keep increasing its value until we reach the highest accuracy after which it either stays constant or drops. So we increase it randomly to 6000 as that is the value of min_samples_split that gives the highest accuracy (0.599).\n",
    "\n",
    "Similarly, min_samples_leaf is randomly increased until 500 after which a dip in the accuracy was noted. \n",
    "\n",
    "Also, in order to enable pruning, min_samples_split must be greater than min_samples_leaf, else it will not prune.\n",
    "\n",
    "Hence the reason for selecting the chosen ranges.\n",
    "\n",
    "Notice the dip in accuracy below of (min_samples_split, min_samples_leaf) from (6000,500) to (7000,600)."
   ]
  },
  {
   "cell_type": "code",
   "execution_count": 87,
   "metadata": {
    "collapsed": false
   },
   "outputs": [
    {
     "data": {
      "text/plain": [
       "0.5992974532680968"
      ]
     },
     "execution_count": 87,
     "metadata": {},
     "output_type": "execute_result"
    }
   ],
   "source": [
    "#Accuracy difference shown\n",
    "\n",
    "clf_1 = tree.DecisionTreeClassifier(criterion='entropy', min_samples_split=6000, min_samples_leaf=500)\n",
    "clf_1.fit(X,y)\n",
    "tt1 = clf_1.predict(test2)\n",
    "accuracy_score(cd_test, tt1)"
   ]
  },
  {
   "cell_type": "code",
   "execution_count": 88,
   "metadata": {
    "collapsed": false
   },
   "outputs": [
    {
     "data": {
      "text/plain": [
       "0.59666290302346003"
      ]
     },
     "execution_count": 88,
     "metadata": {},
     "output_type": "execute_result"
    }
   ],
   "source": [
    "#Accuracy difference shown\n",
    "\n",
    "clf_1 = tree.DecisionTreeClassifier(criterion='entropy', min_samples_split=7000, min_samples_leaf=600)\n",
    "clf_1.fit(X,y)\n",
    "tt1 = clf_1.predict(test2)\n",
    "accuracy_score(cd_test, tt1)"
   ]
  },
  {
   "cell_type": "markdown",
   "metadata": {},
   "source": [
    "4\\. Which configuration returns the best accuracy? What is this accuracy? (Note, if you don't see much variation in the test set accuracy across values of min_samples_split or min_samples_leaf, try redoing the above steps with a different range of values).\n",
    "\n",
    "(1 Point)"
   ]
  },
  {
   "cell_type": "raw",
   "metadata": {
    "collapsed": true
   },
   "source": [
    "min_samples_split = 6000;  min_samples_leaf = 500, Gives best accuracy."
   ]
  },
  {
   "cell_type": "markdown",
   "metadata": {},
   "source": [
    "5\\. If you were working for a marketing department, how would you use your churn production model in a real business environment? Explain why churn prediction might be good for the business and how one might improve churn by using this model.\n",
    "\n",
    "(2 Points)"
   ]
  },
  {
   "cell_type": "raw",
   "metadata": {},
   "source": [
    "In a real business environment, using this model will prove beneficiary, because :\n",
    "    \n",
    "    1. As seen from the feature_imporatnces_ , outcome, revenue and eqpdays have the most impact on the churn data,\n",
    "    Hence, keeping those in consideration, future predictions can be made about other customer.\n",
    "    \n",
    "To improve the churn, a marketing/business strategy must be adopted to maximize the outcome and revenue, and minimize eqpdays. \n",
    "\n",
    "    1.Therefore, replacing devices 'often' will help boost customer staying and not churning.\n",
    "    2. Giving more outcalls\n",
    "    3. Giving more revenue"
   ]
  },
  {
   "cell_type": "markdown",
   "metadata": {
    "collapsed": true
   },
   "source": [
    "### Part 3 - Working with Time Series (Total 10 Points)\n",
    "Here we will analyze a timeseries of number of Yellow Fever cases from a specific Asian country by year. The data is from 1700 – 2008. The file cases.csv is available on NYU Classes.\n",
    "\n"
   ]
  },
  {
   "cell_type": "markdown",
   "metadata": {},
   "source": [
    "1\\. Load the timeseries data set, and prepare the dataset by converting the variables to date-time format (hint: use date tools). (1 point)"
   ]
  },
  {
   "cell_type": "code",
   "execution_count": 11,
   "metadata": {
    "collapsed": false
   },
   "outputs": [
    {
     "data": {
      "text/html": [
       "<div>\n",
       "<table border=\"1\" class=\"dataframe\">\n",
       "  <thead>\n",
       "    <tr style=\"text-align: right;\">\n",
       "      <th></th>\n",
       "      <th>YFCASES</th>\n",
       "    </tr>\n",
       "  </thead>\n",
       "  <tbody>\n",
       "    <tr>\n",
       "      <th>1700-12-31 00:00:00</th>\n",
       "      <td>5.0</td>\n",
       "    </tr>\n",
       "    <tr>\n",
       "      <th>1701-12-31 00:00:00</th>\n",
       "      <td>11.0</td>\n",
       "    </tr>\n",
       "    <tr>\n",
       "      <th>1702-12-31 00:00:00</th>\n",
       "      <td>16.0</td>\n",
       "    </tr>\n",
       "    <tr>\n",
       "      <th>1703-12-31 00:00:00</th>\n",
       "      <td>23.0</td>\n",
       "    </tr>\n",
       "    <tr>\n",
       "      <th>1704-12-31 00:00:00</th>\n",
       "      <td>36.0</td>\n",
       "    </tr>\n",
       "    <tr>\n",
       "      <th>1705-12-31 00:00:00</th>\n",
       "      <td>58.0</td>\n",
       "    </tr>\n",
       "    <tr>\n",
       "      <th>1706-12-31 00:00:00</th>\n",
       "      <td>29.0</td>\n",
       "    </tr>\n",
       "    <tr>\n",
       "      <th>1707-12-31 00:00:00</th>\n",
       "      <td>20.0</td>\n",
       "    </tr>\n",
       "    <tr>\n",
       "      <th>1708-12-31 00:00:00</th>\n",
       "      <td>10.0</td>\n",
       "    </tr>\n",
       "    <tr>\n",
       "      <th>1709-12-31 00:00:00</th>\n",
       "      <td>8.0</td>\n",
       "    </tr>\n",
       "    <tr>\n",
       "      <th>1710-12-31 00:00:00</th>\n",
       "      <td>3.0</td>\n",
       "    </tr>\n",
       "    <tr>\n",
       "      <th>1711-12-31 00:00:00</th>\n",
       "      <td>0.0</td>\n",
       "    </tr>\n",
       "    <tr>\n",
       "      <th>1712-12-31 00:00:00</th>\n",
       "      <td>0.0</td>\n",
       "    </tr>\n",
       "    <tr>\n",
       "      <th>1713-12-31 00:00:00</th>\n",
       "      <td>2.0</td>\n",
       "    </tr>\n",
       "    <tr>\n",
       "      <th>1714-12-31 00:00:00</th>\n",
       "      <td>11.0</td>\n",
       "    </tr>\n",
       "    <tr>\n",
       "      <th>1715-12-31 00:00:00</th>\n",
       "      <td>27.0</td>\n",
       "    </tr>\n",
       "    <tr>\n",
       "      <th>1716-12-31 00:00:00</th>\n",
       "      <td>47.0</td>\n",
       "    </tr>\n",
       "    <tr>\n",
       "      <th>1717-12-31 00:00:00</th>\n",
       "      <td>63.0</td>\n",
       "    </tr>\n",
       "    <tr>\n",
       "      <th>1718-12-31 00:00:00</th>\n",
       "      <td>60.0</td>\n",
       "    </tr>\n",
       "    <tr>\n",
       "      <th>1719-12-31 00:00:00</th>\n",
       "      <td>39.0</td>\n",
       "    </tr>\n",
       "    <tr>\n",
       "      <th>1720-12-31 00:00:00</th>\n",
       "      <td>28.0</td>\n",
       "    </tr>\n",
       "    <tr>\n",
       "      <th>1721-12-31 00:00:00</th>\n",
       "      <td>26.0</td>\n",
       "    </tr>\n",
       "    <tr>\n",
       "      <th>1722-12-31 00:00:00</th>\n",
       "      <td>22.0</td>\n",
       "    </tr>\n",
       "    <tr>\n",
       "      <th>1723-12-31 00:00:00</th>\n",
       "      <td>11.0</td>\n",
       "    </tr>\n",
       "    <tr>\n",
       "      <th>1724-12-31 00:00:00</th>\n",
       "      <td>21.0</td>\n",
       "    </tr>\n",
       "    <tr>\n",
       "      <th>1725-12-31 00:00:00</th>\n",
       "      <td>40.0</td>\n",
       "    </tr>\n",
       "    <tr>\n",
       "      <th>1726-12-31 00:00:00</th>\n",
       "      <td>78.0</td>\n",
       "    </tr>\n",
       "    <tr>\n",
       "      <th>1727-12-31 00:00:00</th>\n",
       "      <td>122.0</td>\n",
       "    </tr>\n",
       "    <tr>\n",
       "      <th>1728-12-31 00:00:00</th>\n",
       "      <td>103.0</td>\n",
       "    </tr>\n",
       "    <tr>\n",
       "      <th>1729-12-31 00:00:00</th>\n",
       "      <td>73.0</td>\n",
       "    </tr>\n",
       "    <tr>\n",
       "      <th>...</th>\n",
       "      <td>...</td>\n",
       "    </tr>\n",
       "    <tr>\n",
       "      <th>1979-12-31</th>\n",
       "      <td>155.4</td>\n",
       "    </tr>\n",
       "    <tr>\n",
       "      <th>1980-12-31</th>\n",
       "      <td>154.6</td>\n",
       "    </tr>\n",
       "    <tr>\n",
       "      <th>1981-12-31</th>\n",
       "      <td>140.4</td>\n",
       "    </tr>\n",
       "    <tr>\n",
       "      <th>1982-12-31</th>\n",
       "      <td>115.9</td>\n",
       "    </tr>\n",
       "    <tr>\n",
       "      <th>1983-12-31</th>\n",
       "      <td>66.6</td>\n",
       "    </tr>\n",
       "    <tr>\n",
       "      <th>1984-12-31</th>\n",
       "      <td>45.9</td>\n",
       "    </tr>\n",
       "    <tr>\n",
       "      <th>1985-12-31</th>\n",
       "      <td>17.9</td>\n",
       "    </tr>\n",
       "    <tr>\n",
       "      <th>1986-12-31</th>\n",
       "      <td>13.4</td>\n",
       "    </tr>\n",
       "    <tr>\n",
       "      <th>1987-12-31</th>\n",
       "      <td>29.4</td>\n",
       "    </tr>\n",
       "    <tr>\n",
       "      <th>1988-12-31</th>\n",
       "      <td>100.2</td>\n",
       "    </tr>\n",
       "    <tr>\n",
       "      <th>1989-12-31</th>\n",
       "      <td>157.6</td>\n",
       "    </tr>\n",
       "    <tr>\n",
       "      <th>1990-12-31</th>\n",
       "      <td>142.6</td>\n",
       "    </tr>\n",
       "    <tr>\n",
       "      <th>1991-12-31</th>\n",
       "      <td>145.7</td>\n",
       "    </tr>\n",
       "    <tr>\n",
       "      <th>1992-12-31</th>\n",
       "      <td>94.3</td>\n",
       "    </tr>\n",
       "    <tr>\n",
       "      <th>1993-12-31</th>\n",
       "      <td>54.6</td>\n",
       "    </tr>\n",
       "    <tr>\n",
       "      <th>1994-12-31</th>\n",
       "      <td>29.9</td>\n",
       "    </tr>\n",
       "    <tr>\n",
       "      <th>1995-12-31</th>\n",
       "      <td>17.5</td>\n",
       "    </tr>\n",
       "    <tr>\n",
       "      <th>1996-12-31</th>\n",
       "      <td>8.6</td>\n",
       "    </tr>\n",
       "    <tr>\n",
       "      <th>1997-12-31</th>\n",
       "      <td>21.5</td>\n",
       "    </tr>\n",
       "    <tr>\n",
       "      <th>1998-12-31</th>\n",
       "      <td>64.3</td>\n",
       "    </tr>\n",
       "    <tr>\n",
       "      <th>1999-12-31</th>\n",
       "      <td>93.3</td>\n",
       "    </tr>\n",
       "    <tr>\n",
       "      <th>2000-12-31</th>\n",
       "      <td>119.6</td>\n",
       "    </tr>\n",
       "    <tr>\n",
       "      <th>2001-12-31</th>\n",
       "      <td>111.0</td>\n",
       "    </tr>\n",
       "    <tr>\n",
       "      <th>2002-12-31</th>\n",
       "      <td>104.0</td>\n",
       "    </tr>\n",
       "    <tr>\n",
       "      <th>2003-12-31</th>\n",
       "      <td>63.7</td>\n",
       "    </tr>\n",
       "    <tr>\n",
       "      <th>2004-12-31</th>\n",
       "      <td>40.4</td>\n",
       "    </tr>\n",
       "    <tr>\n",
       "      <th>2005-12-31</th>\n",
       "      <td>29.8</td>\n",
       "    </tr>\n",
       "    <tr>\n",
       "      <th>2006-12-31</th>\n",
       "      <td>15.2</td>\n",
       "    </tr>\n",
       "    <tr>\n",
       "      <th>2007-12-31</th>\n",
       "      <td>7.5</td>\n",
       "    </tr>\n",
       "    <tr>\n",
       "      <th>2008-12-31</th>\n",
       "      <td>2.9</td>\n",
       "    </tr>\n",
       "  </tbody>\n",
       "</table>\n",
       "<p>309 rows × 1 columns</p>\n",
       "</div>"
      ],
      "text/plain": [
       "                     YFCASES\n",
       "1700-12-31 00:00:00      5.0\n",
       "1701-12-31 00:00:00     11.0\n",
       "1702-12-31 00:00:00     16.0\n",
       "1703-12-31 00:00:00     23.0\n",
       "1704-12-31 00:00:00     36.0\n",
       "1705-12-31 00:00:00     58.0\n",
       "1706-12-31 00:00:00     29.0\n",
       "1707-12-31 00:00:00     20.0\n",
       "1708-12-31 00:00:00     10.0\n",
       "1709-12-31 00:00:00      8.0\n",
       "1710-12-31 00:00:00      3.0\n",
       "1711-12-31 00:00:00      0.0\n",
       "1712-12-31 00:00:00      0.0\n",
       "1713-12-31 00:00:00      2.0\n",
       "1714-12-31 00:00:00     11.0\n",
       "1715-12-31 00:00:00     27.0\n",
       "1716-12-31 00:00:00     47.0\n",
       "1717-12-31 00:00:00     63.0\n",
       "1718-12-31 00:00:00     60.0\n",
       "1719-12-31 00:00:00     39.0\n",
       "1720-12-31 00:00:00     28.0\n",
       "1721-12-31 00:00:00     26.0\n",
       "1722-12-31 00:00:00     22.0\n",
       "1723-12-31 00:00:00     11.0\n",
       "1724-12-31 00:00:00     21.0\n",
       "1725-12-31 00:00:00     40.0\n",
       "1726-12-31 00:00:00     78.0\n",
       "1727-12-31 00:00:00    122.0\n",
       "1728-12-31 00:00:00    103.0\n",
       "1729-12-31 00:00:00     73.0\n",
       "...                      ...\n",
       "1979-12-31             155.4\n",
       "1980-12-31             154.6\n",
       "1981-12-31             140.4\n",
       "1982-12-31             115.9\n",
       "1983-12-31              66.6\n",
       "1984-12-31              45.9\n",
       "1985-12-31              17.9\n",
       "1986-12-31              13.4\n",
       "1987-12-31              29.4\n",
       "1988-12-31             100.2\n",
       "1989-12-31             157.6\n",
       "1990-12-31             142.6\n",
       "1991-12-31             145.7\n",
       "1992-12-31              94.3\n",
       "1993-12-31              54.6\n",
       "1994-12-31              29.9\n",
       "1995-12-31              17.5\n",
       "1996-12-31               8.6\n",
       "1997-12-31              21.5\n",
       "1998-12-31              64.3\n",
       "1999-12-31              93.3\n",
       "2000-12-31             119.6\n",
       "2001-12-31             111.0\n",
       "2002-12-31             104.0\n",
       "2003-12-31              63.7\n",
       "2004-12-31              40.4\n",
       "2005-12-31              29.8\n",
       "2006-12-31              15.2\n",
       "2007-12-31               7.5\n",
       "2008-12-31               2.9\n",
       "\n",
       "[309 rows x 1 columns]"
      ]
     },
     "execution_count": 11,
     "metadata": {},
     "output_type": "execute_result"
    }
   ],
   "source": [
    "#Importing required libraries\n",
    "\n",
    "import pandas as pd\n",
    "import numpy as np\n",
    "import matplotlib.pyplot as plt\n",
    "import datetime\n",
    "from dateutil.relativedelta import relativedelta\n",
    "import statsmodels.api as sm  \n",
    "from statsmodels.tsa.stattools import acf  \n",
    "from statsmodels.tsa.stattools import pacf\n",
    "from statsmodels.tsa.seasonal import seasonal_decompose\n",
    "from scipy import stats\n",
    "from statsmodels.graphics.api import qqplot\n",
    "\n",
    "#Loading dataset\n",
    "df = pd.read_csv('cases.csv', sep=',')\n",
    "\n",
    "#Converting to date-time format\n",
    "df.index = pd.Index(sm.tsa.datetools.dates_from_range('1700', '2008'))\n",
    "\n",
    "#Deleting column 'YEAR' since we already converted it to date-time format\n",
    "del df[\"YEAR\"]\n",
    "df"
   ]
  },
  {
   "cell_type": "code",
   "execution_count": 44,
   "metadata": {
    "collapsed": false
   },
   "outputs": [],
   "source": [
    "#Plotting df\n",
    "#%matplotlib inline\n",
    "#df.plot(figsize=(12,8));"
   ]
  },
  {
   "cell_type": "markdown",
   "metadata": {},
   "source": [
    "2\\. Plot the autocorrelation function (ACF) and partial autocorrelation function (PCF) of the cases timeseries. (1 point)"
   ]
  },
  {
   "cell_type": "code",
   "execution_count": 23,
   "metadata": {
    "collapsed": false
   },
   "outputs": [
    {
     "data": {
      "image/png": "[encoded data removed]",
      "text/plain": [
       "<matplotlib.figure.Figure at 0x11d7f6b50>"
      ]
     },
     "metadata": {},
     "output_type": "display_data"
    }
   ],
   "source": [
    "#Plotting the ACF and PCF\n",
    "\n",
    "fig = plt.figure(figsize=(12,8))\n",
    "ax1 = fig.add_subplot(211)\n",
    "fig = sm.graphics.tsa.plot_acf(df, lags=40, ax=ax1)\n",
    "ax2 = fig.add_subplot(212)\n",
    "fig = sm.graphics.tsa.plot_pacf(df, lags=40, ax=ax2)\n",
    "\n"
   ]
  },
  {
   "cell_type": "markdown",
   "metadata": {},
   "source": [
    "3\\. Describe what the plots indicate (in terms of autocorrelation and autoregressive parameter (p) and moving average (q)). 2 points.\n",
    "Some rules of thumb to recall:<br>\n",
    "Rule 1: If the ACF shows exponential decay, the PACF has a spike at lag 1, and no correlation for other lags, then use one autoregressive (p)parameter <br>\n",
    "Rule 2: If the ACF shows a sine-wave shape pattern or a set of exponential decays, the PACF has spikes at lags 1 and 2, and no correlation for other lags, the use two autoregressive (p) parameters. <br>\n",
    "Rule 3: If the ACF has a spike at lag 1, no correlation for other lags, and the PACF damps out exponentially, then use one moving average (q) parameter. <br>\n",
    "Rule 4: If the ACF has spikes at lags 1 and 2, no correlation for other lags, and the PACF has a sine-wave shape pattern or a set of exponential decays, then use two moving average (q) parameter.<br>\n",
    "Rule 5: If the ACF shows exponential decay starting at lag 1, and the PACF shows exponential decay starting at lag 1, then use one autoregressive (p) and one moving average (q) parameter.<br>\n"
   ]
  },
  {
   "cell_type": "markdown",
   "metadata": {},
   "source": [
    "<p>\n",
    "<span style=\"color:blue\">\n",
    "Plot indicates the Rule 2 , Hence, we must use 2 AR(p) parameters.\n",
    "</span>\n",
    "</p>"
   ]
  },
  {
   "cell_type": "markdown",
   "metadata": {},
   "source": [
    "4\\. Another approach to assessing the presence of autocorrelation is by using the  Durbin-Waton (DW) statistic. The value of the DW statistic is close to 2 if the errors are uncorrelated. What is DW for our data, and does this match what you observed from the ACF and PCF plots? (1 point) "
   ]
  },
  {
   "cell_type": "code",
   "execution_count": 114,
   "metadata": {
    "collapsed": false
   },
   "outputs": [
    {
     "data": {
      "text/plain": [
       "array([  7.02118084e-01,   1.19269042e+00,   1.28178054e+00,\n",
       "         2.64118296e-01,   2.19048047e-01,   1.42300796e-01,\n",
       "         1.25683285e+00,   1.88664323e+00,   1.62024631e+00,\n",
       "         6.08180840e-01,   9.39423077e-01,   5.02487312e-05])"
      ]
     },
     "execution_count": 114,
     "metadata": {},
     "output_type": "execute_result"
    }
   ],
   "source": [
    "#\n",
    "from statsmodels.regression.linear_model import OLS\n",
    "from statsmodels.stats.stattools import durbin_watson\n",
    "from statsmodels.tsa.stattools import adfuller\n",
    "\n",
    "dw_output=sm.stats.durbin_watson(df)\n",
    "dw_output"
   ]
  },
  {
   "cell_type": "code",
   "execution_count": null,
   "metadata": {
    "collapsed": true
   },
   "outputs": [],
   "source": [
    "#Hence, positive autocorrelation"
   ]
  },
  {
   "cell_type": "markdown",
   "metadata": {},
   "source": [
    "5\\. Removing serial dependency by modeling a simple ARMA process with p and q as derived above. Take a look at what the resulting process looks like (plot) (1 point)\n"
   ]
  },
  {
   "cell_type": "code",
   "execution_count": 29,
   "metadata": {
    "collapsed": false
   },
   "outputs": [
    {
     "data": {
      "text/plain": [
       "const            49.659343\n",
       "ar.L1.YFCASES     1.390656\n",
       "ar.L2.YFCASES    -0.688571\n",
       "dtype: float64"
      ]
     },
     "execution_count": 29,
     "metadata": {},
     "output_type": "execute_result"
    }
   ],
   "source": [
    "#ARMA with p,q as taken from above (2,0) , Rule 2\n",
    "arma_2_0= sm.tsa.ARMA(df, (2,0)).fit()\n",
    "arma_2_0.params\n",
    "\n"
   ]
  },
  {
   "cell_type": "code",
   "execution_count": 35,
   "metadata": {
    "collapsed": false,
    "scrolled": true
   },
   "outputs": [
    {
     "data": {
      "image/png": "[encoded data removed]",
      "text/plain": [
       "<matplotlib.figure.Figure at 0x120adf590>"
      ]
     },
     "metadata": {},
     "output_type": "display_data"
    }
   ],
   "source": [
    "#Plot of the resulting process\n",
    "%matplotlib inline\n",
    "fig = plt.figure(figsize=(14,8))\n",
    "ax3 = fig.add_subplot(111)\n",
    "resid = arma_2_0.resid\n",
    "ax = resid.plot(ax=ax3);\n",
    "\n"
   ]
  },
  {
   "cell_type": "markdown",
   "metadata": {
    "collapsed": true
   },
   "source": [
    "6\\. Calculate the residuals, and test the null hypothesis that the residuals come from a normal distribution, and construct a qq-plot. Do the results of the hypothesis test and qq-plot align? (1 point)\n",
    "\n"
   ]
  },
  {
   "cell_type": "code",
   "execution_count": 36,
   "metadata": {
    "collapsed": false,
    "scrolled": true
   },
   "outputs": [
    {
     "data": {
      "text/plain": [
       "NormaltestResult(statistic=41.736017448911511, pvalue=8.6524472974138723e-10)"
      ]
     },
     "execution_count": 36,
     "metadata": {},
     "output_type": "execute_result"
    }
   ],
   "source": [
    "#Place your code here\n",
    "stats.normaltest(resid)\n",
    "\n"
   ]
  },
  {
   "cell_type": "code",
   "execution_count": 38,
   "metadata": {
    "collapsed": false
   },
   "outputs": [
    {
     "data": {
      "image/png": "[encoded data removed]",
      "text/plain": [
       "<matplotlib.figure.Figure at 0x11da28a50>"
      ]
     },
     "metadata": {},
     "output_type": "display_data"
    }
   ],
   "source": [
    "%matplotlib inline\n",
    "fig = plt.figure(figsize=(14,8))\n",
    "ax4 = fig.add_subplot(111)\n",
    "fig = qqplot(resid, line='q', ax=ax4, fit=True)"
   ]
  },
  {
   "cell_type": "markdown",
   "metadata": {},
   "source": [
    "7\\. Now investigate the autocorrelation of your ARMA(p,q) model. Did it improve?\n",
    "These can be examined graphically, but a statistic will help.\n",
    "Next, we calculate the lag, autocorrelation (AC), Q statistic and Prob>Q. \n",
    "The Ljung–Box Q test is a type of statistical test of whether any of a group of autocorrelations of a time series are different from zero. The null hypothesis is, H0: The data are independently distributed (i.e. the correlations in the population from which the sample is taken are 0, so that any observed correlations in the data result from randomness of the sampling process). (Hint: use qstat in tsa.acf).\n"
   ]
  },
  {
   "cell_type": "code",
   "execution_count": 40,
   "metadata": {
    "collapsed": false
   },
   "outputs": [
    {
     "data": {
      "image/png": "[encoded data removed]",
      "text/plain": [
       "<matplotlib.figure.Figure at 0x11ffb2d50>"
      ]
     },
     "metadata": {},
     "output_type": "display_data"
    }
   ],
   "source": [
    "#Place your code here\n",
    "%matplotlib inline\n",
    "fig = plt.figure(figsize=(14,8))\n",
    "ax5 = fig.add_subplot(211)\n",
    "fig = sm.graphics.tsa.plot_acf(resid.values.squeeze(), lags=40, ax=ax5)\n",
    "ax6 = fig.add_subplot(212)\n",
    "fig = sm.graphics.tsa.plot_pacf(resid, lags=40, ax=ax6)"
   ]
  },
  {
   "cell_type": "code",
   "execution_count": 43,
   "metadata": {
    "collapsed": false
   },
   "outputs": [
    {
     "data": {
      "text/html": [
       "<div>\n",
       "<table border=\"1\" class=\"dataframe\">\n",
       "  <thead>\n",
       "    <tr style=\"text-align: right;\">\n",
       "      <th></th>\n",
       "      <th>AC</th>\n",
       "      <th>Q</th>\n",
       "      <th>Prob(&gt;Q)</th>\n",
       "    </tr>\n",
       "    <tr>\n",
       "      <th>lag</th>\n",
       "      <th></th>\n",
       "      <th></th>\n",
       "      <th></th>\n",
       "    </tr>\n",
       "  </thead>\n",
       "  <tbody>\n",
       "    <tr>\n",
       "      <th>1.0</th>\n",
       "      <td>-0.085220</td>\n",
       "      <td>2.265963</td>\n",
       "      <td>0.132244</td>\n",
       "    </tr>\n",
       "    <tr>\n",
       "      <th>2.0</th>\n",
       "      <td>0.103691</td>\n",
       "      <td>5.631595</td>\n",
       "      <td>0.059857</td>\n",
       "    </tr>\n",
       "    <tr>\n",
       "      <th>3.0</th>\n",
       "      <td>-0.027833</td>\n",
       "      <td>5.874879</td>\n",
       "      <td>0.117859</td>\n",
       "    </tr>\n",
       "    <tr>\n",
       "      <th>4.0</th>\n",
       "      <td>0.091122</td>\n",
       "      <td>8.491075</td>\n",
       "      <td>0.075158</td>\n",
       "    </tr>\n",
       "    <tr>\n",
       "      <th>5.0</th>\n",
       "      <td>0.019010</td>\n",
       "      <td>8.605309</td>\n",
       "      <td>0.125881</td>\n",
       "    </tr>\n",
       "    <tr>\n",
       "      <th>6.0</th>\n",
       "      <td>0.031321</td>\n",
       "      <td>8.916433</td>\n",
       "      <td>0.178333</td>\n",
       "    </tr>\n",
       "    <tr>\n",
       "      <th>7.0</th>\n",
       "      <td>0.044485</td>\n",
       "      <td>9.546129</td>\n",
       "      <td>0.215785</td>\n",
       "    </tr>\n",
       "    <tr>\n",
       "      <th>8.0</th>\n",
       "      <td>-0.034337</td>\n",
       "      <td>9.922561</td>\n",
       "      <td>0.270503</td>\n",
       "    </tr>\n",
       "    <tr>\n",
       "      <th>9.0</th>\n",
       "      <td>0.185690</td>\n",
       "      <td>20.967736</td>\n",
       "      <td>0.012794</td>\n",
       "    </tr>\n",
       "    <tr>\n",
       "      <th>10.0</th>\n",
       "      <td>0.191608</td>\n",
       "      <td>32.767496</td>\n",
       "      <td>0.000298</td>\n",
       "    </tr>\n",
       "    <tr>\n",
       "      <th>11.0</th>\n",
       "      <td>0.190385</td>\n",
       "      <td>44.456241</td>\n",
       "      <td>0.000006</td>\n",
       "    </tr>\n",
       "    <tr>\n",
       "      <th>12.0</th>\n",
       "      <td>0.121693</td>\n",
       "      <td>49.247974</td>\n",
       "      <td>0.000002</td>\n",
       "    </tr>\n",
       "    <tr>\n",
       "      <th>13.0</th>\n",
       "      <td>-0.016219</td>\n",
       "      <td>49.333376</td>\n",
       "      <td>0.000004</td>\n",
       "    </tr>\n",
       "    <tr>\n",
       "      <th>14.0</th>\n",
       "      <td>0.014986</td>\n",
       "      <td>49.406538</td>\n",
       "      <td>0.000008</td>\n",
       "    </tr>\n",
       "    <tr>\n",
       "      <th>15.0</th>\n",
       "      <td>-0.063197</td>\n",
       "      <td>50.711986</td>\n",
       "      <td>0.000009</td>\n",
       "    </tr>\n",
       "    <tr>\n",
       "      <th>16.0</th>\n",
       "      <td>0.039730</td>\n",
       "      <td>51.229699</td>\n",
       "      <td>0.000015</td>\n",
       "    </tr>\n",
       "    <tr>\n",
       "      <th>17.0</th>\n",
       "      <td>0.009577</td>\n",
       "      <td>51.259882</td>\n",
       "      <td>0.000027</td>\n",
       "    </tr>\n",
       "    <tr>\n",
       "      <th>18.0</th>\n",
       "      <td>-0.073645</td>\n",
       "      <td>53.050943</td>\n",
       "      <td>0.000026</td>\n",
       "    </tr>\n",
       "    <tr>\n",
       "      <th>19.0</th>\n",
       "      <td>0.076469</td>\n",
       "      <td>54.988676</td>\n",
       "      <td>0.000023</td>\n",
       "    </tr>\n",
       "    <tr>\n",
       "      <th>20.0</th>\n",
       "      <td>-0.006827</td>\n",
       "      <td>55.004174</td>\n",
       "      <td>0.000041</td>\n",
       "    </tr>\n",
       "    <tr>\n",
       "      <th>21.0</th>\n",
       "      <td>0.088818</td>\n",
       "      <td>57.636439</td>\n",
       "      <td>0.000029</td>\n",
       "    </tr>\n",
       "    <tr>\n",
       "      <th>22.0</th>\n",
       "      <td>0.120485</td>\n",
       "      <td>62.497151</td>\n",
       "      <td>0.000009</td>\n",
       "    </tr>\n",
       "    <tr>\n",
       "      <th>23.0</th>\n",
       "      <td>0.103328</td>\n",
       "      <td>66.084660</td>\n",
       "      <td>0.000005</td>\n",
       "    </tr>\n",
       "    <tr>\n",
       "      <th>24.0</th>\n",
       "      <td>-0.085728</td>\n",
       "      <td>68.562776</td>\n",
       "      <td>0.000004</td>\n",
       "    </tr>\n",
       "    <tr>\n",
       "      <th>25.0</th>\n",
       "      <td>0.013730</td>\n",
       "      <td>68.626565</td>\n",
       "      <td>0.000006</td>\n",
       "    </tr>\n",
       "    <tr>\n",
       "      <th>26.0</th>\n",
       "      <td>-0.036183</td>\n",
       "      <td>69.071136</td>\n",
       "      <td>0.000009</td>\n",
       "    </tr>\n",
       "    <tr>\n",
       "      <th>27.0</th>\n",
       "      <td>-0.150156</td>\n",
       "      <td>76.754552</td>\n",
       "      <td>0.000001</td>\n",
       "    </tr>\n",
       "    <tr>\n",
       "      <th>28.0</th>\n",
       "      <td>0.049680</td>\n",
       "      <td>77.598622</td>\n",
       "      <td>0.000002</td>\n",
       "    </tr>\n",
       "    <tr>\n",
       "      <th>29.0</th>\n",
       "      <td>-0.055467</td>\n",
       "      <td>78.654543</td>\n",
       "      <td>0.000002</td>\n",
       "    </tr>\n",
       "    <tr>\n",
       "      <th>30.0</th>\n",
       "      <td>0.003354</td>\n",
       "      <td>78.658418</td>\n",
       "      <td>0.000003</td>\n",
       "    </tr>\n",
       "    <tr>\n",
       "      <th>31.0</th>\n",
       "      <td>-0.010905</td>\n",
       "      <td>78.699528</td>\n",
       "      <td>0.000005</td>\n",
       "    </tr>\n",
       "    <tr>\n",
       "      <th>32.0</th>\n",
       "      <td>0.120386</td>\n",
       "      <td>83.727451</td>\n",
       "      <td>0.000002</td>\n",
       "    </tr>\n",
       "    <tr>\n",
       "      <th>33.0</th>\n",
       "      <td>0.042680</td>\n",
       "      <td>84.361687</td>\n",
       "      <td>0.000002</td>\n",
       "    </tr>\n",
       "    <tr>\n",
       "      <th>34.0</th>\n",
       "      <td>0.011107</td>\n",
       "      <td>84.404798</td>\n",
       "      <td>0.000004</td>\n",
       "    </tr>\n",
       "    <tr>\n",
       "      <th>35.0</th>\n",
       "      <td>0.024261</td>\n",
       "      <td>84.611239</td>\n",
       "      <td>0.000005</td>\n",
       "    </tr>\n",
       "    <tr>\n",
       "      <th>36.0</th>\n",
       "      <td>-0.125046</td>\n",
       "      <td>90.115467</td>\n",
       "      <td>0.000002</td>\n",
       "    </tr>\n",
       "    <tr>\n",
       "      <th>37.0</th>\n",
       "      <td>-0.036394</td>\n",
       "      <td>90.583415</td>\n",
       "      <td>0.000002</td>\n",
       "    </tr>\n",
       "    <tr>\n",
       "      <th>38.0</th>\n",
       "      <td>-0.060509</td>\n",
       "      <td>91.881738</td>\n",
       "      <td>0.000002</td>\n",
       "    </tr>\n",
       "    <tr>\n",
       "      <th>39.0</th>\n",
       "      <td>-0.024440</td>\n",
       "      <td>92.094328</td>\n",
       "      <td>0.000003</td>\n",
       "    </tr>\n",
       "    <tr>\n",
       "      <th>40.0</th>\n",
       "      <td>0.000581</td>\n",
       "      <td>92.094448</td>\n",
       "      <td>0.000005</td>\n",
       "    </tr>\n",
       "  </tbody>\n",
       "</table>\n",
       "</div>"
      ],
      "text/plain": [
       "            AC          Q  Prob(>Q)\n",
       "lag                                \n",
       "1.0  -0.085220   2.265963  0.132244\n",
       "2.0   0.103691   5.631595  0.059857\n",
       "3.0  -0.027833   5.874879  0.117859\n",
       "4.0   0.091122   8.491075  0.075158\n",
       "5.0   0.019010   8.605309  0.125881\n",
       "6.0   0.031321   8.916433  0.178333\n",
       "7.0   0.044485   9.546129  0.215785\n",
       "8.0  -0.034337   9.922561  0.270503\n",
       "9.0   0.185690  20.967736  0.012794\n",
       "10.0  0.191608  32.767496  0.000298\n",
       "11.0  0.190385  44.456241  0.000006\n",
       "12.0  0.121693  49.247974  0.000002\n",
       "13.0 -0.016219  49.333376  0.000004\n",
       "14.0  0.014986  49.406538  0.000008\n",
       "15.0 -0.063197  50.711986  0.000009\n",
       "16.0  0.039730  51.229699  0.000015\n",
       "17.0  0.009577  51.259882  0.000027\n",
       "18.0 -0.073645  53.050943  0.000026\n",
       "19.0  0.076469  54.988676  0.000023\n",
       "20.0 -0.006827  55.004174  0.000041\n",
       "21.0  0.088818  57.636439  0.000029\n",
       "22.0  0.120485  62.497151  0.000009\n",
       "23.0  0.103328  66.084660  0.000005\n",
       "24.0 -0.085728  68.562776  0.000004\n",
       "25.0  0.013730  68.626565  0.000006\n",
       "26.0 -0.036183  69.071136  0.000009\n",
       "27.0 -0.150156  76.754552  0.000001\n",
       "28.0  0.049680  77.598622  0.000002\n",
       "29.0 -0.055467  78.654543  0.000002\n",
       "30.0  0.003354  78.658418  0.000003\n",
       "31.0 -0.010905  78.699528  0.000005\n",
       "32.0  0.120386  83.727451  0.000002\n",
       "33.0  0.042680  84.361687  0.000002\n",
       "34.0  0.011107  84.404798  0.000004\n",
       "35.0  0.024261  84.611239  0.000005\n",
       "36.0 -0.125046  90.115467  0.000002\n",
       "37.0 -0.036394  90.583415  0.000002\n",
       "38.0 -0.060509  91.881738  0.000002\n",
       "39.0 -0.024440  92.094328  0.000003\n",
       "40.0  0.000581  92.094448  0.000005"
      ]
     },
     "execution_count": 43,
     "metadata": {},
     "output_type": "execute_result"
    }
   ],
   "source": [
    "r,q,p = sm.tsa.acf(resid.values.squeeze(), qstat=True)\n",
    "d1 = np.c_[range(1,41), r[1:], q, p]\n",
    "table1 = pd.DataFrame(d1, columns=['lag', \"AC\", \"Q\", \"Prob(>Q)\"])\n",
    "table1.set_index('lag')"
   ]
  },
  {
   "cell_type": "markdown",
   "metadata": {},
   "source": [
    "<p>\n",
    "<span style=\"color:blue\">\n",
    "Did not improve. Since if we notice, the p values for lags 1 to 8 , is much greater than 0.05. Whereas for other lags it is less than 0.05, meaning,there is much data not contributing to correlations at high lags. \n",
    "</span>\n",
    "</p>"
   ]
  },
  {
   "cell_type": "markdown",
   "metadata": {},
   "source": [
    "End"
   ]
  }
 ],
 "metadata": {
  "kernelspec": {
   "display_name": "Python 2",
   "language": "python",
   "name": "python2"
  },
  "language_info": {
   "codemirror_mode": {
    "name": "ipython",
    "version": 2
   },
   "file_extension": ".py",
   "mimetype": "text/x-python",
   "name": "python",
   "nbconvert_exporter": "python",
   "pygments_lexer": "ipython2",
   "version": "2.7.13"
  }
 },
 "nbformat": 4,
 "nbformat_minor": 0
}
