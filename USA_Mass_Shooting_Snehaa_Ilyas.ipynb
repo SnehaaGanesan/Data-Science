{
 "cells": [
  {
   "cell_type": "markdown",
   "metadata": {},
   "source": [
    "# USA MASS SHOOTING ANALYSIS"
   ]
  },
  {
   "cell_type": "markdown",
   "metadata": {},
   "source": [
    "<b>Student Name:</b> Mohammed Ilyas Habeeb\n",
    "\n",
    "<b>Student Netid:</b> mih278\n",
    "\n",
    "<b>Student Name:</b> Snehaa Ganeshan\n",
    "\n",
    "<b>Student Netid:</b> sg4860\n",
    "***"
   ]
  },
  {
   "cell_type": "markdown",
   "metadata": {},
   "source": [
    "## Background: \n",
    "\n",
    "The United States has more mass shootings than any other country in the world. The Congressional\n",
    "Research Service defines a mass shooting as a “shooting in which a gunman:\n",
    "- Kills four or more people\n",
    "- selects victims randomly (i.e., no gang killings or killing of multiple family members)\n",
    "- attacks in a public place”\n",
    "\n",
    "Recent events, like the Las Vegas mass shooting, claimed 59 lives and more than 500 injuries, and the\n",
    "Texas Church shooting, claimed 26 lives and 20 injuries. These horrifying events make it necessary to\n",
    "analyze mass shootings and derive insights from it for prediction and prevention.\n",
    "With the background in mind, we use the US mass killings dataset to uncover hidden insights."
   ]
  },
  {
   "cell_type": "markdown",
   "metadata": {},
   "source": [
    "## Part - I Data Fetching and Cleaning"
   ]
  },
  {
   "cell_type": "code",
   "execution_count": 31,
   "metadata": {
    "collapsed": true
   },
   "outputs": [],
   "source": [
    "#importing the necessary packages\n",
    "\n",
    "import pandas as pd\n",
    "import numpy as np\n",
    "from pandas import Series, DataFrame\n",
    "import matplotlib.pyplot as plt\n",
    "import seaborn as sns\n",
    "%matplotlib inline"
   ]
  },
  {
   "cell_type": "code",
   "execution_count": 32,
   "metadata": {
    "collapsed": false,
    "scrolled": true
   },
   "outputs": [
    {
     "data": {
      "text/html": [
       "<div>\n",
       "<style scoped>\n",
       "    .dataframe tbody tr th:only-of-type {\n",
       "        vertical-align: middle;\n",
       "    }\n",
       "\n",
       "    .dataframe tbody tr th {\n",
       "        vertical-align: top;\n",
       "    }\n",
       "\n",
       "    .dataframe thead th {\n",
       "        text-align: right;\n",
       "    }\n",
       "</style>\n",
       "<table border=\"1\" class=\"dataframe\">\n",
       "  <thead>\n",
       "    <tr style=\"text-align: right;\">\n",
       "      <th></th>\n",
       "      <th>Title</th>\n",
       "      <th>City</th>\n",
       "      <th>State</th>\n",
       "      <th>Latitude</th>\n",
       "      <th>Longitude</th>\n",
       "      <th>Number of Victim Fatalities</th>\n",
       "      <th>Total Number of Fatalities</th>\n",
       "      <th>Number of Victims Injured</th>\n",
       "      <th>Total Number of Victims</th>\n",
       "      <th>Description</th>\n",
       "      <th>...</th>\n",
       "      <th>Fate of Shooter at the scene</th>\n",
       "      <th>Shooter's Cause of Death</th>\n",
       "      <th>School Related</th>\n",
       "      <th>Place Type</th>\n",
       "      <th>Relationship to Incident Location</th>\n",
       "      <th>Targeted Victim/s - General</th>\n",
       "      <th>Possible Motive - General</th>\n",
       "      <th>History of Mental Illness - General</th>\n",
       "      <th>Military Experience</th>\n",
       "      <th>Class</th>\n",
       "    </tr>\n",
       "  </thead>\n",
       "  <tbody>\n",
       "    <tr>\n",
       "      <th>0</th>\n",
       "      <td>University of Texas at Austin</td>\n",
       "      <td>Austin</td>\n",
       "      <td>Texas</td>\n",
       "      <td>30.198887</td>\n",
       "      <td>-97.844159</td>\n",
       "      <td>16.0</td>\n",
       "      <td>17.0</td>\n",
       "      <td>32.0</td>\n",
       "      <td>48.0</td>\n",
       "      <td>On August 1, 1966, a 25-year-old engineering s...</td>\n",
       "      <td>...</td>\n",
       "      <td>Deceased</td>\n",
       "      <td>Killed</td>\n",
       "      <td>Yes</td>\n",
       "      <td>College/University/Adult education</td>\n",
       "      <td>Place of schooling</td>\n",
       "      <td>General public</td>\n",
       "      <td>Mental illness</td>\n",
       "      <td>Yes</td>\n",
       "      <td>Yes</td>\n",
       "      <td>SPK</td>\n",
       "    </tr>\n",
       "    <tr>\n",
       "      <th>1</th>\n",
       "      <td>Rose-Mar College of Beauty</td>\n",
       "      <td>Mesa</td>\n",
       "      <td>Arizona</td>\n",
       "      <td>33.422687</td>\n",
       "      <td>-111.816320</td>\n",
       "      <td>5.0</td>\n",
       "      <td>5.0</td>\n",
       "      <td>1.0</td>\n",
       "      <td>6.0</td>\n",
       "      <td>On November 12, 1966, an 18-year-old high scho...</td>\n",
       "      <td>...</td>\n",
       "      <td>Arrested</td>\n",
       "      <td>Not applicable</td>\n",
       "      <td>Yes</td>\n",
       "      <td>College/University/Adult education</td>\n",
       "      <td>None</td>\n",
       "      <td>Students/Classmates/Teacher</td>\n",
       "      <td>Mental illness</td>\n",
       "      <td>Yes</td>\n",
       "      <td>Unknown</td>\n",
       "      <td>MS</td>\n",
       "    </tr>\n",
       "    <tr>\n",
       "      <th>2</th>\n",
       "      <td>New Orleans Police Shootings</td>\n",
       "      <td>New Orleans</td>\n",
       "      <td>Louisiana</td>\n",
       "      <td>30.068724</td>\n",
       "      <td>-89.931474</td>\n",
       "      <td>9.0</td>\n",
       "      <td>10.0</td>\n",
       "      <td>13.0</td>\n",
       "      <td>22.0</td>\n",
       "      <td>On New Year's Eve in 1972, a 23-year-old ex-Na...</td>\n",
       "      <td>...</td>\n",
       "      <td>Deceased</td>\n",
       "      <td>Killed</td>\n",
       "      <td>No</td>\n",
       "      <td>Government facility</td>\n",
       "      <td>Local government</td>\n",
       "      <td>Government</td>\n",
       "      <td>Race</td>\n",
       "      <td>Yes</td>\n",
       "      <td>Unknown</td>\n",
       "      <td>SPK</td>\n",
       "    </tr>\n",
       "    <tr>\n",
       "      <th>3</th>\n",
       "      <td>Clara Barton Elementary School</td>\n",
       "      <td>Chicago</td>\n",
       "      <td>Illinois</td>\n",
       "      <td>41.839280</td>\n",
       "      <td>-87.688181</td>\n",
       "      <td>1.0</td>\n",
       "      <td>1.0</td>\n",
       "      <td>3.0</td>\n",
       "      <td>4.0</td>\n",
       "      <td>On January 17, 1974, a 14-year-old student ent...</td>\n",
       "      <td>...</td>\n",
       "      <td>Arrested</td>\n",
       "      <td>Not applicable</td>\n",
       "      <td>Yes</td>\n",
       "      <td>Primary school</td>\n",
       "      <td>Place of schooling</td>\n",
       "      <td>Students/Classmates/Teacher</td>\n",
       "      <td>Expulsion/Suspension</td>\n",
       "      <td>Yes</td>\n",
       "      <td>Unknown</td>\n",
       "      <td>MS</td>\n",
       "    </tr>\n",
       "    <tr>\n",
       "      <th>4</th>\n",
       "      <td>Olean High School</td>\n",
       "      <td>Olean</td>\n",
       "      <td>New York</td>\n",
       "      <td>42.081854</td>\n",
       "      <td>-78.432139</td>\n",
       "      <td>3.0</td>\n",
       "      <td>3.0</td>\n",
       "      <td>7.0</td>\n",
       "      <td>10.0</td>\n",
       "      <td>On December 30, 1974, a 17-year-old honor stud...</td>\n",
       "      <td>...</td>\n",
       "      <td>Arrested</td>\n",
       "      <td>Not applicable</td>\n",
       "      <td>Yes</td>\n",
       "      <td>Secondary school</td>\n",
       "      <td>Place of schooling</td>\n",
       "      <td>General public</td>\n",
       "      <td>Mental illness</td>\n",
       "      <td>No</td>\n",
       "      <td>Unknown</td>\n",
       "      <td>MS</td>\n",
       "    </tr>\n",
       "  </tbody>\n",
       "</table>\n",
       "<p>5 rows × 35 columns</p>\n",
       "</div>"
      ],
      "text/plain": [
       "                            Title         City      State   Latitude  \\\n",
       "0   University of Texas at Austin       Austin      Texas  30.198887   \n",
       "1      Rose-Mar College of Beauty         Mesa    Arizona  33.422687   \n",
       "2    New Orleans Police Shootings  New Orleans  Louisiana  30.068724   \n",
       "3  Clara Barton Elementary School      Chicago   Illinois  41.839280   \n",
       "4               Olean High School        Olean   New York  42.081854   \n",
       "\n",
       "    Longitude  Number of Victim Fatalities  Total Number of Fatalities  \\\n",
       "0  -97.844159                         16.0                        17.0   \n",
       "1 -111.816320                          5.0                         5.0   \n",
       "2  -89.931474                          9.0                        10.0   \n",
       "3  -87.688181                          1.0                         1.0   \n",
       "4  -78.432139                          3.0                         3.0   \n",
       "\n",
       "   Number of Victims Injured  Total Number of Victims  \\\n",
       "0                       32.0                     48.0   \n",
       "1                        1.0                      6.0   \n",
       "2                       13.0                     22.0   \n",
       "3                        3.0                      4.0   \n",
       "4                        7.0                     10.0   \n",
       "\n",
       "                                         Description  ...   \\\n",
       "0  On August 1, 1966, a 25-year-old engineering s...  ...    \n",
       "1  On November 12, 1966, an 18-year-old high scho...  ...    \n",
       "2  On New Year's Eve in 1972, a 23-year-old ex-Na...  ...    \n",
       "3  On January 17, 1974, a 14-year-old student ent...  ...    \n",
       "4  On December 30, 1974, a 17-year-old honor stud...  ...    \n",
       "\n",
       "  Fate of Shooter at the scene Shooter's Cause of Death School Related  \\\n",
       "0                     Deceased                   Killed            Yes   \n",
       "1                     Arrested           Not applicable            Yes   \n",
       "2                     Deceased                   Killed             No   \n",
       "3                     Arrested           Not applicable            Yes   \n",
       "4                     Arrested           Not applicable            Yes   \n",
       "\n",
       "                           Place Type Relationship to Incident Location  \\\n",
       "0  College/University/Adult education                Place of schooling   \n",
       "1  College/University/Adult education                              None   \n",
       "2                 Government facility                  Local government   \n",
       "3                      Primary school                Place of schooling   \n",
       "4                    Secondary school                Place of schooling   \n",
       "\n",
       "   Targeted Victim/s - General Possible Motive - General  \\\n",
       "0               General public            Mental illness   \n",
       "1  Students/Classmates/Teacher            Mental illness   \n",
       "2                   Government                      Race   \n",
       "3  Students/Classmates/Teacher      Expulsion/Suspension   \n",
       "4               General public            Mental illness   \n",
       "\n",
       "  History of Mental Illness - General Military Experience Class  \n",
       "0                                 Yes                 Yes   SPK  \n",
       "1                                 Yes             Unknown    MS  \n",
       "2                                 Yes             Unknown   SPK  \n",
       "3                                 Yes             Unknown    MS  \n",
       "4                                  No             Unknown    MS  \n",
       "\n",
       "[5 rows x 35 columns]"
      ]
     },
     "execution_count": 32,
     "metadata": {},
     "output_type": "execute_result"
    }
   ],
   "source": [
    "#Reading the csv file\n",
    "data = pd.read_csv('Data/stanford_msa/mass_shooting_data_numbers.csv')\n",
    "\n",
    "#Dropping unnecessary columns \n",
    "cols_to_drop = ['Data Source 1', 'Data Source 2', 'Data Source 3', 'Data Source 4',\n",
    "                'Data Source 5', 'Data Source 6', 'Data Source 7', 'CaseID', 'Location', 'Date - Detailed',\n",
    "               'Targeted Victim/s - Detailed', 'Possible Motive - Detailed', 'History of Mental Illness - Detailed']\n",
    "\n",
    "#Dropping unnecessary rows\n",
    "rows_to_drop = []\n",
    "\n",
    "for i in range(307, 347):\n",
    "    rows_to_drop.append(i)\n",
    "\n",
    "data.drop(cols_to_drop, axis = 1, inplace = True)\n",
    "\n",
    "data.drop(rows_to_drop, inplace = True)\n",
    "\n",
    "data.head()"
   ]
  },
  {
   "cell_type": "markdown",
   "metadata": {},
   "source": [
    "The NaN values in this dataset is represented by 'Unknown'.\n",
    "We will replace 'Unknown' by 'NaN' so that it will ease our computation"
   ]
  },
  {
   "cell_type": "code",
   "execution_count": 33,
   "metadata": {
    "collapsed": false,
    "scrolled": true
   },
   "outputs": [
    {
     "name": "stdout",
     "output_type": "stream",
     "text": [
      "<class 'pandas.core.frame.DataFrame'>\n",
      "Int64Index: 307 entries, 0 to 306\n",
      "Data columns (total 35 columns):\n",
      "Title                                  307 non-null object\n",
      "City                                   307 non-null object\n",
      "State                                  307 non-null object\n",
      "Latitude                               307 non-null float64\n",
      "Longitude                              307 non-null float64\n",
      "Number of Victim Fatalities            307 non-null float64\n",
      "Total Number of Fatalities             307 non-null float64\n",
      "Number of Victims Injured              307 non-null float64\n",
      "Total Number of Victims                307 non-null float64\n",
      "Description                            307 non-null object\n",
      "Date                                   307 non-null object\n",
      "Day of Week                            307 non-null object\n",
      "Shooter Name                           282 non-null object\n",
      "Shooter Age(s)                         279 non-null object\n",
      "Average Shooter Age                    277 non-null object\n",
      "Shooter Sex                            285 non-null object\n",
      "Shooter Race                           263 non-null object\n",
      "Type of Gun - Detailed                 231 non-null object\n",
      "Type of Gun - General                  241 non-null object\n",
      "Number of Shotguns                     235 non-null object\n",
      "Number of Rifles                       236 non-null object\n",
      "Number of Handguns                     238 non-null object\n",
      "Total Number of Guns                   262 non-null object\n",
      "Number of Automatic Guns               201 non-null object\n",
      "Number of Semi-Automatic Guns          205 non-null object\n",
      "Fate of Shooter at the scene           307 non-null object\n",
      "Shooter's Cause of Death               307 non-null object\n",
      "School Related                         295 non-null object\n",
      "Place Type                             307 non-null object\n",
      "Relationship to Incident Location      272 non-null object\n",
      "Targeted Victim/s - General            275 non-null object\n",
      "Possible Motive - General              222 non-null object\n",
      "History of Mental Illness - General    188 non-null object\n",
      "Military Experience                    39 non-null object\n",
      "Class                                  307 non-null object\n",
      "dtypes: float64(6), object(29)\n",
      "memory usage: 86.3+ KB\n"
     ]
    }
   ],
   "source": [
    "data.replace('Unknown', np.nan, inplace = True)\n",
    "\n",
    "data.info()"
   ]
  },
  {
   "cell_type": "markdown",
   "metadata": {},
   "source": [
    "Let us extract the total number of columns which have NaN values."
   ]
  },
  {
   "cell_type": "code",
   "execution_count": 34,
   "metadata": {
    "collapsed": false
   },
   "outputs": [
    {
     "data": {
      "text/plain": [
       "19"
      ]
     },
     "execution_count": 34,
     "metadata": {},
     "output_type": "execute_result"
    }
   ],
   "source": [
    "NaN_columns = data.columns[data.isnull().any()].tolist()\n",
    "\n",
    "len(NaN_columns)"
   ]
  },
  {
   "cell_type": "markdown",
   "metadata": {},
   "source": [
    "Let us get the summary of the data that includes the number of distinct values and the number of NaN values every column has."
   ]
  },
  {
   "cell_type": "code",
   "execution_count": 35,
   "metadata": {
    "collapsed": false,
    "scrolled": true
   },
   "outputs": [
    {
     "data": {
      "text/html": [
       "<div>\n",
       "<style scoped>\n",
       "    .dataframe tbody tr th:only-of-type {\n",
       "        vertical-align: middle;\n",
       "    }\n",
       "\n",
       "    .dataframe tbody tr th {\n",
       "        vertical-align: top;\n",
       "    }\n",
       "\n",
       "    .dataframe thead th {\n",
       "        text-align: right;\n",
       "    }\n",
       "</style>\n",
       "<table border=\"1\" class=\"dataframe\">\n",
       "  <thead>\n",
       "    <tr style=\"text-align: right;\">\n",
       "      <th></th>\n",
       "      <th>number_nan</th>\n",
       "      <th>number_distinct</th>\n",
       "    </tr>\n",
       "  </thead>\n",
       "  <tbody>\n",
       "    <tr>\n",
       "      <th>Military Experience</th>\n",
       "      <td>268</td>\n",
       "      <td>2</td>\n",
       "    </tr>\n",
       "    <tr>\n",
       "      <th>History of Mental Illness - General</th>\n",
       "      <td>119</td>\n",
       "      <td>2</td>\n",
       "    </tr>\n",
       "    <tr>\n",
       "      <th>Number of Automatic Guns</th>\n",
       "      <td>106</td>\n",
       "      <td>4</td>\n",
       "    </tr>\n",
       "    <tr>\n",
       "      <th>Number of Semi-Automatic Guns</th>\n",
       "      <td>102</td>\n",
       "      <td>6</td>\n",
       "    </tr>\n",
       "    <tr>\n",
       "      <th>Possible Motive - General</th>\n",
       "      <td>85</td>\n",
       "      <td>20</td>\n",
       "    </tr>\n",
       "    <tr>\n",
       "      <th>Type of Gun - Detailed</th>\n",
       "      <td>76</td>\n",
       "      <td>203</td>\n",
       "    </tr>\n",
       "    <tr>\n",
       "      <th>Number of Shotguns</th>\n",
       "      <td>72</td>\n",
       "      <td>3</td>\n",
       "    </tr>\n",
       "    <tr>\n",
       "      <th>Number of Rifles</th>\n",
       "      <td>71</td>\n",
       "      <td>5</td>\n",
       "    </tr>\n",
       "    <tr>\n",
       "      <th>Number of Handguns</th>\n",
       "      <td>69</td>\n",
       "      <td>8</td>\n",
       "    </tr>\n",
       "    <tr>\n",
       "      <th>Type of Gun - General</th>\n",
       "      <td>66</td>\n",
       "      <td>6</td>\n",
       "    </tr>\n",
       "    <tr>\n",
       "      <th>Total Number of Guns</th>\n",
       "      <td>45</td>\n",
       "      <td>9</td>\n",
       "    </tr>\n",
       "    <tr>\n",
       "      <th>Shooter Race</th>\n",
       "      <td>44</td>\n",
       "      <td>9</td>\n",
       "    </tr>\n",
       "    <tr>\n",
       "      <th>Relationship to Incident Location</th>\n",
       "      <td>35</td>\n",
       "      <td>10</td>\n",
       "    </tr>\n",
       "    <tr>\n",
       "      <th>Targeted Victim/s - General</th>\n",
       "      <td>32</td>\n",
       "      <td>23</td>\n",
       "    </tr>\n",
       "    <tr>\n",
       "      <th>Average Shooter Age</th>\n",
       "      <td>30</td>\n",
       "      <td>60</td>\n",
       "    </tr>\n",
       "    <tr>\n",
       "      <th>Shooter Age(s)</th>\n",
       "      <td>28</td>\n",
       "      <td>74</td>\n",
       "    </tr>\n",
       "    <tr>\n",
       "      <th>Shooter Name</th>\n",
       "      <td>25</td>\n",
       "      <td>273</td>\n",
       "    </tr>\n",
       "    <tr>\n",
       "      <th>Shooter Sex</th>\n",
       "      <td>22</td>\n",
       "      <td>3</td>\n",
       "    </tr>\n",
       "    <tr>\n",
       "      <th>School Related</th>\n",
       "      <td>12</td>\n",
       "      <td>4</td>\n",
       "    </tr>\n",
       "    <tr>\n",
       "      <th>Place Type</th>\n",
       "      <td>0</td>\n",
       "      <td>27</td>\n",
       "    </tr>\n",
       "    <tr>\n",
       "      <th>Shooter's Cause of Death</th>\n",
       "      <td>0</td>\n",
       "      <td>5</td>\n",
       "    </tr>\n",
       "    <tr>\n",
       "      <th>Fate of Shooter at the scene</th>\n",
       "      <td>0</td>\n",
       "      <td>6</td>\n",
       "    </tr>\n",
       "    <tr>\n",
       "      <th>Title</th>\n",
       "      <td>0</td>\n",
       "      <td>306</td>\n",
       "    </tr>\n",
       "    <tr>\n",
       "      <th>City</th>\n",
       "      <td>0</td>\n",
       "      <td>237</td>\n",
       "    </tr>\n",
       "    <tr>\n",
       "      <th>Day of Week</th>\n",
       "      <td>0</td>\n",
       "      <td>7</td>\n",
       "    </tr>\n",
       "    <tr>\n",
       "      <th>Date</th>\n",
       "      <td>0</td>\n",
       "      <td>273</td>\n",
       "    </tr>\n",
       "    <tr>\n",
       "      <th>Description</th>\n",
       "      <td>0</td>\n",
       "      <td>307</td>\n",
       "    </tr>\n",
       "    <tr>\n",
       "      <th>Total Number of Victims</th>\n",
       "      <td>0</td>\n",
       "      <td>29</td>\n",
       "    </tr>\n",
       "    <tr>\n",
       "      <th>Number of Victims Injured</th>\n",
       "      <td>0</td>\n",
       "      <td>27</td>\n",
       "    </tr>\n",
       "    <tr>\n",
       "      <th>Total Number of Fatalities</th>\n",
       "      <td>0</td>\n",
       "      <td>22</td>\n",
       "    </tr>\n",
       "    <tr>\n",
       "      <th>Number of Victim Fatalities</th>\n",
       "      <td>0</td>\n",
       "      <td>20</td>\n",
       "    </tr>\n",
       "    <tr>\n",
       "      <th>Longitude</th>\n",
       "      <td>0</td>\n",
       "      <td>256</td>\n",
       "    </tr>\n",
       "    <tr>\n",
       "      <th>Latitude</th>\n",
       "      <td>0</td>\n",
       "      <td>256</td>\n",
       "    </tr>\n",
       "    <tr>\n",
       "      <th>State</th>\n",
       "      <td>0</td>\n",
       "      <td>48</td>\n",
       "    </tr>\n",
       "    <tr>\n",
       "      <th>Class</th>\n",
       "      <td>0</td>\n",
       "      <td>4</td>\n",
       "    </tr>\n",
       "  </tbody>\n",
       "</table>\n",
       "</div>"
      ],
      "text/plain": [
       "                                     number_nan  number_distinct\n",
       "Military Experience                         268                2\n",
       "History of Mental Illness - General         119                2\n",
       "Number of Automatic Guns                    106                4\n",
       "Number of Semi-Automatic Guns               102                6\n",
       "Possible Motive - General                    85               20\n",
       "Type of Gun - Detailed                       76              203\n",
       "Number of Shotguns                           72                3\n",
       "Number of Rifles                             71                5\n",
       "Number of Handguns                           69                8\n",
       "Type of Gun - General                        66                6\n",
       "Total Number of Guns                         45                9\n",
       "Shooter Race                                 44                9\n",
       "Relationship to Incident Location            35               10\n",
       "Targeted Victim/s - General                  32               23\n",
       "Average Shooter Age                          30               60\n",
       "Shooter Age(s)                               28               74\n",
       "Shooter Name                                 25              273\n",
       "Shooter Sex                                  22                3\n",
       "School Related                               12                4\n",
       "Place Type                                    0               27\n",
       "Shooter's Cause of Death                      0                5\n",
       "Fate of Shooter at the scene                  0                6\n",
       "Title                                         0              306\n",
       "City                                          0              237\n",
       "Day of Week                                   0                7\n",
       "Date                                          0              273\n",
       "Description                                   0              307\n",
       "Total Number of Victims                       0               29\n",
       "Number of Victims Injured                     0               27\n",
       "Total Number of Fatalities                    0               22\n",
       "Number of Victim Fatalities                   0               20\n",
       "Longitude                                     0              256\n",
       "Latitude                                      0              256\n",
       "State                                         0               48\n",
       "Class                                         0                4"
      ]
     },
     "execution_count": 35,
     "metadata": {},
     "output_type": "execute_result"
    }
   ],
   "source": [
    "# get the summary of the data\n",
    "\n",
    "def getDfSummary(input_data):\n",
    "    # Place your code here\n",
    "    \n",
    "    #First, we generate the distinct values of each column and store the result as a Series\n",
    "    number_distinct = input_data.apply(pd.Series.nunique)\n",
    "    \n",
    "    #We create a new Dataframe which uses the describe() method and apply transpose to change rows into columns \n",
    "    #and column into rows\n",
    "    \n",
    "    df = DataFrame(input_data.describe(include = \"all\").T)\n",
    "    \n",
    "    #Create a new column 'number_nan' which checks for NaN values and sums them up\n",
    "    \n",
    "    df['number_nan'] = pd.isnull(input_data).sum(axis=0)\n",
    "    \n",
    "    #We create another column for storing the distinct values\n",
    "    \n",
    "    df['number_distinct'] = number_distinct\n",
    "    \n",
    "    #We drop the 'count' column as it is not required\n",
    "    \n",
    "    df = df.drop(\"count\", axis = 1)\n",
    "    \n",
    "    #We rearrange the columns\n",
    "    \n",
    "    new_columns = ['number_nan', 'number_distinct']\n",
    "    df = df.reindex(columns = new_columns)\n",
    "    \n",
    "    #We return the new DataFrame 'df' in the descending order of number_nan\n",
    "    \n",
    "    return df.sort_values(by = 'number_nan', ascending = False)\n",
    "    \n",
    "summary_data = getDfSummary(data)\n",
    "\n",
    "summary_data"
   ]
  },
  {
   "cell_type": "markdown",
   "metadata": {},
   "source": [
    "We observe that there are a lot of columns with NaN values. We will remove the NaN values for each and every column."
   ]
  },
  {
   "cell_type": "code",
   "execution_count": 36,
   "metadata": {
    "collapsed": false,
    "scrolled": true
   },
   "outputs": [
    {
     "data": {
      "text/plain": [
       "No        220\n",
       "Yes        73\n",
       "no          1\n",
       "Killed      1\n",
       "Name: School Related, dtype: int64"
      ]
     },
     "execution_count": 36,
     "metadata": {},
     "output_type": "execute_result"
    }
   ],
   "source": [
    "data['School Related'].value_counts()"
   ]
  },
  {
   "cell_type": "code",
   "execution_count": 37,
   "metadata": {
    "collapsed": false
   },
   "outputs": [
    {
     "data": {
      "text/plain": [
       "No         221\n",
       "Yes         74\n",
       "Unknown     12\n",
       "Name: School Related, dtype: int64"
      ]
     },
     "execution_count": 37,
     "metadata": {},
     "output_type": "execute_result"
    }
   ],
   "source": [
    "#Cleaning the 'School Related' column \n",
    "#Observe that some values are repeated with different capitalization or has the same meaning (eg. Killed -> yes)\n",
    "\n",
    "data['School Related'] = data['School Related'].map({'Killed': 'Yes', 'no': 'No', 'Yes': 'Yes', 'No': 'No', 'nan' : 'nan' })\n",
    "\n",
    "data['School Related'] = data['School Related'].fillna('Unknown')\n",
    "\n",
    "data['School Related'] = data['School Related'].astype('category')\n",
    "\n",
    "data['School Related'].value_counts()"
   ]
  },
  {
   "cell_type": "code",
   "execution_count": 38,
   "metadata": {
    "collapsed": false
   },
   "outputs": [
    {
     "data": {
      "text/plain": [
       "Handgun          133\n",
       "Multiple guns     58\n",
       "Rifle             30\n",
       "Shotgun           14\n",
       "Multiple Guns      4\n",
       "handgun            2\n",
       "Name: Type of Gun - General, dtype: int64"
      ]
     },
     "execution_count": 38,
     "metadata": {},
     "output_type": "execute_result"
    }
   ],
   "source": [
    "data['Type of Gun - General'].value_counts()"
   ]
  },
  {
   "cell_type": "code",
   "execution_count": 39,
   "metadata": {
    "collapsed": false
   },
   "outputs": [
    {
     "data": {
      "text/plain": [
       "Handgun          135\n",
       "Multiple Guns     62\n",
       "Rifle             30\n",
       "Shotgun           14\n",
       "Name: Type of Gun - General, dtype: int64"
      ]
     },
     "execution_count": 39,
     "metadata": {},
     "output_type": "execute_result"
    }
   ],
   "source": [
    "#Cleaning the 'Type of Gun - General' column\n",
    "#Again, same values with different capitalizations exist\n",
    "#For NaN values, it's hard to substitute any other value. We create a new value 'Unknown' to imply 'NaN'\n",
    "\n",
    "data['Type of Gun - General'] = data['Type of Gun - General'].map({'Handgun': 'Handgun', 'handgun': 'Handgun',\n",
    "                                                                   'Shotgun': 'Shotgun', 'Rifle': 'Rifle', \n",
    "                                                                   'Multiple Guns': 'Multiple Guns', \n",
    "                                                                   'Multiple guns': 'Multiple Guns', 'nan': 'Unknown'})\n",
    "\n",
    "data['Type of Gun - General'] = data['Type of Gun - General'].astype('category')\n",
    "data['Type of Gun - General'].value_counts()"
   ]
  },
  {
   "cell_type": "code",
   "execution_count": 40,
   "metadata": {
    "collapsed": false
   },
   "outputs": [
    {
     "data": {
      "text/plain": [
       "Residential home/Neighborhood                                          95\n",
       "Street/Highway                                                         28\n",
       "College/University/Adult education                                     27\n",
       "Secondary school                                                       21\n",
       "Government facility                                                    20\n",
       "Company/Factory/Office                                                 20\n",
       "Primary school                                                         16\n",
       "Retail/Wholesale/Services facility                                     15\n",
       "Entertainment venue                                                    12\n",
       "Restaurant/Cafe?                                                        8\n",
       "Entertainment Venue                                                     7\n",
       "Place of worship                                                        7\n",
       "Military facility                                                       5\n",
       "Medical/Care                                                            4\n",
       "Public transportation                                                   4\n",
       "Park/Wildness                                                           4\n",
       "Residential Home/Neighborhood                                           2\n",
       "Retail/Wholesale/Services facility\\r/Residential home/Neighborhood      2\n",
       "Park/Wilderness                                                         2\n",
       "Residential home/Neighborhood,\\rRetail/ Wholesale/Services facility     1\n",
       "Residential home/Neighborhood \\rand Street/Highway                      1\n",
       "Retail/ Wholesale/Services facility                                     1\n",
       "Retail/ Wholesale/Services facility\\rand Primary school                 1\n",
       "Secondary School                                                        1\n",
       "Restaurant/Cafe                                                         1\n",
       "Restaurant/Cafeé                                                        1\n",
       "Restaurant/cafe                                                         1\n",
       "Name: Place Type, dtype: int64"
      ]
     },
     "execution_count": 40,
     "metadata": {},
     "output_type": "execute_result"
    }
   ],
   "source": [
    "data['Place Type'].value_counts()"
   ]
  },
  {
   "cell_type": "code",
   "execution_count": 41,
   "metadata": {
    "collapsed": false
   },
   "outputs": [
    {
     "data": {
      "text/plain": [
       "Residential            98\n",
       "Public Place           92\n",
       "Educational            65\n",
       "Government Facility    25\n",
       "Work Place             20\n",
       "Religious Place         7\n",
       "Name: Place Type, dtype: int64"
      ]
     },
     "execution_count": 41,
     "metadata": {},
     "output_type": "execute_result"
    }
   ],
   "source": [
    "#Cleaning the Place Type column\n",
    "#This column is a mess. Lots of repeated values. Doing some broad generalizations\n",
    "\n",
    "data['Place Type'].replace(['Residential Home/Neighborhood', 'Residential home/Neighborhood',\n",
    "                         'Residential home/Neighborhood \\rand Street/Highway', 'Residential Home/Neighborhood'], 'Residential', inplace = True)\n",
    "\n",
    "data['Place Type'].replace(['College/University/Adult education', 'Primary school', 'Secondary school',\n",
    "                         'Secondary School'], 'Educational', inplace = True)\n",
    "\n",
    "data['Place Type'].replace(['Retail/Wholesale/Services facility', 'Entertainment venue', 'Restaurant/Cafe?',\n",
    "                           'Retail/ Wholesale/Services facility\\rand Primary school', 'Public transportation',\n",
    "                           'Street/Highway', 'Park/Wildness', 'Retail/ Wholesale/Services facility',\n",
    "                           'Medical/Care', 'Retail/Wholesale/Services facility\\r/Residential home/Neighborhood',\n",
    "                           'Residential home/Neighborhood,\\rRetail/ Wholesale/Services facility', 'Restaurant/Cafe\\xc3\\xa9',\n",
    "                           'Entertainment Venue', 'Restaurant/cafe', 'Park/Wilderness', 'Restaurant/Cafe',\n",
    "                           'Restaurant/Cafeé'], 'Public Place', inplace = True)\n",
    "\n",
    "data['Place Type'].replace('Place of worship', 'Religious Place', inplace = True)\n",
    "\n",
    "data['Place Type'].replace(['Government facility', 'Military facility'], 'Government Facility', inplace = True)\n",
    "        \n",
    "data['Place Type'].replace('Company/Factory/Office', 'Work Place', inplace = True)        \n",
    "\n",
    "data['Place Type'] = data['Place Type'].astype('category')\n",
    "\n",
    "#Getting the index of NaN in 'Type of Gun - General'\n",
    "bool_idx = data['Type of Gun - General'].isnull()\n",
    "\n",
    "data[bool_idx].index\n",
    "\n",
    "#Filling NaN with 'Handgun' if Place Type is 'Residential', else 'Multiple Guns'\n",
    "for i in data[bool_idx].index:\n",
    "    if data['Place Type'][i]=='Residential':\n",
    "          data['Type of Gun - General'].loc[i] = 'Handgun'\n",
    "    else:\n",
    "        data['Type of Gun - General'].loc[i] = 'Multiple Guns'\n",
    "\n",
    "data['Place Type'].value_counts()"
   ]
  },
  {
   "cell_type": "code",
   "execution_count": 42,
   "metadata": {
    "collapsed": false
   },
   "outputs": [
    {
     "data": {
      "text/plain": [
       "Yes    95\n",
       "No     93\n",
       "Name: History of Mental Illness - General, dtype: int64"
      ]
     },
     "execution_count": 42,
     "metadata": {},
     "output_type": "execute_result"
    }
   ],
   "source": [
    "data['History of Mental Illness - General'].value_counts()"
   ]
  },
  {
   "cell_type": "code",
   "execution_count": 43,
   "metadata": {
    "collapsed": false,
    "scrolled": true
   },
   "outputs": [
    {
     "data": {
      "text/plain": [
       "Unknown    119\n",
       "Yes         95\n",
       "No          93\n",
       "Name: History of Mental Illness - General, dtype: int64"
      ]
     },
     "execution_count": 43,
     "metadata": {},
     "output_type": "execute_result"
    }
   ],
   "source": [
    "#Cleaning the Mental Illness column\n",
    "data['History of Mental Illness - General'] = data['History of Mental Illness - General'].replace(np.nan, 'Unknown')\n",
    "\n",
    "data['History of Mental Illness - General'] = data['History of Mental Illness - General'].astype('category')\n",
    "\n",
    "data['History of Mental Illness - General'].value_counts()"
   ]
  },
  {
   "cell_type": "code",
   "execution_count": 44,
   "metadata": {
    "collapsed": false
   },
   "outputs": [
    {
     "data": {
      "text/plain": [
       "Yes    36\n",
       "No      3\n",
       "Name: Military Experience, dtype: int64"
      ]
     },
     "execution_count": 44,
     "metadata": {},
     "output_type": "execute_result"
    }
   ],
   "source": [
    "data['Military Experience'].value_counts()"
   ]
  },
  {
   "cell_type": "code",
   "execution_count": 45,
   "metadata": {
    "collapsed": false
   },
   "outputs": [
    {
     "data": {
      "text/plain": [
       "Unknown    268\n",
       "Yes         36\n",
       "No           3\n",
       "Name: Military Experience, dtype: int64"
      ]
     },
     "execution_count": 45,
     "metadata": {},
     "output_type": "execute_result"
    }
   ],
   "source": [
    "#Cleaning the Military Experience column\n",
    "\n",
    "data['Military Experience'] = data['Military Experience'].fillna('Unknown')\n",
    "\n",
    "data['Military Experience'] = data['Military Experience'].astype('category')\n",
    "\n",
    "data['Military Experience'].value_counts()"
   ]
  },
  {
   "cell_type": "code",
   "execution_count": 46,
   "metadata": {
    "collapsed": true
   },
   "outputs": [],
   "source": [
    "#Cleaning the numeric-related columns\n",
    "\n",
    "#Cleaning redundant values\n",
    "data['Number of Rifles'].replace('0 (1)', 0, inplace = True)\n",
    "data['Number of Handguns'].replace('2 (1)', 2, inplace = True)\n",
    "data['Number of Automatic Guns'].replace('1(0)', 1, inplace = True)\n",
    "data['Number of Semi-Automatic Guns'].replace('1(2)', 1, inplace = True)\n",
    "\n",
    "data['Number of Shotguns'] = data['Number of Shotguns'].astype('float64')\n",
    "data['Number of Rifles'] = data['Number of Rifles'].astype('float64')\n",
    "data['Number of Handguns'] = data['Number of Handguns'].astype('float64')\n",
    "data['Total Number of Guns'] = data['Total Number of Guns'].astype('float64')\n",
    "data['Number of Automatic Guns'] = data['Number of Automatic Guns'].astype('float64')\n",
    "data['Number of Semi-Automatic Guns'] = data['Number of Semi-Automatic Guns'].astype('float64')\n",
    "data['Average Shooter Age'] = data['Average Shooter Age'].astype('float64')\n",
    "\n",
    "#Computing the mean of all the numeric-related columns\n",
    "\n",
    "mean_semiautoguns = data['Number of Semi-Automatic Guns'].mean()\n",
    "mean_autoguns = data['Number of Automatic Guns'].mean()\n",
    "mean_shotguns = data['Number of Shotguns'].mean()\n",
    "mean_rifles = data['Number of Rifles'].mean()\n",
    "mean_handguns = data['Number of Handguns'].mean()\n",
    "mean_totalguns = data['Total Number of Guns'].mean()\n",
    "mean_avgshooterage = data['Average Shooter Age'].mean()\n",
    "\n",
    "#Filling the NaN values in the numeric columns with their respective mean\n",
    "\n",
    "data['Number of Semi-Automatic Guns'] = data['Number of Semi-Automatic Guns'].fillna(1)\n",
    "data['Number of Automatic Guns'] = data['Number of Automatic Guns'].fillna(mean_autoguns)\n",
    "data['Number of Shotguns'] = data['Number of Shotguns'].fillna(mean_shotguns)\n",
    "data['Number of Rifles'] = data['Number of Rifles'].fillna(mean_rifles)\n",
    "data['Number of Handguns'] = data['Number of Handguns'].fillna(mean_handguns)\n",
    "data['Total Number of Guns'] = data['Total Number of Guns'].fillna(mean_totalguns)\n",
    "data['Average Shooter Age'] = data['Average Shooter Age'].fillna(mean_avgshooterage)"
   ]
  },
  {
   "cell_type": "code",
   "execution_count": 47,
   "metadata": {
    "collapsed": false
   },
   "outputs": [
    {
     "data": {
      "text/plain": [
       "Deceased    134\n",
       "Arrested    118\n",
       "Escaped      54\n",
       "Killed        1\n",
       "Name: Fate of Shooter at the scene, dtype: int64"
      ]
     },
     "execution_count": 47,
     "metadata": {},
     "output_type": "execute_result"
    }
   ],
   "source": [
    "#Cleaning the Faith of Shooter column\n",
    "\n",
    "data['Fate of Shooter at the scene'].replace('Arrested/Escaped', 'Escaped', inplace = True)\n",
    "data['Fate of Shooter at the scene'].replace('Escaped\\r(Arrested)', 'Escaped', inplace = True)\n",
    "\n",
    "data['Fate of Shooter at the scene'] = data['Fate of Shooter at the scene'].astype('category')\n",
    "data['Fate of Shooter at the scene'].value_counts()"
   ]
  },
  {
   "cell_type": "code",
   "execution_count": 48,
   "metadata": {
    "collapsed": false
   },
   "outputs": [
    {
     "data": {
      "text/plain": [
       "Not Applicable    173\n",
       "Suicide            97\n",
       "Killed             37\n",
       "Name: Shooter's Cause of Death, dtype: int64"
      ]
     },
     "execution_count": 48,
     "metadata": {},
     "output_type": "execute_result"
    }
   ],
   "source": [
    "#Cleaning the Shooter's Cause of Death column\n",
    "\n",
    "data[\"Shooter's Cause of Death\"].replace('Not applicable', 'Not Applicable', inplace = True)\n",
    "data[\"Shooter's Cause of Death\"].replace('Killed/Suicide', 'Killed', inplace = True)\n",
    "\n",
    "data[\"Shooter's Cause of Death\"] = data[\"Shooter's Cause of Death\"].astype('category')\n",
    "data[\"Shooter's Cause of Death\"].value_counts()"
   ]
  },
  {
   "cell_type": "code",
   "execution_count": 49,
   "metadata": {
    "collapsed": false
   },
   "outputs": [
    {
     "data": {
      "text/plain": [
       "Unknown                       85\n",
       "Disputes                      83\n",
       "Personal Problems             48\n",
       "General Rejection             40\n",
       "Multiple Motives              32\n",
       "Targeting a Specific Group    18\n",
       "Robbery                        1\n",
       "Name: Possible Motive - General, dtype: int64"
      ]
     },
     "execution_count": 49,
     "metadata": {},
     "output_type": "execute_result"
    }
   ],
   "source": [
    "#Cleaning the Possible Motive Column\n",
    "#Broad generalizations being done here\n",
    "\n",
    "data['Possible Motive - General'].replace(['Mental illness', 'Drug use', 'Drug use/Financial difficulties',\n",
    "                                        'Financial difficulties', 'Harassment'], 'Personal Problems', inplace = True)\n",
    "\n",
    "data['Possible Motive - General'].replace(['Social dispute', 'Domestic dispute', 'Financial dispute',\n",
    "                                        'Social Dispute', 'Legal dispute', 'Domestic Dispute'],\n",
    "                                        'Disputes', inplace = True)\n",
    "\n",
    "data['Possible Motive - General'].replace(['Terminated/Denied/Reprimanded', 'Rejection', 'Failure',\n",
    "                                        'Expulsion/Suspension'], 'General Rejection', inplace = True)\n",
    "\n",
    "data['Possible Motive - General'].replace(['Political/Religious ideals', 'Race', 'Gender'], \n",
    "                                        'Targeting a Specific Group', inplace = True)\n",
    "\n",
    "data['Possible Motive - General'].replace('Multiple motives', 'Multiple Motives', inplace = True)\n",
    "\n",
    "data['Possible Motive - General'] = data['Possible Motive - General'].fillna('Unknown')\n",
    "\n",
    "data['Possible Motive - General'] = data['Possible Motive - General'].astype('category')\n",
    "\n",
    "data['Possible Motive - General'].value_counts()"
   ]
  },
  {
   "cell_type": "code",
   "execution_count": 50,
   "metadata": {
    "collapsed": false
   },
   "outputs": [
    {
     "data": {
      "text/plain": [
       "School Related              61\n",
       "Family Related              55\n",
       "General Public              48\n",
       "Work Related                44\n",
       "Unknown                     32\n",
       "Social Circle               28\n",
       "Romance Related             16\n",
       "Government Related          14\n",
       "Racial/Religious Related     9\n",
       "Name: Targeted Victim/s - General, dtype: int64"
      ]
     },
     "execution_count": 50,
     "metadata": {},
     "output_type": "execute_result"
    }
   ],
   "source": [
    "#Cleaning the Targeted Victims Column\n",
    "#Broad Generalizations being done here\n",
    "\n",
    "data[\"Targeted Victim/s - General\"].replace(['Students/Classmates/Teacher', 'Students/Classmates/Teacher\\rand Government'\n",
    "                                          ], 'School Related', inplace = True)\n",
    "\n",
    "data[\"Targeted Victim/s - General\"].replace(['Family', 'Family/Social', 'Family, Government', 'Family/General public',\n",
    "                                          'Family/Government'], 'Family Related', inplace = True)\n",
    "\n",
    "data[\"Targeted Victim/s - General\"].replace(['Social', 'Family/Social', 'Social/General public'\n",
    "                                          ], 'Social Circle', inplace = True)\n",
    "\n",
    "data[\"Targeted Victim/s - General\"].replace('Government', 'Government Related', inplace = True)\n",
    "\n",
    "data[\"Targeted Victim/s - General\"].replace(['Romantic partner', 'Romantic partner and Family', 'Romantic Partner',\n",
    "                                          'Former domestic partner and her family',\n",
    "                                          'Romantic partner, and her family'], 'Romance Related', inplace = True)\n",
    "\n",
    "data[\"Targeted Victim/s - General\"].replace(['General Public', 'General public\\rand Government', 'General public',\n",
    "                                          'None'], 'General Public', inplace = True)\n",
    "\n",
    "data[\"Targeted Victim/s - General\"].replace(['Colleague/Workmate/Business acquaintance', \n",
    "                                           'Colleague/Workmate/Business acquaintance\\rand Family'\n",
    "                                          ], 'Work Related', inplace = True)\n",
    "\n",
    "data[\"Targeted Victim/s - General\"].replace(['Racial/Religious group', 'Racial/Religious group\\rand Social'\n",
    "                                          ], 'Racial/Religious Related', inplace = True)\n",
    "\n",
    "data['Targeted Victim/s - General'] = data['Targeted Victim/s - General'].fillna('Unknown')\n",
    "\n",
    "data[\"Targeted Victim/s - General\"] = data[\"Targeted Victim/s - General\"].astype('category')\n",
    "\n",
    "data[\"Targeted Victim/s - General\"].value_counts()"
   ]
  },
  {
   "cell_type": "code",
   "execution_count": 51,
   "metadata": {
    "collapsed": false
   },
   "outputs": [
    {
     "data": {
      "text/plain": [
       "Residential            94\n",
       "None                   61\n",
       "Work Place             56\n",
       "Schooling              51\n",
       "Recreational Place     40\n",
       "Government Facility     5\n",
       "Name: Relationship to Incident Location, dtype: int64"
      ]
     },
     "execution_count": 51,
     "metadata": {},
     "output_type": "execute_result"
    }
   ],
   "source": [
    "#Cleaning the Relationship to Incident Location Column\n",
    "#Broad generalizations being done here\n",
    "data['Relationship to Incident Location'].replace(['Place of residency', 'Place of Residency',\n",
    "                                                'Residential home/Neighborhood'], 'Residential', inplace = True)\n",
    "\n",
    "data['Relationship to Incident Location'].replace(['Place of business/employment',\n",
    "                                                 'Place of business/employment\\rPlace of residency',\n",
    "                                                'Place of Business/employment'], 'Work Place', inplace = True)\n",
    "\n",
    "data['Relationship to Incident Location'].replace('Local government', 'Government Facility', inplace = True)\n",
    "\n",
    "data['Relationship to Incident Location'].replace('Place of recreation', 'Recreational Place', inplace = True)\n",
    "\n",
    "data['Relationship to Incident Location'].replace('Place of schooling', 'Schooling', inplace = True)\n",
    "\n",
    "data['Relationship to Incident Location'] = data['Relationship to Incident Location'].fillna('None')\n",
    "\n",
    "data['Relationship to Incident Location'] = data['Relationship to Incident Location'].astype('category')\n",
    "\n",
    "data['Relationship to Incident Location'].value_counts()"
   ]
  },
  {
   "cell_type": "code",
   "execution_count": 52,
   "metadata": {
    "collapsed": false
   },
   "outputs": [
    {
     "data": {
      "text/plain": [
       "Male                276\n",
       "Unknown              22\n",
       "Female                5\n",
       "Male with Female      4\n",
       "Name: Shooter Sex, dtype: int64"
      ]
     },
     "execution_count": 52,
     "metadata": {},
     "output_type": "execute_result"
    }
   ],
   "source": [
    "#Cleaning the Shooter Sex column\n",
    "\n",
    "data['Shooter Sex'].replace('Male/Female', 'Male with Female', inplace = True)\n",
    "\n",
    "data['Shooter Sex'] = data['Shooter Sex'].fillna('Unknown')\n",
    "\n",
    "data['Shooter Sex'] = data['Shooter Sex'].astype('category')\n",
    "\n",
    "data['Shooter Sex'].value_counts()"
   ]
  },
  {
   "cell_type": "code",
   "execution_count": 53,
   "metadata": {
    "collapsed": true
   },
   "outputs": [],
   "source": [
    "#Broadly generalising the Shooter Race column\n",
    "\n",
    "data['Shooter Race'].replace(['White American or European American', 'Black American or African American',\n",
    "                             'Asian American', 'Native American or Alaska Native', 'Asian American/Some other race',\n",
    "                             'White American or European American/Some other Race', 'Black American or African American/Unknown',\n",
    "                             'Two or more races'], \n",
    "                            ['White', 'Black', 'Asian', 'Native American', 'Asian', 'White', 'Black', 'Mixed Race'], inplace = True)\n",
    "\n",
    "data['Shooter Race'] = data['Shooter Race'].fillna('Unknown')\n",
    "\n",
    "data['Shooter Race'] = data['Shooter Race'].astype('category')"
   ]
  },
  {
   "cell_type": "markdown",
   "metadata": {},
   "source": [
    "Adding federal/public holidays dataset to add insight to the mass shootings dataset."
   ]
  },
  {
   "cell_type": "code",
   "execution_count": 54,
   "metadata": {
    "collapsed": false
   },
   "outputs": [
    {
     "data": {
      "text/plain": [
       "Date       485\n",
       "Holiday    485\n",
       "dtype: int64"
      ]
     },
     "execution_count": 54,
     "metadata": {},
     "output_type": "execute_result"
    }
   ],
   "source": [
    "#Reading the csv file\n",
    "holidays = pd.read_csv('us-holidays.csv')\n",
    "holidays2 = pd.read_csv('holidays_upto2010.csv')\n",
    "\n",
    "#Converting date formats of the holiday dataframes\n",
    "holidays['Date'] = pd.to_datetime(holidays['Date'])\n",
    "holidays2['Date'] = pd.to_datetime(holidays2['Date'])\n",
    "\n",
    "data['Date'] = pd.to_datetime(data['Date'], dayfirst = True)\n",
    "\n",
    "#Extracting the individual years, month, and day\n",
    "data['Year'] = data['Date'].dt.year\n",
    "data['Month'] = data['Date'].dt.month\n",
    "data['Day'] = data['Date'].dt.day\n",
    "\n",
    "#Combining the holiday dataframes (1966-2010, 2010-2016) to get one complete dataframe\n",
    "usholidays = holidays.append(holidays2)\n",
    "usholidays = usholidays.reset_index(drop=True)\n",
    "#DataFrame.to_csv(usholidays, sep='\\t', encoding='utf-8')\n",
    "usholidays.count()"
   ]
  },
  {
   "cell_type": "code",
   "execution_count": 305,
   "metadata": {
    "collapsed": false
   },
   "outputs": [
    {
     "data": {
      "text/plain": [
       "16     yes\n",
       "57     yes\n",
       "136    yes\n",
       "171    yes\n",
       "203    yes\n",
       "296    yes\n",
       "Name: on_holidays, dtype: object"
      ]
     },
     "execution_count": 305,
     "metadata": {},
     "output_type": "execute_result"
    }
   ],
   "source": [
    "#Adding a 'on_holidays' column to data dataframe\n",
    "#data['on_holidays'] = np.NaN\n",
    "\n",
    "#Creating a Series 'hols' of the Holidays' dates for checking\n",
    "hols = pd.Series(usholidays['Date'])\n",
    "\n",
    "#Assiging yes to 'on_holidays' column for date match\n",
    "data['on_holidays'] = np.where(data['Date'].isin(hols), 'yes', 'no')\n",
    "\n",
    "#Finding the rows(indexes) with 'on_holidays' = 'Yes', showing the attacks that took place on a public holiday\n",
    "data.loc[data['on_holidays'] == 'yes', 'on_holidays']"
   ]
  },
  {
   "cell_type": "code",
   "execution_count": 306,
   "metadata": {
    "collapsed": false
   },
   "outputs": [
    {
     "data": {
      "text/plain": [
       "no     301\n",
       "yes      6\n",
       "Name: on_holidays, dtype: int64"
      ]
     },
     "execution_count": 306,
     "metadata": {},
     "output_type": "execute_result"
    }
   ],
   "source": [
    "data['on_holidays'].value_counts()"
   ]
  },
  {
   "cell_type": "code",
   "execution_count": 307,
   "metadata": {
    "collapsed": false
   },
   "outputs": [
    {
     "data": {
      "text/plain": [
       "0    301\n",
       "1      6\n",
       "Name: on_holidays, dtype: int64"
      ]
     },
     "execution_count": 307,
     "metadata": {},
     "output_type": "execute_result"
    }
   ],
   "source": [
    "#Converting on_holidays column values to binary\n",
    "\n",
    "data.on_holidays.replace('yes', 1, inplace = True)\n",
    "data.on_holidays.replace('no', 0, inplace = True)\n",
    "\n",
    "data['on_holidays'].value_counts()"
   ]
  },
  {
   "cell_type": "markdown",
   "metadata": {},
   "source": [
    "Adding a 'Weekend' column to indicate whether the attack was on the weekend (Sat or Sun) or weekday (Mon-Fri)."
   ]
  },
  {
   "cell_type": "code",
   "execution_count": 56,
   "metadata": {
    "collapsed": true
   },
   "outputs": [],
   "source": [
    "data['Weekend'] = data.apply(lambda _: '', axis=1)\n",
    "\n",
    "weekends = []\n",
    "weekends.append('Saturday')\n",
    "weekends.append('Sunday')\n",
    "data['Weekend'] = np.where(data['Day of Week'].isin(weekends), 'yes', 'no')"
   ]
  },
  {
   "cell_type": "code",
   "execution_count": null,
   "metadata": {
    "collapsed": true
   },
   "outputs": [],
   "source": []
  },
  {
   "cell_type": "code",
   "execution_count": 309,
   "metadata": {
    "collapsed": false
   },
   "outputs": [
    {
     "data": {
      "text/plain": [
       "no     219\n",
       "yes     88\n",
       "Name: Weekend, dtype: int64"
      ]
     },
     "execution_count": 309,
     "metadata": {},
     "output_type": "execute_result"
    }
   ],
   "source": [
    "data['Weekend'].value_counts()"
   ]
  },
  {
   "cell_type": "code",
   "execution_count": 310,
   "metadata": {
    "collapsed": false
   },
   "outputs": [
    {
     "data": {
      "text/plain": [
       "0    219\n",
       "1     88\n",
       "Name: Weekend, dtype: int64"
      ]
     },
     "execution_count": 310,
     "metadata": {},
     "output_type": "execute_result"
    }
   ],
   "source": [
    "#Converting Weekend column values to binary\n",
    "\n",
    "data.Weekend.replace('yes', 1, inplace = True)\n",
    "data.Weekend.replace('no', 0, inplace = True)\n",
    "\n",
    "data['Weekend'].value_counts()"
   ]
  },
  {
   "cell_type": "code",
   "execution_count": 311,
   "metadata": {
    "collapsed": true
   },
   "outputs": [],
   "source": [
    "#Casting the following columns to the category datatype\n",
    "\n",
    "data['State'] = data['State'].astype('category')\n",
    "data['City'] = data['City'].astype('category')\n",
    "data['Day of Week'] = data['Day of Week'].astype('category')\n",
    "data['Class'] = data['Class'].astype('category')"
   ]
  },
  {
   "cell_type": "markdown",
   "metadata": {},
   "source": [
    "Let us get the summary of the data that includes the number of distinct values and the number of NaN values every column has."
   ]
  },
  {
   "cell_type": "code",
   "execution_count": 312,
   "metadata": {
    "collapsed": false,
    "scrolled": true
   },
   "outputs": [
    {
     "data": {
      "text/html": [
       "<div>\n",
       "<style>\n",
       "    .dataframe thead tr:only-child th {\n",
       "        text-align: right;\n",
       "    }\n",
       "\n",
       "    .dataframe thead th {\n",
       "        text-align: left;\n",
       "    }\n",
       "\n",
       "    .dataframe tbody tr th {\n",
       "        vertical-align: top;\n",
       "    }\n",
       "</style>\n",
       "<table border=\"1\" class=\"dataframe\">\n",
       "  <thead>\n",
       "    <tr style=\"text-align: right;\">\n",
       "      <th></th>\n",
       "      <th>number_nan</th>\n",
       "      <th>number_distinct</th>\n",
       "    </tr>\n",
       "  </thead>\n",
       "  <tbody>\n",
       "    <tr>\n",
       "      <th>Type of Gun - Detailed</th>\n",
       "      <td>76</td>\n",
       "      <td>203</td>\n",
       "    </tr>\n",
       "    <tr>\n",
       "      <th>Shooter Age(s)</th>\n",
       "      <td>28</td>\n",
       "      <td>74</td>\n",
       "    </tr>\n",
       "    <tr>\n",
       "      <th>Shooter Name</th>\n",
       "      <td>25</td>\n",
       "      <td>273</td>\n",
       "    </tr>\n",
       "    <tr>\n",
       "      <th>Title</th>\n",
       "      <td>0</td>\n",
       "      <td>306</td>\n",
       "    </tr>\n",
       "    <tr>\n",
       "      <th>Relationship to Incident Location</th>\n",
       "      <td>0</td>\n",
       "      <td>6</td>\n",
       "    </tr>\n",
       "    <tr>\n",
       "      <th>Number of Semi-Automatic Guns</th>\n",
       "      <td>0</td>\n",
       "      <td>5</td>\n",
       "    </tr>\n",
       "    <tr>\n",
       "      <th>Fate of Shooter at the scene</th>\n",
       "      <td>0</td>\n",
       "      <td>4</td>\n",
       "    </tr>\n",
       "    <tr>\n",
       "      <th>Shooter's Cause of Death</th>\n",
       "      <td>0</td>\n",
       "      <td>3</td>\n",
       "    </tr>\n",
       "    <tr>\n",
       "      <th>School Related</th>\n",
       "      <td>0</td>\n",
       "      <td>3</td>\n",
       "    </tr>\n",
       "    <tr>\n",
       "      <th>Place Type</th>\n",
       "      <td>0</td>\n",
       "      <td>6</td>\n",
       "    </tr>\n",
       "    <tr>\n",
       "      <th>Targeted Victim/s - General</th>\n",
       "      <td>0</td>\n",
       "      <td>9</td>\n",
       "    </tr>\n",
       "    <tr>\n",
       "      <th>Total Number of Guns</th>\n",
       "      <td>0</td>\n",
       "      <td>10</td>\n",
       "    </tr>\n",
       "    <tr>\n",
       "      <th>Possible Motive - General</th>\n",
       "      <td>0</td>\n",
       "      <td>7</td>\n",
       "    </tr>\n",
       "    <tr>\n",
       "      <th>History of Mental Illness - General</th>\n",
       "      <td>0</td>\n",
       "      <td>3</td>\n",
       "    </tr>\n",
       "    <tr>\n",
       "      <th>Military Experience</th>\n",
       "      <td>0</td>\n",
       "      <td>3</td>\n",
       "    </tr>\n",
       "    <tr>\n",
       "      <th>Class</th>\n",
       "      <td>0</td>\n",
       "      <td>4</td>\n",
       "    </tr>\n",
       "    <tr>\n",
       "      <th>Year</th>\n",
       "      <td>0</td>\n",
       "      <td>41</td>\n",
       "    </tr>\n",
       "    <tr>\n",
       "      <th>Month</th>\n",
       "      <td>0</td>\n",
       "      <td>12</td>\n",
       "    </tr>\n",
       "    <tr>\n",
       "      <th>Day</th>\n",
       "      <td>0</td>\n",
       "      <td>31</td>\n",
       "    </tr>\n",
       "    <tr>\n",
       "      <th>on_holidays</th>\n",
       "      <td>0</td>\n",
       "      <td>2</td>\n",
       "    </tr>\n",
       "    <tr>\n",
       "      <th>Number of Automatic Guns</th>\n",
       "      <td>0</td>\n",
       "      <td>4</td>\n",
       "    </tr>\n",
       "    <tr>\n",
       "      <th>Number of Rifles</th>\n",
       "      <td>0</td>\n",
       "      <td>5</td>\n",
       "    </tr>\n",
       "    <tr>\n",
       "      <th>Number of Handguns</th>\n",
       "      <td>0</td>\n",
       "      <td>8</td>\n",
       "    </tr>\n",
       "    <tr>\n",
       "      <th>City</th>\n",
       "      <td>0</td>\n",
       "      <td>237</td>\n",
       "    </tr>\n",
       "    <tr>\n",
       "      <th>State</th>\n",
       "      <td>0</td>\n",
       "      <td>48</td>\n",
       "    </tr>\n",
       "    <tr>\n",
       "      <th>Latitude</th>\n",
       "      <td>0</td>\n",
       "      <td>256</td>\n",
       "    </tr>\n",
       "    <tr>\n",
       "      <th>Longitude</th>\n",
       "      <td>0</td>\n",
       "      <td>256</td>\n",
       "    </tr>\n",
       "    <tr>\n",
       "      <th>Number of Victim Fatalities</th>\n",
       "      <td>0</td>\n",
       "      <td>20</td>\n",
       "    </tr>\n",
       "    <tr>\n",
       "      <th>Total Number of Fatalities</th>\n",
       "      <td>0</td>\n",
       "      <td>22</td>\n",
       "    </tr>\n",
       "    <tr>\n",
       "      <th>Number of Victims Injured</th>\n",
       "      <td>0</td>\n",
       "      <td>27</td>\n",
       "    </tr>\n",
       "    <tr>\n",
       "      <th>Total Number of Victims</th>\n",
       "      <td>0</td>\n",
       "      <td>29</td>\n",
       "    </tr>\n",
       "    <tr>\n",
       "      <th>Description</th>\n",
       "      <td>0</td>\n",
       "      <td>307</td>\n",
       "    </tr>\n",
       "    <tr>\n",
       "      <th>Date</th>\n",
       "      <td>0</td>\n",
       "      <td>273</td>\n",
       "    </tr>\n",
       "    <tr>\n",
       "      <th>Day of Week</th>\n",
       "      <td>0</td>\n",
       "      <td>7</td>\n",
       "    </tr>\n",
       "    <tr>\n",
       "      <th>Average Shooter Age</th>\n",
       "      <td>0</td>\n",
       "      <td>61</td>\n",
       "    </tr>\n",
       "    <tr>\n",
       "      <th>Shooter Sex</th>\n",
       "      <td>0</td>\n",
       "      <td>4</td>\n",
       "    </tr>\n",
       "    <tr>\n",
       "      <th>Shooter Race</th>\n",
       "      <td>0</td>\n",
       "      <td>7</td>\n",
       "    </tr>\n",
       "    <tr>\n",
       "      <th>Type of Gun - General</th>\n",
       "      <td>0</td>\n",
       "      <td>4</td>\n",
       "    </tr>\n",
       "    <tr>\n",
       "      <th>Number of Shotguns</th>\n",
       "      <td>0</td>\n",
       "      <td>4</td>\n",
       "    </tr>\n",
       "    <tr>\n",
       "      <th>Weekend</th>\n",
       "      <td>0</td>\n",
       "      <td>2</td>\n",
       "    </tr>\n",
       "  </tbody>\n",
       "</table>\n",
       "</div>"
      ],
      "text/plain": [
       "                                     number_nan  number_distinct\n",
       "Type of Gun - Detailed                       76              203\n",
       "Shooter Age(s)                               28               74\n",
       "Shooter Name                                 25              273\n",
       "Title                                         0              306\n",
       "Relationship to Incident Location             0                6\n",
       "Number of Semi-Automatic Guns                 0                5\n",
       "Fate of Shooter at the scene                  0                4\n",
       "Shooter's Cause of Death                      0                3\n",
       "School Related                                0                3\n",
       "Place Type                                    0                6\n",
       "Targeted Victim/s - General                   0                9\n",
       "Total Number of Guns                          0               10\n",
       "Possible Motive - General                     0                7\n",
       "History of Mental Illness - General           0                3\n",
       "Military Experience                           0                3\n",
       "Class                                         0                4\n",
       "Year                                          0               41\n",
       "Month                                         0               12\n",
       "Day                                           0               31\n",
       "on_holidays                                   0                2\n",
       "Number of Automatic Guns                      0                4\n",
       "Number of Rifles                              0                5\n",
       "Number of Handguns                            0                8\n",
       "City                                          0              237\n",
       "State                                         0               48\n",
       "Latitude                                      0              256\n",
       "Longitude                                     0              256\n",
       "Number of Victim Fatalities                   0               20\n",
       "Total Number of Fatalities                    0               22\n",
       "Number of Victims Injured                     0               27\n",
       "Total Number of Victims                       0               29\n",
       "Description                                   0              307\n",
       "Date                                          0              273\n",
       "Day of Week                                   0                7\n",
       "Average Shooter Age                           0               61\n",
       "Shooter Sex                                   0                4\n",
       "Shooter Race                                  0                7\n",
       "Type of Gun - General                         0                4\n",
       "Number of Shotguns                            0                4\n",
       "Weekend                                       0                2"
      ]
     },
     "execution_count": 312,
     "metadata": {},
     "output_type": "execute_result"
    }
   ],
   "source": [
    "summary_data_cleaned = getDfSummary(data)\n",
    "\n",
    "summary_data_cleaned"
   ]
  },
  {
   "cell_type": "code",
   "execution_count": 313,
   "metadata": {
    "collapsed": false
   },
   "outputs": [
    {
     "name": "stdout",
     "output_type": "stream",
     "text": [
      "<class 'pandas.core.frame.DataFrame'>\n",
      "Int64Index: 307 entries, 0 to 306\n",
      "Data columns (total 40 columns):\n",
      "Title                                  307 non-null object\n",
      "City                                   307 non-null category\n",
      "State                                  307 non-null category\n",
      "Latitude                               307 non-null float64\n",
      "Longitude                              307 non-null float64\n",
      "Number of Victim Fatalities            307 non-null float64\n",
      "Total Number of Fatalities             307 non-null float64\n",
      "Number of Victims Injured              307 non-null float64\n",
      "Total Number of Victims                307 non-null float64\n",
      "Description                            307 non-null object\n",
      "Date                                   307 non-null datetime64[ns]\n",
      "Day of Week                            307 non-null category\n",
      "Shooter Name                           282 non-null object\n",
      "Shooter Age(s)                         279 non-null object\n",
      "Average Shooter Age                    307 non-null float64\n",
      "Shooter Sex                            307 non-null category\n",
      "Shooter Race                           307 non-null category\n",
      "Type of Gun - Detailed                 231 non-null object\n",
      "Type of Gun - General                  307 non-null category\n",
      "Number of Shotguns                     307 non-null float64\n",
      "Number of Rifles                       307 non-null float64\n",
      "Number of Handguns                     307 non-null float64\n",
      "Total Number of Guns                   307 non-null float64\n",
      "Number of Automatic Guns               307 non-null float64\n",
      "Number of Semi-Automatic Guns          307 non-null float64\n",
      "Fate of Shooter at the scene           307 non-null category\n",
      "Shooter's Cause of Death               307 non-null category\n",
      "School Related                         307 non-null category\n",
      "Place Type                             307 non-null category\n",
      "Relationship to Incident Location      307 non-null category\n",
      "Targeted Victim/s - General            307 non-null category\n",
      "Possible Motive - General              307 non-null category\n",
      "History of Mental Illness - General    307 non-null category\n",
      "Military Experience                    307 non-null category\n",
      "Class                                  307 non-null category\n",
      "Year                                   307 non-null int64\n",
      "Month                                  307 non-null int64\n",
      "Day                                    307 non-null int64\n",
      "on_holidays                            307 non-null int64\n",
      "Weekend                                307 non-null int64\n",
      "dtypes: category(16), datetime64[ns](1), float64(13), int64(5), object(5)\n",
      "memory usage: 91.6+ KB\n"
     ]
    }
   ],
   "source": [
    "data.info()"
   ]
  },
  {
   "cell_type": "markdown",
   "metadata": {
    "collapsed": true
   },
   "source": [
    "We observe that we have cleaned most of the data. Only three columns have NaN values: 'Type of Gun - Detailed' (which is insignificant as we use it's counterpart 'Type of Gun - General'), 'Shooter Ages' (again insignificant as we use it's counterpart 'Average Shooter Age'), and 'Shooter Name' (again redundant as we don't use it for our analysis) "
   ]
  },
  {
   "cell_type": "markdown",
   "metadata": {},
   "source": [
    "## Part - II Exploratory Analysis"
   ]
  },
  {
   "cell_type": "markdown",
   "metadata": {},
   "source": [
    "Let us plot the number of crime incidents by gender."
   ]
  },
  {
   "cell_type": "code",
   "execution_count": 314,
   "metadata": {
    "collapsed": false
   },
   "outputs": [
    {
     "data": {
      "text/plain": [
       "<matplotlib.axes._subplots.AxesSubplot at 0x123abe978>"
      ]
     },
     "execution_count": 314,
     "metadata": {},
     "output_type": "execute_result"
    },
    {
     "data": {
      "image/png": "[encoded data removed]",
      "text/plain": [
       "<matplotlib.figure.Figure at 0x123aba208>"
      ]
     },
     "metadata": {},
     "output_type": "display_data"
    }
   ],
   "source": [
    "sns.countplot(x = 'Shooter Sex', data = data)"
   ]
  },
  {
   "cell_type": "markdown",
   "metadata": {},
   "source": [
    "We see that there is a significant disproportion between male and female shooters."
   ]
  },
  {
   "cell_type": "markdown",
   "metadata": {},
   "source": [
    "Let's see the number of shooters by ethnicity."
   ]
  },
  {
   "cell_type": "code",
   "execution_count": 315,
   "metadata": {
    "collapsed": false
   },
   "outputs": [
    {
     "data": {
      "text/plain": [
       "<matplotlib.axes._subplots.AxesSubplot at 0x123a99710>"
      ]
     },
     "execution_count": 315,
     "metadata": {},
     "output_type": "execute_result"
    },
    {
     "data": {
      "image/png": "[encoded data removed]",
      "text/plain": [
       "<matplotlib.figure.Figure at 0x123aa6208>"
      ]
     },
     "metadata": {},
     "output_type": "display_data"
    }
   ],
   "source": [
    "sns.countplot(y = 'Shooter Race', data = data)"
   ]
  },
  {
   "cell_type": "markdown",
   "metadata": {},
   "source": [
    "From the above graph, we notice that the number of white shooters are almost the double of the next highest number of shooters (black). "
   ]
  },
  {
   "cell_type": "markdown",
   "metadata": {},
   "source": [
    "Visualizing the number of shooters based on an age group."
   ]
  },
  {
   "cell_type": "code",
   "execution_count": 316,
   "metadata": {
    "collapsed": false,
    "scrolled": false
   },
   "outputs": [
    {
     "data": {
      "image/png": "[encoded data removed]",
      "text/plain": [
       "<matplotlib.figure.Figure at 0x123aaee80>"
      ]
     },
     "metadata": {},
     "output_type": "display_data"
    }
   ],
   "source": [
    "data['Average Shooter Age'] = data['Average Shooter Age'].astype(float)\n",
    "count_0_18 = 0\n",
    "count_19_30 = 0\n",
    "count_31_50 = 0\n",
    "count_51_80 = 0\n",
    "count_81_100 = 0\n",
    "count_NaN = 0\n",
    "for i in data['Average Shooter Age']:\n",
    "    \n",
    "    if i > 0 and i <= 18:\n",
    "        count_0_18 += 1\n",
    "    elif i > 18 and i <= 30:\n",
    "        count_19_30 += 1\n",
    "    elif i > 30 and i <= 50:\n",
    "        count_31_50 += 1\n",
    "    elif i > 50 and i <= 80:\n",
    "        count_51_80 += 1\n",
    "    elif i > 81 and i <= 100:\n",
    "        count_81_100 += 1\n",
    "    else:\n",
    "        count_NaN += 1\n",
    "\n",
    "\n",
    "Shooter_Count_List = [count_0_18, count_19_30, count_31_50, count_51_80, count_81_100]\n",
    "\n",
    "index_list = []\n",
    "\n",
    "for i in range(len(Shooter_Count_List)):\n",
    "    index_list.append(i)\n",
    "    \n",
    "fig_1 = plt.figure(figsize = (8, 7))\n",
    "fig_1 = plt.bar(left = Series(index_list) + 0.60,height = Shooter_Count_List)\n",
    "\n",
    "plt.xticks(range(1, 6), ('0-18', '19-30', '31-50', '51-80', '81-100'))\n",
    "plt.xlabel(\"Shooter Age\")\n",
    "plt.ylabel(\"No of Shooters\")\n",
    "plt.title(\"Number of Shooters by Age Category\")\n",
    "plt.show()\n"
   ]
  },
  {
   "cell_type": "markdown",
   "metadata": {},
   "source": [
    "Most number of shooters are middle-aged. It's also disturbing to see that there is a significant number of teenage shooters."
   ]
  },
  {
   "cell_type": "markdown",
   "metadata": {},
   "source": [
    "Visualising the mental health status of the shooters to gain insights into their mind. "
   ]
  },
  {
   "cell_type": "code",
   "execution_count": 317,
   "metadata": {
    "collapsed": false
   },
   "outputs": [
    {
     "data": {
      "text/plain": [
       "<matplotlib.axes._subplots.AxesSubplot at 0x123a455c0>"
      ]
     },
     "execution_count": 317,
     "metadata": {},
     "output_type": "execute_result"
    },
    {
     "data": {
      "image/png": "[encoded data removed]",
      "text/plain": [
       "<matplotlib.figure.Figure at 0x123a81ba8>"
      ]
     },
     "metadata": {},
     "output_type": "display_data"
    }
   ],
   "source": [
    "unknown_included = DataFrame(data['History of Mental Illness - General'].replace(np.nan, 'Unknown'))\n",
    "sns.countplot(x = 'History of Mental Illness - General', data = unknown_included)\n",
    "#unknown_included"
   ]
  },
  {
   "cell_type": "markdown",
   "metadata": {},
   "source": [
    "That's interesting. Contrary to what is portrayed in the media, mental illness does not appear to be the root cause of mass shooting as there are equally non-mental shooters. One caveat to be noted is the number of Unknown is high. So we cannot conclude."
   ]
  },
  {
   "cell_type": "markdown",
   "metadata": {},
   "source": [
    "Viewing the number of mass shootings incidents in each state to see which states are more prone to the attacks."
   ]
  },
  {
   "cell_type": "code",
   "execution_count": 318,
   "metadata": {
    "collapsed": false
   },
   "outputs": [
    {
     "data": {
      "text/plain": [
       "<matplotlib.axes._subplots.AxesSubplot at 0x123a8f278>"
      ]
     },
     "execution_count": 318,
     "metadata": {},
     "output_type": "execute_result"
    },
    {
     "data": {
      "image/png": "[encoded data removed]",
      "text/plain": [
       "<matplotlib.figure.Figure at 0x123a810b8>"
      ]
     },
     "metadata": {},
     "output_type": "display_data"
    }
   ],
   "source": [
    "\n",
    "f, ax = plt.subplots(figsize=(8, 6))\n",
    "plt.title(\"Number of Incidents per State\")\n",
    "plt.ylabel(\"Total Number of Incidents\")\n",
    "plt.xlabel(\"States\")\n",
    "data['State'].value_counts().plot(kind = 'bar')\n"
   ]
  },
  {
   "cell_type": "markdown",
   "metadata": {},
   "source": [
    "California has the highest number of mass shooting incidents. Wyoming, the least."
   ]
  },
  {
   "cell_type": "markdown",
   "metadata": {},
   "source": [
    "Visualizing total number of attacks per year."
   ]
  },
  {
   "cell_type": "code",
   "execution_count": 319,
   "metadata": {
    "collapsed": false
   },
   "outputs": [
    {
     "data": {
      "image/png": "[encoded data removed]",
      "text/plain": [
       "<matplotlib.figure.Figure at 0x1189e9080>"
      ]
     },
     "metadata": {},
     "output_type": "display_data"
    }
   ],
   "source": [
    "#color = sns.color_palette()\n",
    "cnt_srs = data['Year'].value_counts()\n",
    "plt.figure(figsize=(12,6))\n",
    "#sns.barplot(cnt_srs.index, cnt_srs.values, alpha=0.8, color='r')\n",
    "sns.countplot(x = data['Year'], color = 'r')\n",
    "plt.xticks(rotation='vertical')\n",
    "plt.xlabel('Year of Shooting', fontsize=12)\n",
    "plt.ylabel('Number of Attacks', fontsize=12)\n",
    "plt.title('No. of Attacks per Year', fontsize=18)\n",
    "plt.show()\n",
    "# data['Year']"
   ]
  },
  {
   "cell_type": "markdown",
   "metadata": {},
   "source": [
    "A sudden increase in the number of mass shooting incidents in the year 2015 and 2016 is to be noted."
   ]
  },
  {
   "cell_type": "code",
   "execution_count": 320,
   "metadata": {
    "collapsed": false
   },
   "outputs": [
    {
     "data": {
      "image/png": "[encoded data removed]",
      "text/plain": [
       "<matplotlib.figure.Figure at 0x118a00978>"
      ]
     },
     "metadata": {},
     "output_type": "display_data"
    }
   ],
   "source": [
    "sns.countplot(x = data['Month'], color = 'r')\n",
    "#plt.xticks(rotation='vertical')\n",
    "plt.xlabel('Month of Shooting', fontsize=12)\n",
    "plt.ylabel('Number of Attacks', fontsize=12)\n",
    "plt.title('No. of Attacks per Month', fontsize=18)\n",
    "plt.show()"
   ]
  },
  {
   "cell_type": "markdown",
   "metadata": {},
   "source": [
    "January, February, March has the highest number of mass shooting incidents."
   ]
  },
  {
   "cell_type": "markdown",
   "metadata": {},
   "source": [
    "Checking which days of the week are more deadly."
   ]
  },
  {
   "cell_type": "code",
   "execution_count": 321,
   "metadata": {
    "collapsed": false,
    "scrolled": false
   },
   "outputs": [
    {
     "data": {
      "text/plain": [
       "<matplotlib.axes._subplots.AxesSubplot at 0x125fa6630>"
      ]
     },
     "execution_count": 321,
     "metadata": {},
     "output_type": "execute_result"
    },
    {
     "data": {
      "image/png": "[encoded data removed]",
      "text/plain": [
       "<matplotlib.figure.Figure at 0x123ab09b0>"
      ]
     },
     "metadata": {},
     "output_type": "display_data"
    }
   ],
   "source": [
    "sns.set(style='darkgrid')\n",
    "sns.countplot(x = 'Day of Week', data = data, order = data['Day of Week'].value_counts().index,  palette=\"Reds_d\")"
   ]
  },
  {
   "cell_type": "markdown",
   "metadata": {},
   "source": [
    "Thursday, Sunday, and Friday have the highest number of mass shooting incidents."
   ]
  },
  {
   "cell_type": "markdown",
   "metadata": {},
   "source": [
    "Checking how many attacks happen on a weekend vs normal weekdays"
   ]
  },
  {
   "cell_type": "code",
   "execution_count": 322,
   "metadata": {
    "collapsed": false
   },
   "outputs": [
    {
     "data": {
      "text/plain": [
       "<matplotlib.text.Text at 0x121f72dd8>"
      ]
     },
     "execution_count": 322,
     "metadata": {},
     "output_type": "execute_result"
    },
    {
     "data": {
      "image/png": "[encoded data removed]",
      "text/plain": [
       "<matplotlib.figure.Figure at 0x125f24208>"
      ]
     },
     "metadata": {},
     "output_type": "display_data"
    }
   ],
   "source": [
    "#Need to Plot normal week vs weekend days\n",
    "\n",
    "sns.countplot(x = data['Weekend'])\n",
    "plt.title(\"Did the Attacks occur on a Weekend?\")\n",
    "plt.ylabel(\"Number of Attacks\")\n",
    "plt.xlabel(\"Weekend?\")"
   ]
  },
  {
   "cell_type": "markdown",
   "metadata": {},
   "source": [
    "Almost the double number of attacks occur on a weekday as compared to a weekend."
   ]
  },
  {
   "cell_type": "code",
   "execution_count": 323,
   "metadata": {
    "collapsed": false
   },
   "outputs": [],
   "source": [
    "import matplotlib.cm as cm\n",
    "import matplotlib as mpl\n",
    "from geopy.geocoders import Nominatim\n",
    "import plotly\n",
    "import plotly.plotly as py\n",
    "import plotly.graph_objs as go\n",
    "from plotly import tools\n",
    "from plotly.offline import iplot, init_notebook_mode\n",
    "#init_notebook_mode()\n"
   ]
  },
  {
   "cell_type": "code",
   "execution_count": 324,
   "metadata": {
    "collapsed": false,
    "scrolled": false
   },
   "outputs": [
    {
     "data": {
      "text/html": [
       "<script>requirejs.config({paths: { 'plotly': ['https://cdn.plot.ly/plotly-latest.min']},});if(!window.Plotly) {{require(['plotly'],function(plotly) {window.Plotly=plotly;});}}</script>"
      ],
      "text/vnd.plotly.v1+html": [
       "<script>requirejs.config({paths: { 'plotly': ['https://cdn.plot.ly/plotly-latest.min']},});if(!window.Plotly) {{require(['plotly'],function(plotly) {window.Plotly=plotly;});}}</script>"
      ]
     },
     "metadata": {},
     "output_type": "display_data"
    },
    {
     "data": {
      "application/vnd.plotly.v1+json": {
       "data": [
        {
         "lat": [
          30.198887300000003,
          33.42268696,
          30.0687242,
          41.83928045,
          42.08185369,
          34.17622092,
          33.88404244,
          32.86357277,
          34.05098834,
          36.18931923,
          25.79653943,
          47.62199575,
          33.83272887,
          34.17622092,
          32.79480596,
          32.555556,
          37.67129418,
          33.7629969,
          40.679276,
          35.66889223,
          47.03740653,
          27.98388983,
          27.84887061,
          37.38344257,
          42.10648807,
          41.83928045,
          34.1928952,
          30.0687242,
          37.96631812,
          33.13439925,
          38.249432,
          30.33216122,
          41.65589405,
          40.98213277,
          31.07925506,
          42.50840203,
          39.08174985,
          35.18322484,
          42.38013875,
          42.19358268,
          37.75457839,
          42.31269522,
          33.47316083,
          41.2281367,
          35.07997086,
          44.79051074,
          40.72662266,
          39.69892933,
          42.31319376,
          38.95130818,
          47.618456,
          41.60713735,
          35.92681467,
          40.826184000000005,
          27.73907518,
          35.37810374,
          47.12189424,
          26.11737018,
          32.86357277,
          60.79053882,
          33.47524551,
          32.27492783,
          37.08506,
          43.06420322,
          33.78935598,
          41.68700845,
          35.82083155,
          41.87617136,
          44.05489698,
          33.93814348,
          39.59358263,
          33.66086267,
          33.7629969,
          32.74802142,
          21.309106,
          35.77669911,
          27.99601861,
          42.30904091,
          41.90289602,
          32.86357277,
          37.27537712,
          32.15358905,
          41.47657557,
          32.38455246,
          41.83928045,
          45.65773714,
          39.98861445,
          43.06396691,
          47.87067289,
          34.43606107,
          47.62199575,
          44.49022039,
          36.04099857,
          40.43948548,
          40.04214385,
          40.77787404,
          45.50216511,
          37.22995471,
          45.56871416,
          41.47657557,
          43.41929117,
          41.265921999999996,
          39.81087474,
          36.18931923,
          47.64628742,
          38.57889169,
          41.93172129,
          37.84040411,
          33.57145875,
          35.08130744,
          34.09026669,
          31.04367594,
          37.36463172,
          35.33985609,
          42.10140103,
          31.13814354,
          47.16267579,
          34.72827538,
          41.78013821,
          32.15358905,
          41.09933958,
          32.66240106,
          42.96920434,
          39.16464203,
          33.75432632,
          33.94104379,
          41.58025541,
          37.79176806,
          36.13543238,
          47.62199575,
          32.60598014,
          39.72941874,
          42.88027442,
          44.96358722,
          25.79653943,
          43.06396691,
          45.44853107,
          41.41190846,
          35.15290522,
          33.57145875,
          33.67803464,
          33.54961059,
          47.30909721,
          39.54231335,
          34.02319149,
          25.85294547,
          39.75344279,
          35.46779189,
          38.90480894,
          39.54058388,
          47.67367375,
          33.57145875,
          32.3154272,
          43.0104011,
          34.17622092,
          32.79480596,
          32.34729571,
          37.75457839,
          31.07925506,
          34.02529674,
          34.4145857,
          47.62199575,
          36.18931923,
          30.0687242,
          35.15290522,
          48.04802409,
          30.454939399999997,
          41.4911123,
          42.32427392,
          33.5282865,
          40.39359306,
          35.10528976,
          46.73059479,
          40.68996411,
          33.03607062,
          41.265921999999996,
          35.92681467,
          40.425745500000005,
          28.24653304,
          37.204442,
          39.63400851,
          33.71059292,
          43.04093416,
          34.61025711,
          31.07925506,
          35.226354,
          33.5282865,
          35.90434471,
          31.58036482,
          31.054968699999996,
          33.42268696,
          36.443290000000005,
          30.22540212,
          36.13543238,
          29.19313443,
          39.77725479,
          34.26779152,
          33.57145875,
          31.07925506,
          43.15693027,
          43.06420322,
          44.20455909,
          32.15358905,
          39.85566372,
          41.47657557,
          33.66086267,
          46.39761858,
          32.8129729,
          34.86379864,
          40.73169648,
          25.94326707,
          41.89499946,
          35.09318123,
          34.05057545,
          30.21233538,
          29.79705548,
          43.16968370000001,
          37.27823366,
          36.55605824,
          47.69618799,
          43.38682722,
          43.22205555,
          35.1725658,
          36.27617912,
          33.02912644,
          39.253268,
          38.86730659,
          44.54994725,
          29.03270634,
          31.21094544,
          30.33216122,
          31.8076,
          39.98861445,
          44.96358722,
          38.86730659,
          34.13973446,
          41.3138,
          36.7921,
          28.4541,
          34.7404,
          42.2354,
          33.5927,
          38.1368,
          47.5033,
          38.6697,
          42.391764,
          39.114053000000006,
          40.440625,
          26.127585999999997,
          38.252665,
          33.635661999999996,
          35.242302,
          36.099039000000005,
          37.540725,
          28.039465000000003,
          35.149534,
          39.739072,
          37.402640000000005,
          30.754181,
          34.052234000000006,
          33.782519,
          36.768209000000006,
          38.044556,
          33.538652,
          29.951065999999997,
          27.950575,
          34.052234000000006,
          29.209684000000003,
          43.16103,
          43.201126,
          38.104085999999995,
          27.950575,
          42.291707,
          38.771440000000005,
          29.760427000000004,
          33.448377,
          47.451459,
          42.331427000000005,
          33.997197,
          37.687176,
          42.391764,
          34.023243,
          30.224090000000004,
          39.114053000000006,
          40.441736,
          40.217053,
          42.331427000000005,
          34.111222999999995,
          26.640628000000003,
          33.748995,
          32.543745,
          26.127585999999997,
          38.252665,
          33.635661999999996,
          34.759257,
          35.085334,
          41.878114000000004,
          35.085334,
          35.149534,
          33.77005,
          41.878114000000004,
          29.785784999999997,
          34.162040000000005,
          39.290385,
          36.765971,
          38.845113,
          38.744217
         ],
         "locationmode": "USA-states",
         "lon": [
          -97.84415949,
          -111.8163202,
          -89.93147412,
          -87.68818145,
          -78.43213922,
          -118.53995420000001,
          -117.92785,
          -117.1281628,
          -80.82077527,
          -115.3264875,
          -80.20840397,
          -122.323646,
          -81.8051584,
          -118.53995420000001,
          -96.76631094,
          -117.047656,
          -97.55070476,
          -84.4231328,
          -73.939513,
          -97.41438792,
          -109.4844918,
          -80.66662713,
          -82.71058000000001,
          -122.02561850000001,
          -87.74211141,
          -87.68818145,
          -82.15355508,
          -89.93147412,
          -121.30187749999999,
          -117.07225279999999,
          -85.72624300000001,
          -81.67576993,
          -91.53117986,
          -74.11264731,
          -97.73392317,
          -83.15387427,
          -121.55495390000002,
          -101.88056879999999,
          -76.86724659,
          -73.36216339,
          -122.44243429999999,
          -83.21293244,
          -117.696399,
          -111.96753170000001,
          -79.03796125,
          -106.9599165,
          -73.644712,
          -104.7871863,
          -84.01868108,
          -84.67066339,
          -117.644099,
          -81.46902046,
          -79.03850407,
          -74.20862,
          -97.43073352,
          -87.00610559,
          -119.2750699,
          -80.14865708,
          -117.1281628,
          -161.7927517,
          -81.72595949,
          -90.09470655,
          -88.74422,
          -87.96724385,
          -117.820412,
          -72.73083927,
          -90.67950058,
          -80.12459632,
          -123.0075562,
          -117.3948409,
          -105.0152112,
          -84.02688527,
          -84.4231328,
          -97.31305148,
          -157.844998,
          -95.25996596,
          -82.44503769,
          -71.10271358,
          -87.86430209999999,
          -117.1281628,
          -82.09877234,
          -110.96776470000002,
          -81.68051502,
          -88.68967949,
          -87.68818145,
          -91.55077175,
          -82.98904135,
          -88.12299758,
          -95.00529009,
          -119.8593619,
          -122.323646,
          -73.11400628,
          -79.09701201,
          -79.97631581,
          -76.30100872,
          -111.9312168,
          -122.44127590000001,
          -80.42768677,
          -88.89729022,
          -81.68051502,
          -83.95032759,
          -96.05381421,
          -105.17371499999999,
          -115.3264875,
          -121.9088524,
          -90.42023754,
          -88.74814853,
          -87.57853755,
          -112.0904854,
          -92.43278275,
          -117.88199579999998,
          -85.87634659999999,
          -121.96793149999999,
          -79.41381725,
          -75.90922294,
          -97.77797804,
          -122.5296574,
          -86.67230550000001,
          -72.51918655,
          -110.96776470000002,
          -80.64631705,
          -85.37706931,
          -85.66008902,
          -119.77630249999999,
          -118.0715378,
          -84.20985979,
          -81.20812625,
          -122.21531709999998,
          -95.91316117,
          -122.323646,
          -85.48989253,
          -104.9825207,
          -87.90087079,
          -93.26783687,
          -80.20840397,
          -88.12299758,
          -122.54401329999999,
          -73.31196267,
          -106.7791378,
          -112.0904854,
          -117.773628,
          -117.64157069999999,
          -122.3357553,
          -90.33029852,
          -118.48156440000001,
          -80.28316975,
          -79.08435956,
          -97.5191631,
          -77.01629717,
          -119.748291,
          -117.41598429999999,
          -112.0904854,
          -95.30501087,
          -75.00751190000001,
          -118.53995420000001,
          -96.76631094,
          -86.26730242,
          -122.44243429999999,
          -97.73392317,
          -84.61766831,
          -119.8581209,
          -122.323646,
          -115.3264875,
          -89.93147412,
          -106.7791378,
          -122.1359622,
          -84.25264151,
          -120.54909099999999,
          -71.14080012,
          -86.79550448,
          -75.49640881,
          -89.97734924,
          -116.99900420000002,
          -73.8720502,
          -85.0287065,
          -96.05381421,
          -79.03850407,
          -79.76092565,
          -82.71690259,
          -91.876583,
          -79.94839325,
          -84.71564276,
          -76.14376763,
          -83.52918091,
          -97.73392317,
          -80.836788,
          -86.79550448,
          -77.55639964,
          -90.44323475,
          -85.30100084,
          -111.8163202,
          -108.723281,
          -85.87371301,
          -95.91316117,
          -81.10173014,
          -86.14635359,
          -85.18822422,
          -112.0904854,
          -97.73392317,
          -77.69300856,
          -87.96724385,
          -88.4484585,
          -110.96776470000002,
          -88.93346458,
          -81.68051502,
          -84.02688527,
          -112.73293329999998,
          -79.96693995,
          -79.9996781,
          -74.18417699,
          -80.24253243,
          -87.81941392,
          -85.23676751,
          -84.06872262,
          -92.0316453,
          -95.36763856,
          -77.614337,
          -79.95816104,
          -82.21429551,
          -95.42844094,
          -98.84357239,
          -123.3522367,
          -111.65854350000001,
          -80.35501402,
          -84.7143335,
          -84.599655,
          -104.7572279,
          -69.70782299,
          -82.65919302,
          -82.35793452,
          -81.67576993,
          -95.8069,
          -82.98904135,
          -93.26783687,
          -104.7572279,
          -117.29424440000001,
          -96.0814,
          -76.3293,
          -81.4646,
          -88.1383,
          -85.676,
          -112.163,
          -97.4268,
          -122.931,
          -77.3524,
          -71.03282800000001,
          -94.627464,
          -79.995886,
          -80.233104,
          -85.75845600000001,
          -96.60888,
          -87.334739,
          -78.301106,
          -77.436048,
          -81.949804,
          -90.04898,
          -75.539788,
          -76.458559,
          -86.572799,
          -118.24368500000001,
          -117.22864799999999,
          -76.28749300000001,
          -77.286488,
          -112.18598700000001,
          -90.07153199999999,
          -82.457178,
          -118.24368500000001,
          -99.786168,
          -77.610922,
          -86.238946,
          -122.25663700000001,
          -82.457178,
          -85.58722900000001,
          -90.370949,
          -95.369803,
          -112.074037,
          -122.82694599999999,
          -83.045754,
          -117.48548000000001,
          -97.330053,
          -71.03282800000001,
          -84.36155600000001,
          -92.01984300000001,
          -94.627464,
          -79.88199399999999,
          -74.742938,
          -83.045754,
          -82.86708399999999,
          -81.87230799999999,
          -84.387982,
          -86.211913,
          -80.233104,
          -85.75845600000001,
          -96.60888,
          -86.60249300000001,
          -106.605553,
          -87.629798,
          -106.605553,
          -90.04898,
          -118.193739,
          -87.629798,
          -95.824396,
          -86.475543,
          -76.612189,
          -78.928344,
          -76.874972,
          -90.305391
         ],
         "marker": {
          "color": "rgb(215, 0, 0)",
          "opacity": 0.75,
          "size": [
           20,
           11.180339887498949,
           15,
           5,
           8.660254037844386,
           5,
           13.228756555322953,
           7.0710678118654755,
           7.0710678118654755,
           5,
           14.142135623730951,
           18.027756377319946,
           5,
           7.0710678118654755,
           12.24744871391589,
           22.9128784747792,
           5,
           7.0710678118654755,
           5,
           18.708286933869708,
           5,
           12.24744871391589,
           5,
           13.228756555322953,
           5,
           10,
           7.0710678118654755,
           0,
           11.180339887498949,
           8.660254037844386,
           14.142135623730951,
           16.583123951776997,
           11.180339887498949,
           8.660254037844386,
           23.979157616563597,
           10,
           10,
           0,
           10,
           7.0710678118654755,
           14.142135623730951,
           5,
           5,
           0,
           10,
           0,
           12.24744871391589,
           10,
           5,
           10,
           10,
           5,
           7.0710678118654755,
           10,
           11.180339887498949,
           7.0710678118654755,
           8.660254037844386,
           12.24744871391589,
           8.660254037844386,
           7.0710678118654755,
           10,
           7.0710678118654755,
           8.660254037844386,
           5,
           10,
           10,
           11.180339887498949,
           5,
           10,
           0,
           18.027756377319946,
           0,
           15,
           13.228756555322953,
           13.228756555322953,
           0,
           11.180339887498949,
           13.228756555322953,
           11.180339887498949,
           7.0710678118654755,
           8.660254037844386,
           8.660254037844386,
           5,
           12.24744871391589,
           12.24744871391589,
           12.24744871391589,
           10,
           13.228756555322953,
           15,
           13.228756555322953,
           12.24744871391589,
           7.0710678118654755,
           5,
           0,
           11.180339887498949,
           11.180339887498949,
           0,
           28.284271247461902,
           12.24744871391589,
           0,
           0,
           14.142135623730951,
           10,
           0,
           12.24744871391589,
           11.180339887498949,
           11.180339887498949,
           12.24744871391589,
           0,
           7.0710678118654755,
           15,
           15.811388300841898,
           11.180339887498949,
           14.142135623730951,
           18.027756377319946,
           18.027756377319946,
           10,
           8.660254037844386,
           14.142135623730951,
           12.24744871391589,
           5,
           5,
           13.228756555322953,
           10,
           14.142135623730951,
           10,
           8.660254037844386,
           13.228756555322953,
           8.660254037844386,
           11.180339887498949,
           8.660254037844386,
           17.32050807568877,
           12.24744871391589,
           12.24744871391589,
           0,
           8.660254037844386,
           7.0710678118654755,
           25.98076211353316,
           11.180339887498949,
           7.0710678118654755,
           10,
           8.660254037844386,
           10,
           12.24744871391589,
           11.180339887498949,
           12.24744871391589,
           8.660254037844386,
           10,
           17.32050807568877,
           5,
           5,
           15,
           7.0710678118654755,
           10,
           5,
           10,
           8.660254037844386,
           0,
           8.660254037844386,
           0,
           8.660254037844386,
           5,
           8.660254037844386,
           5,
           5,
           10,
           0,
           10,
           7.0710678118654755,
           11.180339887498949,
           12.24744871391589,
           0,
           8.660254037844386,
           8.660254037844386,
           11.180339887498949,
           8.660254037844386,
           8.660254037844386,
           0,
           8.660254037844386,
           13.228756555322953,
           10,
           10,
           0,
           7.0710678118654755,
           8.660254037844386,
           8.660254037844386,
           5,
           8.660254037844386,
           7.0710678118654755,
           7.0710678118654755,
           5,
           5,
           0,
           8.660254037844386,
           0,
           0,
           5,
           10,
           7.0710678118654755,
           5,
           7.0710678118654755,
           8.660254037844386,
           10,
           5,
           7.0710678118654755,
           7.0710678118654755,
           10,
           15,
           0,
           5,
           0,
           5,
           10,
           8.660254037844386,
           7.0710678118654755,
           14.142135623730951,
           8.660254037844386,
           7.0710678118654755,
           8.660254037844386,
           10,
           11.180339887498949,
           15,
           5,
           8.660254037844386,
           0,
           7.0710678118654755,
           8.660254037844386,
           8.660254037844386,
           7.0710678118654755,
           5,
           8.660254037844386,
           12.24744871391589,
           8.660254037844386,
           0,
           8.660254037844386,
           18.708286933869708,
           7.0710678118654755,
           11.180339887498949,
           7.0710678118654755,
           5,
           12.24744871391589,
           10,
           8.660254037844386,
           10,
           7.0710678118654755,
           5,
           11.180339887498949,
           12.24744871391589,
           5,
           8.660254037844386,
           8.660254037844386,
           5,
           8.660254037844386,
           5,
           8.660254037844386,
           5,
           0,
           5,
           8.660254037844386,
           7.0710678118654755,
           5,
           11.180339887498949,
           5,
           8.660254037844386,
           0,
           7.0710678118654755,
           5,
           8.660254037844386,
           5,
           0,
           7.0710678118654755,
           5,
           12.24744871391589,
           5,
           0,
           10,
           10,
           0,
           5,
           0,
           5,
           0,
           0,
           10,
           11.180339887498949,
           0,
           7.0710678118654755,
           5,
           0,
           0,
           7.0710678118654755,
           5,
           8.660254037844386,
           8.660254037844386,
           5,
           7.0710678118654755,
           0,
           0,
           0,
           5,
           5,
           10,
           0,
           0,
           0,
           5,
           0
          ]
         },
         "mode": "markers",
         "text": [
          "January 8, 16.0 Number of Victim Fatalities",
          "December 11, 5.0 Number of Victim Fatalities",
          "December 31, 9.0 Number of Victim Fatalities",
          "January 17, 1.0 Number of Victim Fatalities",
          "December 30, 3.0 Number of Victim Fatalities",
          "February 19, 1.0 Number of Victim Fatalities",
          "December 7, 7.0 Number of Victim Fatalities",
          "January 29, 2.0 Number of Victim Fatalities",
          "June 10, 2.0 Number of Victim Fatalities",
          "March 19, 1.0 Number of Victim Fatalities",
          "August 20, 8.0 Number of Victim Fatalities",
          "February 18, 13.0 Number of Victim Fatalities",
          "August 19, 1.0 Number of Victim Fatalities",
          "February 24, 2.0 Number of Victim Fatalities",
          "June 29, 6.0 Number of Victim Fatalities",
          "July 18, 21.0 Number of Victim Fatalities",
          "January 21, 1.0 Number of Victim Fatalities",
          "June 3, 2.0 Number of Victim Fatalities",
          "December 8, 1.0 Number of Victim Fatalities",
          "August 20, 14.0 Number of Victim Fatalities",
          "April 12, 1.0 Number of Victim Fatalities",
          "April 23, 6.0 Number of Victim Fatalities",
          "November 2, 1.0 Number of Victim Fatalities",
          "February 16, 7.0 Number of Victim Fatalities",
          "May 20, 1.0 Number of Victim Fatalities",
          "September 22, 4.0 Number of Victim Fatalities",
          "September 26, 2.0 Number of Victim Fatalities",
          "December 14, 0.0 Number of Victim Fatalities",
          "January 17, 5.0 Number of Victim Fatalities",
          "October 8, 3.0 Number of Victim Fatalities",
          "September 14, 8.0 Number of Victim Fatalities",
          "June 17, 11.0 Number of Victim Fatalities",
          "January 11, 5.0 Number of Victim Fatalities",
          "October 10, 3.0 Number of Victim Fatalities",
          "October 16, 23.0 Number of Victim Fatalities",
          "November 14, 4.0 Number of Victim Fatalities",
          "January 5, 4.0 Number of Victim Fatalities",
          "November 9, 0.0 Number of Victim Fatalities",
          "October 15, 4.0 Number of Victim Fatalities",
          "December 14, 2.0 Number of Victim Fatalities",
          "January 7, 8.0 Number of Victim Fatalities",
          "June 5, 1.0 Number of Victim Fatalities",
          "June 5, 1.0 Number of Victim Fatalities",
          "August 7, 0.0 Number of Victim Fatalities",
          "June 8, 4.0 Number of Victim Fatalities",
          "September 17, 0.0 Number of Victim Fatalities",
          "July 12, 6.0 Number of Victim Fatalities",
          "December 14, 4.0 Number of Victim Fatalities",
          "December 16, 1.0 Number of Victim Fatalities",
          "May 26, 4.0 Number of Victim Fatalities",
          "June 20, 4.0 Number of Victim Fatalities",
          "July 11, 1.0 Number of Victim Fatalities",
          "January 26, 2.0 Number of Victim Fatalities",
          "March 21, 4.0 Number of Victim Fatalities",
          "March 4, 5.0 Number of Victim Fatalities",
          "November 15, 2.0 Number of Victim Fatalities",
          "February 2, 3.0 Number of Victim Fatalities",
          "September 2, 6.0 Number of Victim Fatalities",
          "August 15, 3.0 Number of Victim Fatalities",
          "February 19, 2.0 Number of Victim Fatalities",
          "September 15, 4.0 Number of Victim Fatalities",
          "January 10, 2.0 Number of Victim Fatalities",
          "January 12, 3.0 Number of Victim Fatalities",
          "December 19, 1.0 Number of Victim Fatalities",
          "December 18, 4.0 Number of Victim Fatalities",
          "June 3, 4.0 Number of Victim Fatalities",
          "March 24, 5.0 Number of Victim Fatalities",
          "April 24, 1.0 Number of Victim Fatalities",
          "May 21, 4.0 Number of Victim Fatalities",
          "June 10, 0.0 Number of Victim Fatalities",
          "April 20, 13.0 Number of Victim Fatalities",
          "May 20, 0.0 Number of Victim Fatalities",
          "July 29, 9.0 Number of Victim Fatalities",
          "September 15, 7.0 Number of Victim Fatalities",
          "February 11, 7.0 Number of Victim Fatalities",
          "June 12, 0.0 Number of Victim Fatalities",
          "December 30, 5.0 Number of Victim Fatalities",
          "December 26, 7.0 Number of Victim Fatalities",
          "May 2, 5.0 Number of Victim Fatalities",
          "May 3, 2.0 Number of Victim Fatalities",
          "January 16, 3.0 Number of Victim Fatalities",
          "October 28, 3.0 Number of Victim Fatalities",
          "September 5, 1.0 Number of Victim Fatalities",
          "August 7, 6.0 Number of Victim Fatalities",
          "August 27, 6.0 Number of Victim Fatalities",
          "November 21, 6.0 Number of Victim Fatalities",
          "August 12, 4.0 Number of Victim Fatalities",
          "December 3, 7.0 Number of Victim Fatalities",
          "March 21, 9.0 Number of Victim Fatalities",
          "January 30, 7.0 Number of Victim Fatalities",
          "March 25, 6.0 Number of Victim Fatalities",
          "August 24, 2.0 Number of Victim Fatalities",
          "August 30, 1.0 Number of Victim Fatalities",
          "September 17, 0.0 Number of Victim Fatalities",
          "February 10, 5.0 Number of Victim Fatalities",
          "December 2, 5.0 Number of Victim Fatalities",
          "October 4, 0.0 Number of Victim Fatalities",
          "April 16, 32.0 Number of Victim Fatalities",
          "July 10, 6.0 Number of Victim Fatalities",
          "November 10, 0.0 Number of Victim Fatalities",
          "October 25, 0.0 Number of Victim Fatalities",
          "May 12, 8.0 Number of Victim Fatalities",
          "September 12, 4.0 Number of Victim Fatalities",
          "November 12, 0.0 Number of Victim Fatalities",
          "December 24, 6.0 Number of Victim Fatalities",
          "July 2, 5.0 Number of Victim Fatalities",
          "February 14, 5.0 Number of Victim Fatalities",
          "June 25, 6.0 Number of Victim Fatalities",
          "July 24, 0.0 Number of Victim Fatalities",
          "October 26, 2.0 Number of Victim Fatalities",
          "December 24, 9.0 Number of Victim Fatalities",
          "October 3, 10.0 Number of Victim Fatalities",
          "March 29, 5.0 Number of Victim Fatalities",
          "March 29, 8.0 Number of Victim Fatalities",
          "March 4, 13.0 Number of Victim Fatalities",
          "May 11, 13.0 Number of Victim Fatalities",
          "November 29, 4.0 Number of Victim Fatalities",
          "December 2, 3.0 Number of Victim Fatalities",
          "March 8, 8.0 Number of Victim Fatalities",
          "August 1, 6.0 Number of Victim Fatalities",
          "June 2, 1.0 Number of Victim Fatalities",
          "June 4, 1.0 Number of Victim Fatalities",
          "July 7, 7.0 Number of Victim Fatalities",
          "June 9, 4.0 Number of Victim Fatalities",
          "December 10, 8.0 Number of Victim Fatalities",
          "February 22, 4.0 Number of Victim Fatalities",
          "February 27, 3.0 Number of Victim Fatalities",
          "February 4, 7.0 Number of Victim Fatalities",
          "June 4, 3.0 Number of Victim Fatalities",
          "May 30, 5.0 Number of Victim Fatalities",
          "September 6, 3.0 Number of Victim Fatalities",
          "July 20, 12.0 Number of Victim Fatalities",
          "May 8, 6.0 Number of Victim Fatalities",
          "September 27, 6.0 Number of Victim Fatalities",
          "September 28, 0.0 Number of Victim Fatalities",
          "October 21, 3.0 Number of Victim Fatalities",
          "November 12, 2.0 Number of Victim Fatalities",
          "December 14, 27.0 Number of Victim Fatalities",
          "January 19, 5.0 Number of Victim Fatalities",
          "January 30, 2.0 Number of Victim Fatalities",
          "March 2, 4.0 Number of Victim Fatalities",
          "February 19, 3.0 Number of Victim Fatalities",
          "April 21, 4.0 Number of Victim Fatalities",
          "April 24, 6.0 Number of Victim Fatalities",
          "July 6, 5.0 Number of Victim Fatalities",
          "July 26, 6.0 Number of Victim Fatalities",
          "May 8, 3.0 Number of Victim Fatalities",
          "August 14, 4.0 Number of Victim Fatalities",
          "September 16, 12.0 Number of Victim Fatalities",
          "October 21, 1.0 Number of Victim Fatalities",
          "November 11, 1.0 Number of Victim Fatalities",
          "September 8, 9.0 Number of Victim Fatalities",
          "February 24, 2.0 Number of Victim Fatalities",
          "March 13, 4.0 Number of Victim Fatalities",
          "January 11, 1.0 Number of Victim Fatalities",
          "July 8, 4.0 Number of Victim Fatalities",
          "December 28, 3.0 Number of Victim Fatalities",
          "March 23, 0.0 Number of Victim Fatalities",
          "February 4, 3.0 Number of Victim Fatalities",
          "April 29, 0.0 Number of Victim Fatalities",
          "May 23, 3.0 Number of Victim Fatalities",
          "May 6, 1.0 Number of Victim Fatalities",
          "August 6, 3.0 Number of Victim Fatalities",
          "June 29, 1.0 Number of Victim Fatalities",
          "August 8, 1.0 Number of Victim Fatalities",
          "October 24, 4.0 Number of Victim Fatalities",
          "November 19, 0.0 Number of Victim Fatalities",
          "February 20, 4.0 Number of Victim Fatalities",
          "December 30, 2.0 Number of Victim Fatalities",
          "January 29, 5.0 Number of Victim Fatalities",
          "December 15, 6.0 Number of Victim Fatalities",
          "January 1, 0.0 Number of Victim Fatalities",
          "October 1, 3.0 Number of Victim Fatalities",
          "January 24, 3.0 Number of Victim Fatalities",
          "January 28, 5.0 Number of Victim Fatalities",
          "January 24, 3.0 Number of Victim Fatalities",
          "October 2, 3.0 Number of Victim Fatalities",
          "July 2, 0.0 Number of Victim Fatalities",
          "September 2, 3.0 Number of Victim Fatalities",
          "February 26, 7.0 Number of Victim Fatalities",
          "January 12, 4.0 Number of Victim Fatalities",
          "July 2, 4.0 Number of Victim Fatalities",
          "January 2, 0.0 Number of Victim Fatalities",
          "February 22, 2.0 Number of Victim Fatalities",
          "February 22, 3.0 Number of Victim Fatalities",
          "February 24, 3.0 Number of Victim Fatalities",
          "February 27, 1.0 Number of Victim Fatalities",
          "February 28, 3.0 Number of Victim Fatalities",
          "March 13, 2.0 Number of Victim Fatalities",
          "March 15, 2.0 Number of Victim Fatalities",
          "March 18, 1.0 Number of Victim Fatalities",
          "March 19, 1.0 Number of Victim Fatalities",
          "March 28, 0.0 Number of Victim Fatalities",
          "March 30, 3.0 Number of Victim Fatalities",
          "March 4, 0.0 Number of Victim Fatalities",
          "May 4, 0.0 Number of Victim Fatalities",
          "July 4, 1.0 Number of Victim Fatalities",
          "April 16, 4.0 Number of Victim Fatalities",
          "April 21, 2.0 Number of Victim Fatalities",
          "April 25, 1.0 Number of Victim Fatalities",
          "January 5, 2.0 Number of Victim Fatalities",
          "March 5, 3.0 Number of Victim Fatalities",
          "December 5, 4.0 Number of Victim Fatalities",
          "May 25, 1.0 Number of Victim Fatalities",
          "May 31, 2.0 Number of Victim Fatalities",
          "May 31, 2.0 Number of Victim Fatalities",
          "July 6, 4.0 Number of Victim Fatalities",
          "June 17, 9.0 Number of Victim Fatalities",
          "June 20, 0.0 Number of Victim Fatalities",
          "October 5, 1.0 Number of Victim Fatalities",
          "June 16, 0.0 Number of Victim Fatalities",
          "December 7, 1.0 Number of Victim Fatalities",
          "July 16, 4.0 Number of Victim Fatalities",
          "July 22, 3.0 Number of Victim Fatalities",
          "July 23, 2.0 Number of Victim Fatalities",
          "August 8, 8.0 Number of Victim Fatalities",
          "August 19, 3.0 Number of Victim Fatalities",
          "August 26, 2.0 Number of Victim Fatalities",
          "August 29, 3.0 Number of Victim Fatalities",
          "October 9, 4.0 Number of Victim Fatalities",
          "September 17, 5.0 Number of Victim Fatalities",
          "January 10, 9.0 Number of Victim Fatalities",
          "September 10, 1.0 Number of Victim Fatalities",
          "April 2, 3.0 Number of Victim Fatalities",
          "September 27, 0.0 Number of Victim Fatalities",
          "October 21, 2.0 Number of Victim Fatalities",
          "October 31, 3.0 Number of Victim Fatalities",
          "April 11, 3.0 Number of Victim Fatalities",
          "January 10, 2.0 Number of Victim Fatalities",
          "July 11, 1.0 Number of Victim Fatalities",
          "November 13, 3.0 Number of Victim Fatalities",
          "November 15, 6.0 Number of Victim Fatalities",
          "November 23, 3.0 Number of Victim Fatalities",
          "November 23, 0.0 Number of Victim Fatalities",
          "November 27, 3.0 Number of Victim Fatalities",
          "February 12, 14.0 Number of Victim Fatalities",
          "June 12, 2.0 Number of Victim Fatalities",
          "January 27, 5.0 Number of Victim Fatalities",
          "July 2, 2.0 Number of Victim Fatalities",
          "February 20, 1.0 Number of Victim Fatalities",
          "February 20, 6.0 Number of Victim Fatalities",
          "February 23, 4.0 Number of Victim Fatalities",
          "February 25, 3.0 Number of Victim Fatalities",
          "February 26, 4.0 Number of Victim Fatalities",
          "February 27, 2.0 Number of Victim Fatalities",
          "June 3, 1.0 Number of Victim Fatalities",
          "July 3, 5.0 Number of Victim Fatalities",
          "September 3, 6.0 Number of Victim Fatalities",
          "March 19, 1.0 Number of Victim Fatalities",
          "March 20, 3.0 Number of Victim Fatalities",
          "March 21, 3.0 Number of Victim Fatalities",
          "March 25, 1.0 Number of Victim Fatalities",
          "March 26, 3.0 Number of Victim Fatalities",
          "March 31, 1.0 Number of Victim Fatalities",
          "June 1, 3.0 Number of Victim Fatalities",
          "July 1, 1.0 Number of Victim Fatalities",
          "November 1, 0.0 Number of Victim Fatalities",
          "January 17, 1.0 Number of Victim Fatalities",
          "January 23, 3.0 Number of Victim Fatalities",
          "January 23, 2.0 Number of Victim Fatalities",
          "January 25, 1.0 Number of Victim Fatalities",
          "January 27, 5.0 Number of Victim Fatalities",
          "January 29, 1.0 Number of Victim Fatalities",
          "January 30, 3.0 Number of Victim Fatalities",
          "January 31, 0.0 Number of Victim Fatalities",
          "June 2, 2.0 Number of Victim Fatalities",
          "June 2, 1.0 Number of Victim Fatalities",
          "June 2, 3.0 Number of Victim Fatalities",
          "July 2, 1.0 Number of Victim Fatalities",
          "September 2, 0.0 Number of Victim Fatalities",
          "February 19, 2.0 Number of Victim Fatalities",
          "February 20, 1.0 Number of Victim Fatalities",
          "February 20, 6.0 Number of Victim Fatalities",
          "February 21, 1.0 Number of Victim Fatalities",
          "February 21, 0.0 Number of Victim Fatalities",
          "February 23, 4.0 Number of Victim Fatalities",
          "February 25, 4.0 Number of Victim Fatalities",
          "February 28, 0.0 Number of Victim Fatalities",
          "February 28, 1.0 Number of Victim Fatalities",
          "May 3, 0.0 Number of Victim Fatalities",
          "June 3, 1.0 Number of Victim Fatalities",
          "June 3, 0.0 Number of Victim Fatalities",
          "July 3, 0.0 Number of Victim Fatalities",
          "July 3, 4.0 Number of Victim Fatalities",
          "September 3, 5.0 Number of Victim Fatalities",
          "November 3, 0.0 Number of Victim Fatalities",
          "November 3, 2.0 Number of Victim Fatalities",
          "December 3, 1.0 Number of Victim Fatalities",
          "March 13, 0.0 Number of Victim Fatalities",
          "March 15, 0.0 Number of Victim Fatalities",
          "March 19, 2.0 Number of Victim Fatalities",
          "March 19, 1.0 Number of Victim Fatalities",
          "March 20, 3.0 Number of Victim Fatalities",
          "March 21, 3.0 Number of Victim Fatalities",
          "March 25, 1.0 Number of Victim Fatalities",
          "January 4, 2.0 Number of Victim Fatalities",
          "July 4, 0.0 Number of Victim Fatalities",
          "September 4, 0.0 Number of Victim Fatalities",
          "September 4, 0.0 Number of Victim Fatalities",
          "April 18, 1.0 Number of Victim Fatalities",
          "April 19, 1.0 Number of Victim Fatalities",
          "April 19, 4.0 Number of Victim Fatalities",
          "April 19, 0.0 Number of Victim Fatalities",
          "April 21, 0.0 Number of Victim Fatalities",
          "April 24, 0.0 Number of Victim Fatalities",
          "April 26, 1.0 Number of Victim Fatalities",
          "April 29, 0.0 Number of Victim Fatalities"
         ],
         "type": "scattergeo"
        }
       ],
       "layout": {
        "geo": {
         "countrycolor": "rgb(217, 217, 217)",
         "countrywidth": 1,
         "lakecolor": "rgb(255, 255, 255)",
         "landcolor": "rgb(250, 250, 250)",
         "projection": {
          "type": "albers usa"
         },
         "scope": "usa",
         "showlakes": true,
         "showland": true,
         "subunitcolor": "rgb(217, 217, 217)",
         "subunitwidth": 1
        },
        "title": "Shooting Fatalities by Latitude/Longitude in United States <br><sub>Hover to View Date and Fatalitiess</sub>"
       }
      },
      "text/html": [
       "<div id=\"34696c4a-0a64-4519-b7db-180b19d38413\" style=\"height: 525px; width: 100%;\" class=\"plotly-graph-div\"></div><script type=\"text/javascript\">require([\"plotly\"], function(Plotly) { window.PLOTLYENV=window.PLOTLYENV || {};window.PLOTLYENV.BASE_URL=\"https://plot.ly\";Plotly.newPlot(\"34696c4a-0a64-4519-b7db-180b19d38413\", [{\"type\": \"scattergeo\", \"locationmode\": \"USA-states\", \"lon\": [-97.84415949, -111.8163202, -89.93147412, -87.68818145, -78.43213922, -118.53995420000001, -117.92785, -117.1281628, -80.82077527, -115.3264875, -80.20840397, -122.323646, -81.8051584, -118.53995420000001, -96.76631094, -117.047656, -97.55070476, -84.4231328, -73.939513, -97.41438792, -109.4844918, -80.66662713, -82.71058000000001, -122.02561850000001, -87.74211141, -87.68818145, -82.15355508, -89.93147412, -121.30187749999999, -117.07225279999999, -85.72624300000001, -81.67576993, -91.53117986, -74.11264731, -97.73392317, -83.15387427, -121.55495390000002, -101.88056879999999, -76.86724659, -73.36216339, -122.44243429999999, -83.21293244, -117.696399, -111.96753170000001, -79.03796125, -106.9599165, -73.644712, -104.7871863, -84.01868108, -84.67066339, -117.644099, -81.46902046, -79.03850407, -74.20862, -97.43073352, -87.00610559, -119.2750699, -80.14865708, -117.1281628, -161.7927517, -81.72595949, -90.09470655, -88.74422, -87.96724385, -117.820412, -72.73083927, -90.67950058, -80.12459632, -123.0075562, -117.3948409, -105.0152112, -84.02688527, -84.4231328, -97.31305148, -157.844998, -95.25996596, -82.44503769, -71.10271358, -87.86430209999999, -117.1281628, -82.09877234, -110.96776470000002, -81.68051502, -88.68967949, -87.68818145, -91.55077175, -82.98904135, -88.12299758, -95.00529009, -119.8593619, -122.323646, -73.11400628, -79.09701201, -79.97631581, -76.30100872, -111.9312168, -122.44127590000001, -80.42768677, -88.89729022, -81.68051502, -83.95032759, -96.05381421, -105.17371499999999, -115.3264875, -121.9088524, -90.42023754, -88.74814853, -87.57853755, -112.0904854, -92.43278275, -117.88199579999998, -85.87634659999999, -121.96793149999999, -79.41381725, -75.90922294, -97.77797804, -122.5296574, -86.67230550000001, -72.51918655, -110.96776470000002, -80.64631705, -85.37706931, -85.66008902, -119.77630249999999, -118.0715378, -84.20985979, -81.20812625, -122.21531709999998, -95.91316117, -122.323646, -85.48989253, -104.9825207, -87.90087079, -93.26783687, -80.20840397, -88.12299758, -122.54401329999999, -73.31196267, -106.7791378, -112.0904854, -117.773628, -117.64157069999999, -122.3357553, -90.33029852, -118.48156440000001, -80.28316975, -79.08435956, -97.5191631, -77.01629717, -119.748291, -117.41598429999999, -112.0904854, -95.30501087, -75.00751190000001, -118.53995420000001, -96.76631094, -86.26730242, -122.44243429999999, -97.73392317, -84.61766831, -119.8581209, -122.323646, -115.3264875, -89.93147412, -106.7791378, -122.1359622, -84.25264151, -120.54909099999999, -71.14080012, -86.79550448, -75.49640881, -89.97734924, -116.99900420000002, -73.8720502, -85.0287065, -96.05381421, -79.03850407, -79.76092565, -82.71690259, -91.876583, -79.94839325, -84.71564276, -76.14376763, -83.52918091, -97.73392317, -80.836788, -86.79550448, -77.55639964, -90.44323475, -85.30100084, -111.8163202, -108.723281, -85.87371301, -95.91316117, -81.10173014, -86.14635359, -85.18822422, -112.0904854, -97.73392317, -77.69300856, -87.96724385, -88.4484585, -110.96776470000002, -88.93346458, -81.68051502, -84.02688527, -112.73293329999998, -79.96693995, -79.9996781, -74.18417699, -80.24253243, -87.81941392, -85.23676751, -84.06872262, -92.0316453, -95.36763856, -77.614337, -79.95816104, -82.21429551, -95.42844094, -98.84357239, -123.3522367, -111.65854350000001, -80.35501402, -84.7143335, -84.599655, -104.7572279, -69.70782299, -82.65919302, -82.35793452, -81.67576993, -95.8069, -82.98904135, -93.26783687, -104.7572279, -117.29424440000001, -96.0814, -76.3293, -81.4646, -88.1383, -85.676, -112.163, -97.4268, -122.931, -77.3524, -71.03282800000001, -94.627464, -79.995886, -80.233104, -85.75845600000001, -96.60888, -87.334739, -78.301106, -77.436048, -81.949804, -90.04898, -75.539788, -76.458559, -86.572799, -118.24368500000001, -117.22864799999999, -76.28749300000001, -77.286488, -112.18598700000001, -90.07153199999999, -82.457178, -118.24368500000001, -99.786168, -77.610922, -86.238946, -122.25663700000001, -82.457178, -85.58722900000001, -90.370949, -95.369803, -112.074037, -122.82694599999999, -83.045754, -117.48548000000001, -97.330053, -71.03282800000001, -84.36155600000001, -92.01984300000001, -94.627464, -79.88199399999999, -74.742938, -83.045754, -82.86708399999999, -81.87230799999999, -84.387982, -86.211913, -80.233104, -85.75845600000001, -96.60888, -86.60249300000001, -106.605553, -87.629798, -106.605553, -90.04898, -118.193739, -87.629798, -95.824396, -86.475543, -76.612189, -78.928344, -76.874972, -90.305391], \"lat\": [30.198887300000003, 33.42268696, 30.0687242, 41.83928045, 42.08185369, 34.17622092, 33.88404244, 32.86357277, 34.05098834, 36.18931923, 25.79653943, 47.62199575, 33.83272887, 34.17622092, 32.79480596, 32.555556, 37.67129418, 33.7629969, 40.679276, 35.66889223, 47.03740653, 27.98388983, 27.84887061, 37.38344257, 42.10648807, 41.83928045, 34.1928952, 30.0687242, 37.96631812, 33.13439925, 38.249432, 30.33216122, 41.65589405, 40.98213277, 31.07925506, 42.50840203, 39.08174985, 35.18322484, 42.38013875, 42.19358268, 37.75457839, 42.31269522, 33.47316083, 41.2281367, 35.07997086, 44.79051074, 40.72662266, 39.69892933, 42.31319376, 38.95130818, 47.618456, 41.60713735, 35.92681467, 40.826184000000005, 27.73907518, 35.37810374, 47.12189424, 26.11737018, 32.86357277, 60.79053882, 33.47524551, 32.27492783, 37.08506, 43.06420322, 33.78935598, 41.68700845, 35.82083155, 41.87617136, 44.05489698, 33.93814348, 39.59358263, 33.66086267, 33.7629969, 32.74802142, 21.309106, 35.77669911, 27.99601861, 42.30904091, 41.90289602, 32.86357277, 37.27537712, 32.15358905, 41.47657557, 32.38455246, 41.83928045, 45.65773714, 39.98861445, 43.06396691, 47.87067289, 34.43606107, 47.62199575, 44.49022039, 36.04099857, 40.43948548, 40.04214385, 40.77787404, 45.50216511, 37.22995471, 45.56871416, 41.47657557, 43.41929117, 41.265921999999996, 39.81087474, 36.18931923, 47.64628742, 38.57889169, 41.93172129, 37.84040411, 33.57145875, 35.08130744, 34.09026669, 31.04367594, 37.36463172, 35.33985609, 42.10140103, 31.13814354, 47.16267579, 34.72827538, 41.78013821, 32.15358905, 41.09933958, 32.66240106, 42.96920434, 39.16464203, 33.75432632, 33.94104379, 41.58025541, 37.79176806, 36.13543238, 47.62199575, 32.60598014, 39.72941874, 42.88027442, 44.96358722, 25.79653943, 43.06396691, 45.44853107, 41.41190846, 35.15290522, 33.57145875, 33.67803464, 33.54961059, 47.30909721, 39.54231335, 34.02319149, 25.85294547, 39.75344279, 35.46779189, 38.90480894, 39.54058388, 47.67367375, 33.57145875, 32.3154272, 43.0104011, 34.17622092, 32.79480596, 32.34729571, 37.75457839, 31.07925506, 34.02529674, 34.4145857, 47.62199575, 36.18931923, 30.0687242, 35.15290522, 48.04802409, 30.454939399999997, 41.4911123, 42.32427392, 33.5282865, 40.39359306, 35.10528976, 46.73059479, 40.68996411, 33.03607062, 41.265921999999996, 35.92681467, 40.425745500000005, 28.24653304, 37.204442, 39.63400851, 33.71059292, 43.04093416, 34.61025711, 31.07925506, 35.226354, 33.5282865, 35.90434471, 31.58036482, 31.054968699999996, 33.42268696, 36.443290000000005, 30.22540212, 36.13543238, 29.19313443, 39.77725479, 34.26779152, 33.57145875, 31.07925506, 43.15693027, 43.06420322, 44.20455909, 32.15358905, 39.85566372, 41.47657557, 33.66086267, 46.39761858, 32.8129729, 34.86379864, 40.73169648, 25.94326707, 41.89499946, 35.09318123, 34.05057545, 30.21233538, 29.79705548, 43.16968370000001, 37.27823366, 36.55605824, 47.69618799, 43.38682722, 43.22205555, 35.1725658, 36.27617912, 33.02912644, 39.253268, 38.86730659, 44.54994725, 29.03270634, 31.21094544, 30.33216122, 31.8076, 39.98861445, 44.96358722, 38.86730659, 34.13973446, 41.3138, 36.7921, 28.4541, 34.7404, 42.2354, 33.5927, 38.1368, 47.5033, 38.6697, 42.391764, 39.114053000000006, 40.440625, 26.127585999999997, 38.252665, 33.635661999999996, 35.242302, 36.099039000000005, 37.540725, 28.039465000000003, 35.149534, 39.739072, 37.402640000000005, 30.754181, 34.052234000000006, 33.782519, 36.768209000000006, 38.044556, 33.538652, 29.951065999999997, 27.950575, 34.052234000000006, 29.209684000000003, 43.16103, 43.201126, 38.104085999999995, 27.950575, 42.291707, 38.771440000000005, 29.760427000000004, 33.448377, 47.451459, 42.331427000000005, 33.997197, 37.687176, 42.391764, 34.023243, 30.224090000000004, 39.114053000000006, 40.441736, 40.217053, 42.331427000000005, 34.111222999999995, 26.640628000000003, 33.748995, 32.543745, 26.127585999999997, 38.252665, 33.635661999999996, 34.759257, 35.085334, 41.878114000000004, 35.085334, 35.149534, 33.77005, 41.878114000000004, 29.785784999999997, 34.162040000000005, 39.290385, 36.765971, 38.845113, 38.744217], \"mode\": \"markers\", \"marker\": {\"opacity\": 0.75, \"size\": [20.0, 11.180339887498949, 15.0, 5.0, 8.660254037844386, 5.0, 13.228756555322953, 7.0710678118654755, 7.0710678118654755, 5.0, 14.142135623730951, 18.027756377319946, 5.0, 7.0710678118654755, 12.24744871391589, 22.9128784747792, 5.0, 7.0710678118654755, 5.0, 18.708286933869708, 5.0, 12.24744871391589, 5.0, 13.228756555322953, 5.0, 10.0, 7.0710678118654755, 0.0, 11.180339887498949, 8.660254037844386, 14.142135623730951, 16.583123951776997, 11.180339887498949, 8.660254037844386, 23.979157616563597, 10.0, 10.0, 0.0, 10.0, 7.0710678118654755, 14.142135623730951, 5.0, 5.0, 0.0, 10.0, 0.0, 12.24744871391589, 10.0, 5.0, 10.0, 10.0, 5.0, 7.0710678118654755, 10.0, 11.180339887498949, 7.0710678118654755, 8.660254037844386, 12.24744871391589, 8.660254037844386, 7.0710678118654755, 10.0, 7.0710678118654755, 8.660254037844386, 5.0, 10.0, 10.0, 11.180339887498949, 5.0, 10.0, 0.0, 18.027756377319946, 0.0, 15.0, 13.228756555322953, 13.228756555322953, 0.0, 11.180339887498949, 13.228756555322953, 11.180339887498949, 7.0710678118654755, 8.660254037844386, 8.660254037844386, 5.0, 12.24744871391589, 12.24744871391589, 12.24744871391589, 10.0, 13.228756555322953, 15.0, 13.228756555322953, 12.24744871391589, 7.0710678118654755, 5.0, 0.0, 11.180339887498949, 11.180339887498949, 0.0, 28.284271247461902, 12.24744871391589, 0.0, 0.0, 14.142135623730951, 10.0, 0.0, 12.24744871391589, 11.180339887498949, 11.180339887498949, 12.24744871391589, 0.0, 7.0710678118654755, 15.0, 15.811388300841898, 11.180339887498949, 14.142135623730951, 18.027756377319946, 18.027756377319946, 10.0, 8.660254037844386, 14.142135623730951, 12.24744871391589, 5.0, 5.0, 13.228756555322953, 10.0, 14.142135623730951, 10.0, 8.660254037844386, 13.228756555322953, 8.660254037844386, 11.180339887498949, 8.660254037844386, 17.32050807568877, 12.24744871391589, 12.24744871391589, 0.0, 8.660254037844386, 7.0710678118654755, 25.98076211353316, 11.180339887498949, 7.0710678118654755, 10.0, 8.660254037844386, 10.0, 12.24744871391589, 11.180339887498949, 12.24744871391589, 8.660254037844386, 10.0, 17.32050807568877, 5.0, 5.0, 15.0, 7.0710678118654755, 10.0, 5.0, 10.0, 8.660254037844386, 0.0, 8.660254037844386, 0.0, 8.660254037844386, 5.0, 8.660254037844386, 5.0, 5.0, 10.0, 0.0, 10.0, 7.0710678118654755, 11.180339887498949, 12.24744871391589, 0.0, 8.660254037844386, 8.660254037844386, 11.180339887498949, 8.660254037844386, 8.660254037844386, 0.0, 8.660254037844386, 13.228756555322953, 10.0, 10.0, 0.0, 7.0710678118654755, 8.660254037844386, 8.660254037844386, 5.0, 8.660254037844386, 7.0710678118654755, 7.0710678118654755, 5.0, 5.0, 0.0, 8.660254037844386, 0.0, 0.0, 5.0, 10.0, 7.0710678118654755, 5.0, 7.0710678118654755, 8.660254037844386, 10.0, 5.0, 7.0710678118654755, 7.0710678118654755, 10.0, 15.0, 0.0, 5.0, 0.0, 5.0, 10.0, 8.660254037844386, 7.0710678118654755, 14.142135623730951, 8.660254037844386, 7.0710678118654755, 8.660254037844386, 10.0, 11.180339887498949, 15.0, 5.0, 8.660254037844386, 0.0, 7.0710678118654755, 8.660254037844386, 8.660254037844386, 7.0710678118654755, 5.0, 8.660254037844386, 12.24744871391589, 8.660254037844386, 0.0, 8.660254037844386, 18.708286933869708, 7.0710678118654755, 11.180339887498949, 7.0710678118654755, 5.0, 12.24744871391589, 10.0, 8.660254037844386, 10.0, 7.0710678118654755, 5.0, 11.180339887498949, 12.24744871391589, 5.0, 8.660254037844386, 8.660254037844386, 5.0, 8.660254037844386, 5.0, 8.660254037844386, 5.0, 0.0, 5.0, 8.660254037844386, 7.0710678118654755, 5.0, 11.180339887498949, 5.0, 8.660254037844386, 0.0, 7.0710678118654755, 5.0, 8.660254037844386, 5.0, 0.0, 7.0710678118654755, 5.0, 12.24744871391589, 5.0, 0.0, 10.0, 10.0, 0.0, 5.0, 0.0, 5.0, 0.0, 0.0, 10.0, 11.180339887498949, 0.0, 7.0710678118654755, 5.0, 0.0, 0.0, 7.0710678118654755, 5.0, 8.660254037844386, 8.660254037844386, 5.0, 7.0710678118654755, 0.0, 0.0, 0.0, 5.0, 5.0, 10.0, 0.0, 0.0, 0.0, 5.0, 0.0], \"color\": \"rgb(215, 0, 0)\"}, \"text\": [\"January 8, 16.0 Number of Victim Fatalities\", \"December 11, 5.0 Number of Victim Fatalities\", \"December 31, 9.0 Number of Victim Fatalities\", \"January 17, 1.0 Number of Victim Fatalities\", \"December 30, 3.0 Number of Victim Fatalities\", \"February 19, 1.0 Number of Victim Fatalities\", \"December 7, 7.0 Number of Victim Fatalities\", \"January 29, 2.0 Number of Victim Fatalities\", \"June 10, 2.0 Number of Victim Fatalities\", \"March 19, 1.0 Number of Victim Fatalities\", \"August 20, 8.0 Number of Victim Fatalities\", \"February 18, 13.0 Number of Victim Fatalities\", \"August 19, 1.0 Number of Victim Fatalities\", \"February 24, 2.0 Number of Victim Fatalities\", \"June 29, 6.0 Number of Victim Fatalities\", \"July 18, 21.0 Number of Victim Fatalities\", \"January 21, 1.0 Number of Victim Fatalities\", \"June 3, 2.0 Number of Victim Fatalities\", \"December 8, 1.0 Number of Victim Fatalities\", \"August 20, 14.0 Number of Victim Fatalities\", \"April 12, 1.0 Number of Victim Fatalities\", \"April 23, 6.0 Number of Victim Fatalities\", \"November 2, 1.0 Number of Victim Fatalities\", \"February 16, 7.0 Number of Victim Fatalities\", \"May 20, 1.0 Number of Victim Fatalities\", \"September 22, 4.0 Number of Victim Fatalities\", \"September 26, 2.0 Number of Victim Fatalities\", \"December 14, 0.0 Number of Victim Fatalities\", \"January 17, 5.0 Number of Victim Fatalities\", \"October 8, 3.0 Number of Victim Fatalities\", \"September 14, 8.0 Number of Victim Fatalities\", \"June 17, 11.0 Number of Victim Fatalities\", \"January 11, 5.0 Number of Victim Fatalities\", \"October 10, 3.0 Number of Victim Fatalities\", \"October 16, 23.0 Number of Victim Fatalities\", \"November 14, 4.0 Number of Victim Fatalities\", \"January 5, 4.0 Number of Victim Fatalities\", \"November 9, 0.0 Number of Victim Fatalities\", \"October 15, 4.0 Number of Victim Fatalities\", \"December 14, 2.0 Number of Victim Fatalities\", \"January 7, 8.0 Number of Victim Fatalities\", \"June 5, 1.0 Number of Victim Fatalities\", \"June 5, 1.0 Number of Victim Fatalities\", \"August 7, 0.0 Number of Victim Fatalities\", \"June 8, 4.0 Number of Victim Fatalities\", \"September 17, 0.0 Number of Victim Fatalities\", \"July 12, 6.0 Number of Victim Fatalities\", \"December 14, 4.0 Number of Victim Fatalities\", \"December 16, 1.0 Number of Victim Fatalities\", \"May 26, 4.0 Number of Victim Fatalities\", \"June 20, 4.0 Number of Victim Fatalities\", \"July 11, 1.0 Number of Victim Fatalities\", \"January 26, 2.0 Number of Victim Fatalities\", \"March 21, 4.0 Number of Victim Fatalities\", \"March 4, 5.0 Number of Victim Fatalities\", \"November 15, 2.0 Number of Victim Fatalities\", \"February 2, 3.0 Number of Victim Fatalities\", \"September 2, 6.0 Number of Victim Fatalities\", \"August 15, 3.0 Number of Victim Fatalities\", \"February 19, 2.0 Number of Victim Fatalities\", \"September 15, 4.0 Number of Victim Fatalities\", \"January 10, 2.0 Number of Victim Fatalities\", \"January 12, 3.0 Number of Victim Fatalities\", \"December 19, 1.0 Number of Victim Fatalities\", \"December 18, 4.0 Number of Victim Fatalities\", \"June 3, 4.0 Number of Victim Fatalities\", \"March 24, 5.0 Number of Victim Fatalities\", \"April 24, 1.0 Number of Victim Fatalities\", \"May 21, 4.0 Number of Victim Fatalities\", \"June 10, 0.0 Number of Victim Fatalities\", \"April 20, 13.0 Number of Victim Fatalities\", \"May 20, 0.0 Number of Victim Fatalities\", \"July 29, 9.0 Number of Victim Fatalities\", \"September 15, 7.0 Number of Victim Fatalities\", \"February 11, 7.0 Number of Victim Fatalities\", \"June 12, 0.0 Number of Victim Fatalities\", \"December 30, 5.0 Number of Victim Fatalities\", \"December 26, 7.0 Number of Victim Fatalities\", \"May 2, 5.0 Number of Victim Fatalities\", \"May 3, 2.0 Number of Victim Fatalities\", \"January 16, 3.0 Number of Victim Fatalities\", \"October 28, 3.0 Number of Victim Fatalities\", \"September 5, 1.0 Number of Victim Fatalities\", \"August 7, 6.0 Number of Victim Fatalities\", \"August 27, 6.0 Number of Victim Fatalities\", \"November 21, 6.0 Number of Victim Fatalities\", \"August 12, 4.0 Number of Victim Fatalities\", \"December 3, 7.0 Number of Victim Fatalities\", \"March 21, 9.0 Number of Victim Fatalities\", \"January 30, 7.0 Number of Victim Fatalities\", \"March 25, 6.0 Number of Victim Fatalities\", \"August 24, 2.0 Number of Victim Fatalities\", \"August 30, 1.0 Number of Victim Fatalities\", \"September 17, 0.0 Number of Victim Fatalities\", \"February 10, 5.0 Number of Victim Fatalities\", \"December 2, 5.0 Number of Victim Fatalities\", \"October 4, 0.0 Number of Victim Fatalities\", \"April 16, 32.0 Number of Victim Fatalities\", \"July 10, 6.0 Number of Victim Fatalities\", \"November 10, 0.0 Number of Victim Fatalities\", \"October 25, 0.0 Number of Victim Fatalities\", \"May 12, 8.0 Number of Victim Fatalities\", \"September 12, 4.0 Number of Victim Fatalities\", \"November 12, 0.0 Number of Victim Fatalities\", \"December 24, 6.0 Number of Victim Fatalities\", \"July 2, 5.0 Number of Victim Fatalities\", \"February 14, 5.0 Number of Victim Fatalities\", \"June 25, 6.0 Number of Victim Fatalities\", \"July 24, 0.0 Number of Victim Fatalities\", \"October 26, 2.0 Number of Victim Fatalities\", \"December 24, 9.0 Number of Victim Fatalities\", \"October 3, 10.0 Number of Victim Fatalities\", \"March 29, 5.0 Number of Victim Fatalities\", \"March 29, 8.0 Number of Victim Fatalities\", \"March 4, 13.0 Number of Victim Fatalities\", \"May 11, 13.0 Number of Victim Fatalities\", \"November 29, 4.0 Number of Victim Fatalities\", \"December 2, 3.0 Number of Victim Fatalities\", \"March 8, 8.0 Number of Victim Fatalities\", \"August 1, 6.0 Number of Victim Fatalities\", \"June 2, 1.0 Number of Victim Fatalities\", \"June 4, 1.0 Number of Victim Fatalities\", \"July 7, 7.0 Number of Victim Fatalities\", \"June 9, 4.0 Number of Victim Fatalities\", \"December 10, 8.0 Number of Victim Fatalities\", \"February 22, 4.0 Number of Victim Fatalities\", \"February 27, 3.0 Number of Victim Fatalities\", \"February 4, 7.0 Number of Victim Fatalities\", \"June 4, 3.0 Number of Victim Fatalities\", \"May 30, 5.0 Number of Victim Fatalities\", \"September 6, 3.0 Number of Victim Fatalities\", \"July 20, 12.0 Number of Victim Fatalities\", \"May 8, 6.0 Number of Victim Fatalities\", \"September 27, 6.0 Number of Victim Fatalities\", \"September 28, 0.0 Number of Victim Fatalities\", \"October 21, 3.0 Number of Victim Fatalities\", \"November 12, 2.0 Number of Victim Fatalities\", \"December 14, 27.0 Number of Victim Fatalities\", \"January 19, 5.0 Number of Victim Fatalities\", \"January 30, 2.0 Number of Victim Fatalities\", \"March 2, 4.0 Number of Victim Fatalities\", \"February 19, 3.0 Number of Victim Fatalities\", \"April 21, 4.0 Number of Victim Fatalities\", \"April 24, 6.0 Number of Victim Fatalities\", \"July 6, 5.0 Number of Victim Fatalities\", \"July 26, 6.0 Number of Victim Fatalities\", \"May 8, 3.0 Number of Victim Fatalities\", \"August 14, 4.0 Number of Victim Fatalities\", \"September 16, 12.0 Number of Victim Fatalities\", \"October 21, 1.0 Number of Victim Fatalities\", \"November 11, 1.0 Number of Victim Fatalities\", \"September 8, 9.0 Number of Victim Fatalities\", \"February 24, 2.0 Number of Victim Fatalities\", \"March 13, 4.0 Number of Victim Fatalities\", \"January 11, 1.0 Number of Victim Fatalities\", \"July 8, 4.0 Number of Victim Fatalities\", \"December 28, 3.0 Number of Victim Fatalities\", \"March 23, 0.0 Number of Victim Fatalities\", \"February 4, 3.0 Number of Victim Fatalities\", \"April 29, 0.0 Number of Victim Fatalities\", \"May 23, 3.0 Number of Victim Fatalities\", \"May 6, 1.0 Number of Victim Fatalities\", \"August 6, 3.0 Number of Victim Fatalities\", \"June 29, 1.0 Number of Victim Fatalities\", \"August 8, 1.0 Number of Victim Fatalities\", \"October 24, 4.0 Number of Victim Fatalities\", \"November 19, 0.0 Number of Victim Fatalities\", \"February 20, 4.0 Number of Victim Fatalities\", \"December 30, 2.0 Number of Victim Fatalities\", \"January 29, 5.0 Number of Victim Fatalities\", \"December 15, 6.0 Number of Victim Fatalities\", \"January 1, 0.0 Number of Victim Fatalities\", \"October 1, 3.0 Number of Victim Fatalities\", \"January 24, 3.0 Number of Victim Fatalities\", \"January 28, 5.0 Number of Victim Fatalities\", \"January 24, 3.0 Number of Victim Fatalities\", \"October 2, 3.0 Number of Victim Fatalities\", \"July 2, 0.0 Number of Victim Fatalities\", \"September 2, 3.0 Number of Victim Fatalities\", \"February 26, 7.0 Number of Victim Fatalities\", \"January 12, 4.0 Number of Victim Fatalities\", \"July 2, 4.0 Number of Victim Fatalities\", \"January 2, 0.0 Number of Victim Fatalities\", \"February 22, 2.0 Number of Victim Fatalities\", \"February 22, 3.0 Number of Victim Fatalities\", \"February 24, 3.0 Number of Victim Fatalities\", \"February 27, 1.0 Number of Victim Fatalities\", \"February 28, 3.0 Number of Victim Fatalities\", \"March 13, 2.0 Number of Victim Fatalities\", \"March 15, 2.0 Number of Victim Fatalities\", \"March 18, 1.0 Number of Victim Fatalities\", \"March 19, 1.0 Number of Victim Fatalities\", \"March 28, 0.0 Number of Victim Fatalities\", \"March 30, 3.0 Number of Victim Fatalities\", \"March 4, 0.0 Number of Victim Fatalities\", \"May 4, 0.0 Number of Victim Fatalities\", \"July 4, 1.0 Number of Victim Fatalities\", \"April 16, 4.0 Number of Victim Fatalities\", \"April 21, 2.0 Number of Victim Fatalities\", \"April 25, 1.0 Number of Victim Fatalities\", \"January 5, 2.0 Number of Victim Fatalities\", \"March 5, 3.0 Number of Victim Fatalities\", \"December 5, 4.0 Number of Victim Fatalities\", \"May 25, 1.0 Number of Victim Fatalities\", \"May 31, 2.0 Number of Victim Fatalities\", \"May 31, 2.0 Number of Victim Fatalities\", \"July 6, 4.0 Number of Victim Fatalities\", \"June 17, 9.0 Number of Victim Fatalities\", \"June 20, 0.0 Number of Victim Fatalities\", \"October 5, 1.0 Number of Victim Fatalities\", \"June 16, 0.0 Number of Victim Fatalities\", \"December 7, 1.0 Number of Victim Fatalities\", \"July 16, 4.0 Number of Victim Fatalities\", \"July 22, 3.0 Number of Victim Fatalities\", \"July 23, 2.0 Number of Victim Fatalities\", \"August 8, 8.0 Number of Victim Fatalities\", \"August 19, 3.0 Number of Victim Fatalities\", \"August 26, 2.0 Number of Victim Fatalities\", \"August 29, 3.0 Number of Victim Fatalities\", \"October 9, 4.0 Number of Victim Fatalities\", \"September 17, 5.0 Number of Victim Fatalities\", \"January 10, 9.0 Number of Victim Fatalities\", \"September 10, 1.0 Number of Victim Fatalities\", \"April 2, 3.0 Number of Victim Fatalities\", \"September 27, 0.0 Number of Victim Fatalities\", \"October 21, 2.0 Number of Victim Fatalities\", \"October 31, 3.0 Number of Victim Fatalities\", \"April 11, 3.0 Number of Victim Fatalities\", \"January 10, 2.0 Number of Victim Fatalities\", \"July 11, 1.0 Number of Victim Fatalities\", \"November 13, 3.0 Number of Victim Fatalities\", \"November 15, 6.0 Number of Victim Fatalities\", \"November 23, 3.0 Number of Victim Fatalities\", \"November 23, 0.0 Number of Victim Fatalities\", \"November 27, 3.0 Number of Victim Fatalities\", \"February 12, 14.0 Number of Victim Fatalities\", \"June 12, 2.0 Number of Victim Fatalities\", \"January 27, 5.0 Number of Victim Fatalities\", \"July 2, 2.0 Number of Victim Fatalities\", \"February 20, 1.0 Number of Victim Fatalities\", \"February 20, 6.0 Number of Victim Fatalities\", \"February 23, 4.0 Number of Victim Fatalities\", \"February 25, 3.0 Number of Victim Fatalities\", \"February 26, 4.0 Number of Victim Fatalities\", \"February 27, 2.0 Number of Victim Fatalities\", \"June 3, 1.0 Number of Victim Fatalities\", \"July 3, 5.0 Number of Victim Fatalities\", \"September 3, 6.0 Number of Victim Fatalities\", \"March 19, 1.0 Number of Victim Fatalities\", \"March 20, 3.0 Number of Victim Fatalities\", \"March 21, 3.0 Number of Victim Fatalities\", \"March 25, 1.0 Number of Victim Fatalities\", \"March 26, 3.0 Number of Victim Fatalities\", \"March 31, 1.0 Number of Victim Fatalities\", \"June 1, 3.0 Number of Victim Fatalities\", \"July 1, 1.0 Number of Victim Fatalities\", \"November 1, 0.0 Number of Victim Fatalities\", \"January 17, 1.0 Number of Victim Fatalities\", \"January 23, 3.0 Number of Victim Fatalities\", \"January 23, 2.0 Number of Victim Fatalities\", \"January 25, 1.0 Number of Victim Fatalities\", \"January 27, 5.0 Number of Victim Fatalities\", \"January 29, 1.0 Number of Victim Fatalities\", \"January 30, 3.0 Number of Victim Fatalities\", \"January 31, 0.0 Number of Victim Fatalities\", \"June 2, 2.0 Number of Victim Fatalities\", \"June 2, 1.0 Number of Victim Fatalities\", \"June 2, 3.0 Number of Victim Fatalities\", \"July 2, 1.0 Number of Victim Fatalities\", \"September 2, 0.0 Number of Victim Fatalities\", \"February 19, 2.0 Number of Victim Fatalities\", \"February 20, 1.0 Number of Victim Fatalities\", \"February 20, 6.0 Number of Victim Fatalities\", \"February 21, 1.0 Number of Victim Fatalities\", \"February 21, 0.0 Number of Victim Fatalities\", \"February 23, 4.0 Number of Victim Fatalities\", \"February 25, 4.0 Number of Victim Fatalities\", \"February 28, 0.0 Number of Victim Fatalities\", \"February 28, 1.0 Number of Victim Fatalities\", \"May 3, 0.0 Number of Victim Fatalities\", \"June 3, 1.0 Number of Victim Fatalities\", \"June 3, 0.0 Number of Victim Fatalities\", \"July 3, 0.0 Number of Victim Fatalities\", \"July 3, 4.0 Number of Victim Fatalities\", \"September 3, 5.0 Number of Victim Fatalities\", \"November 3, 0.0 Number of Victim Fatalities\", \"November 3, 2.0 Number of Victim Fatalities\", \"December 3, 1.0 Number of Victim Fatalities\", \"March 13, 0.0 Number of Victim Fatalities\", \"March 15, 0.0 Number of Victim Fatalities\", \"March 19, 2.0 Number of Victim Fatalities\", \"March 19, 1.0 Number of Victim Fatalities\", \"March 20, 3.0 Number of Victim Fatalities\", \"March 21, 3.0 Number of Victim Fatalities\", \"March 25, 1.0 Number of Victim Fatalities\", \"January 4, 2.0 Number of Victim Fatalities\", \"July 4, 0.0 Number of Victim Fatalities\", \"September 4, 0.0 Number of Victim Fatalities\", \"September 4, 0.0 Number of Victim Fatalities\", \"April 18, 1.0 Number of Victim Fatalities\", \"April 19, 1.0 Number of Victim Fatalities\", \"April 19, 4.0 Number of Victim Fatalities\", \"April 19, 0.0 Number of Victim Fatalities\", \"April 21, 0.0 Number of Victim Fatalities\", \"April 24, 0.0 Number of Victim Fatalities\", \"April 26, 1.0 Number of Victim Fatalities\", \"April 29, 0.0 Number of Victim Fatalities\"]}], {\"geo\": {\"subunitcolor\": \"rgb(217, 217, 217)\", \"lakecolor\": \"rgb(255, 255, 255)\", \"showlakes\": true, \"countrycolor\": \"rgb(217, 217, 217)\", \"countrywidth\": 1, \"subunitwidth\": 1, \"showland\": true, \"projection\": {\"type\": \"albers usa\"}, \"landcolor\": \"rgb(250, 250, 250)\", \"scope\": \"usa\"}, \"title\": \"Shooting Fatalities by Latitude/Longitude in United States <br><sub>Hover to View Date and Fatalitiess</sub>\"}, {\"linkText\": \"Export to plot.ly\", \"showLink\": true})});</script>"
      ],
      "text/vnd.plotly.v1+html": [
       "<div id=\"34696c4a-0a64-4519-b7db-180b19d38413\" style=\"height: 525px; width: 100%;\" class=\"plotly-graph-div\"></div><script type=\"text/javascript\">require([\"plotly\"], function(Plotly) { window.PLOTLYENV=window.PLOTLYENV || {};window.PLOTLYENV.BASE_URL=\"https://plot.ly\";Plotly.newPlot(\"34696c4a-0a64-4519-b7db-180b19d38413\", [{\"type\": \"scattergeo\", \"locationmode\": \"USA-states\", \"lon\": [-97.84415949, -111.8163202, -89.93147412, -87.68818145, -78.43213922, -118.53995420000001, -117.92785, -117.1281628, -80.82077527, -115.3264875, -80.20840397, -122.323646, -81.8051584, -118.53995420000001, -96.76631094, -117.047656, -97.55070476, -84.4231328, -73.939513, -97.41438792, -109.4844918, -80.66662713, -82.71058000000001, -122.02561850000001, -87.74211141, -87.68818145, -82.15355508, -89.93147412, -121.30187749999999, -117.07225279999999, -85.72624300000001, -81.67576993, -91.53117986, -74.11264731, -97.73392317, -83.15387427, -121.55495390000002, -101.88056879999999, -76.86724659, -73.36216339, -122.44243429999999, -83.21293244, -117.696399, -111.96753170000001, -79.03796125, -106.9599165, -73.644712, -104.7871863, -84.01868108, -84.67066339, -117.644099, -81.46902046, -79.03850407, -74.20862, -97.43073352, -87.00610559, -119.2750699, -80.14865708, -117.1281628, -161.7927517, -81.72595949, -90.09470655, -88.74422, -87.96724385, -117.820412, -72.73083927, -90.67950058, -80.12459632, -123.0075562, -117.3948409, -105.0152112, -84.02688527, -84.4231328, -97.31305148, -157.844998, -95.25996596, -82.44503769, -71.10271358, -87.86430209999999, -117.1281628, -82.09877234, -110.96776470000002, -81.68051502, -88.68967949, -87.68818145, -91.55077175, -82.98904135, -88.12299758, -95.00529009, -119.8593619, -122.323646, -73.11400628, -79.09701201, -79.97631581, -76.30100872, -111.9312168, -122.44127590000001, -80.42768677, -88.89729022, -81.68051502, -83.95032759, -96.05381421, -105.17371499999999, -115.3264875, -121.9088524, -90.42023754, -88.74814853, -87.57853755, -112.0904854, -92.43278275, -117.88199579999998, -85.87634659999999, -121.96793149999999, -79.41381725, -75.90922294, -97.77797804, -122.5296574, -86.67230550000001, -72.51918655, -110.96776470000002, -80.64631705, -85.37706931, -85.66008902, -119.77630249999999, -118.0715378, -84.20985979, -81.20812625, -122.21531709999998, -95.91316117, -122.323646, -85.48989253, -104.9825207, -87.90087079, -93.26783687, -80.20840397, -88.12299758, -122.54401329999999, -73.31196267, -106.7791378, -112.0904854, -117.773628, -117.64157069999999, -122.3357553, -90.33029852, -118.48156440000001, -80.28316975, -79.08435956, -97.5191631, -77.01629717, -119.748291, -117.41598429999999, -112.0904854, -95.30501087, -75.00751190000001, -118.53995420000001, -96.76631094, -86.26730242, -122.44243429999999, -97.73392317, -84.61766831, -119.8581209, -122.323646, -115.3264875, -89.93147412, -106.7791378, -122.1359622, -84.25264151, -120.54909099999999, -71.14080012, -86.79550448, -75.49640881, -89.97734924, -116.99900420000002, -73.8720502, -85.0287065, -96.05381421, -79.03850407, -79.76092565, -82.71690259, -91.876583, -79.94839325, -84.71564276, -76.14376763, -83.52918091, -97.73392317, -80.836788, -86.79550448, -77.55639964, -90.44323475, -85.30100084, -111.8163202, -108.723281, -85.87371301, -95.91316117, -81.10173014, -86.14635359, -85.18822422, -112.0904854, -97.73392317, -77.69300856, -87.96724385, -88.4484585, -110.96776470000002, -88.93346458, -81.68051502, -84.02688527, -112.73293329999998, -79.96693995, -79.9996781, -74.18417699, -80.24253243, -87.81941392, -85.23676751, -84.06872262, -92.0316453, -95.36763856, -77.614337, -79.95816104, -82.21429551, -95.42844094, -98.84357239, -123.3522367, -111.65854350000001, -80.35501402, -84.7143335, -84.599655, -104.7572279, -69.70782299, -82.65919302, -82.35793452, -81.67576993, -95.8069, -82.98904135, -93.26783687, -104.7572279, -117.29424440000001, -96.0814, -76.3293, -81.4646, -88.1383, -85.676, -112.163, -97.4268, -122.931, -77.3524, -71.03282800000001, -94.627464, -79.995886, -80.233104, -85.75845600000001, -96.60888, -87.334739, -78.301106, -77.436048, -81.949804, -90.04898, -75.539788, -76.458559, -86.572799, -118.24368500000001, -117.22864799999999, -76.28749300000001, -77.286488, -112.18598700000001, -90.07153199999999, -82.457178, -118.24368500000001, -99.786168, -77.610922, -86.238946, -122.25663700000001, -82.457178, -85.58722900000001, -90.370949, -95.369803, -112.074037, -122.82694599999999, -83.045754, -117.48548000000001, -97.330053, -71.03282800000001, -84.36155600000001, -92.01984300000001, -94.627464, -79.88199399999999, -74.742938, -83.045754, -82.86708399999999, -81.87230799999999, -84.387982, -86.211913, -80.233104, -85.75845600000001, -96.60888, -86.60249300000001, -106.605553, -87.629798, -106.605553, -90.04898, -118.193739, -87.629798, -95.824396, -86.475543, -76.612189, -78.928344, -76.874972, -90.305391], \"lat\": [30.198887300000003, 33.42268696, 30.0687242, 41.83928045, 42.08185369, 34.17622092, 33.88404244, 32.86357277, 34.05098834, 36.18931923, 25.79653943, 47.62199575, 33.83272887, 34.17622092, 32.79480596, 32.555556, 37.67129418, 33.7629969, 40.679276, 35.66889223, 47.03740653, 27.98388983, 27.84887061, 37.38344257, 42.10648807, 41.83928045, 34.1928952, 30.0687242, 37.96631812, 33.13439925, 38.249432, 30.33216122, 41.65589405, 40.98213277, 31.07925506, 42.50840203, 39.08174985, 35.18322484, 42.38013875, 42.19358268, 37.75457839, 42.31269522, 33.47316083, 41.2281367, 35.07997086, 44.79051074, 40.72662266, 39.69892933, 42.31319376, 38.95130818, 47.618456, 41.60713735, 35.92681467, 40.826184000000005, 27.73907518, 35.37810374, 47.12189424, 26.11737018, 32.86357277, 60.79053882, 33.47524551, 32.27492783, 37.08506, 43.06420322, 33.78935598, 41.68700845, 35.82083155, 41.87617136, 44.05489698, 33.93814348, 39.59358263, 33.66086267, 33.7629969, 32.74802142, 21.309106, 35.77669911, 27.99601861, 42.30904091, 41.90289602, 32.86357277, 37.27537712, 32.15358905, 41.47657557, 32.38455246, 41.83928045, 45.65773714, 39.98861445, 43.06396691, 47.87067289, 34.43606107, 47.62199575, 44.49022039, 36.04099857, 40.43948548, 40.04214385, 40.77787404, 45.50216511, 37.22995471, 45.56871416, 41.47657557, 43.41929117, 41.265921999999996, 39.81087474, 36.18931923, 47.64628742, 38.57889169, 41.93172129, 37.84040411, 33.57145875, 35.08130744, 34.09026669, 31.04367594, 37.36463172, 35.33985609, 42.10140103, 31.13814354, 47.16267579, 34.72827538, 41.78013821, 32.15358905, 41.09933958, 32.66240106, 42.96920434, 39.16464203, 33.75432632, 33.94104379, 41.58025541, 37.79176806, 36.13543238, 47.62199575, 32.60598014, 39.72941874, 42.88027442, 44.96358722, 25.79653943, 43.06396691, 45.44853107, 41.41190846, 35.15290522, 33.57145875, 33.67803464, 33.54961059, 47.30909721, 39.54231335, 34.02319149, 25.85294547, 39.75344279, 35.46779189, 38.90480894, 39.54058388, 47.67367375, 33.57145875, 32.3154272, 43.0104011, 34.17622092, 32.79480596, 32.34729571, 37.75457839, 31.07925506, 34.02529674, 34.4145857, 47.62199575, 36.18931923, 30.0687242, 35.15290522, 48.04802409, 30.454939399999997, 41.4911123, 42.32427392, 33.5282865, 40.39359306, 35.10528976, 46.73059479, 40.68996411, 33.03607062, 41.265921999999996, 35.92681467, 40.425745500000005, 28.24653304, 37.204442, 39.63400851, 33.71059292, 43.04093416, 34.61025711, 31.07925506, 35.226354, 33.5282865, 35.90434471, 31.58036482, 31.054968699999996, 33.42268696, 36.443290000000005, 30.22540212, 36.13543238, 29.19313443, 39.77725479, 34.26779152, 33.57145875, 31.07925506, 43.15693027, 43.06420322, 44.20455909, 32.15358905, 39.85566372, 41.47657557, 33.66086267, 46.39761858, 32.8129729, 34.86379864, 40.73169648, 25.94326707, 41.89499946, 35.09318123, 34.05057545, 30.21233538, 29.79705548, 43.16968370000001, 37.27823366, 36.55605824, 47.69618799, 43.38682722, 43.22205555, 35.1725658, 36.27617912, 33.02912644, 39.253268, 38.86730659, 44.54994725, 29.03270634, 31.21094544, 30.33216122, 31.8076, 39.98861445, 44.96358722, 38.86730659, 34.13973446, 41.3138, 36.7921, 28.4541, 34.7404, 42.2354, 33.5927, 38.1368, 47.5033, 38.6697, 42.391764, 39.114053000000006, 40.440625, 26.127585999999997, 38.252665, 33.635661999999996, 35.242302, 36.099039000000005, 37.540725, 28.039465000000003, 35.149534, 39.739072, 37.402640000000005, 30.754181, 34.052234000000006, 33.782519, 36.768209000000006, 38.044556, 33.538652, 29.951065999999997, 27.950575, 34.052234000000006, 29.209684000000003, 43.16103, 43.201126, 38.104085999999995, 27.950575, 42.291707, 38.771440000000005, 29.760427000000004, 33.448377, 47.451459, 42.331427000000005, 33.997197, 37.687176, 42.391764, 34.023243, 30.224090000000004, 39.114053000000006, 40.441736, 40.217053, 42.331427000000005, 34.111222999999995, 26.640628000000003, 33.748995, 32.543745, 26.127585999999997, 38.252665, 33.635661999999996, 34.759257, 35.085334, 41.878114000000004, 35.085334, 35.149534, 33.77005, 41.878114000000004, 29.785784999999997, 34.162040000000005, 39.290385, 36.765971, 38.845113, 38.744217], \"mode\": \"markers\", \"marker\": {\"opacity\": 0.75, \"size\": [20.0, 11.180339887498949, 15.0, 5.0, 8.660254037844386, 5.0, 13.228756555322953, 7.0710678118654755, 7.0710678118654755, 5.0, 14.142135623730951, 18.027756377319946, 5.0, 7.0710678118654755, 12.24744871391589, 22.9128784747792, 5.0, 7.0710678118654755, 5.0, 18.708286933869708, 5.0, 12.24744871391589, 5.0, 13.228756555322953, 5.0, 10.0, 7.0710678118654755, 0.0, 11.180339887498949, 8.660254037844386, 14.142135623730951, 16.583123951776997, 11.180339887498949, 8.660254037844386, 23.979157616563597, 10.0, 10.0, 0.0, 10.0, 7.0710678118654755, 14.142135623730951, 5.0, 5.0, 0.0, 10.0, 0.0, 12.24744871391589, 10.0, 5.0, 10.0, 10.0, 5.0, 7.0710678118654755, 10.0, 11.180339887498949, 7.0710678118654755, 8.660254037844386, 12.24744871391589, 8.660254037844386, 7.0710678118654755, 10.0, 7.0710678118654755, 8.660254037844386, 5.0, 10.0, 10.0, 11.180339887498949, 5.0, 10.0, 0.0, 18.027756377319946, 0.0, 15.0, 13.228756555322953, 13.228756555322953, 0.0, 11.180339887498949, 13.228756555322953, 11.180339887498949, 7.0710678118654755, 8.660254037844386, 8.660254037844386, 5.0, 12.24744871391589, 12.24744871391589, 12.24744871391589, 10.0, 13.228756555322953, 15.0, 13.228756555322953, 12.24744871391589, 7.0710678118654755, 5.0, 0.0, 11.180339887498949, 11.180339887498949, 0.0, 28.284271247461902, 12.24744871391589, 0.0, 0.0, 14.142135623730951, 10.0, 0.0, 12.24744871391589, 11.180339887498949, 11.180339887498949, 12.24744871391589, 0.0, 7.0710678118654755, 15.0, 15.811388300841898, 11.180339887498949, 14.142135623730951, 18.027756377319946, 18.027756377319946, 10.0, 8.660254037844386, 14.142135623730951, 12.24744871391589, 5.0, 5.0, 13.228756555322953, 10.0, 14.142135623730951, 10.0, 8.660254037844386, 13.228756555322953, 8.660254037844386, 11.180339887498949, 8.660254037844386, 17.32050807568877, 12.24744871391589, 12.24744871391589, 0.0, 8.660254037844386, 7.0710678118654755, 25.98076211353316, 11.180339887498949, 7.0710678118654755, 10.0, 8.660254037844386, 10.0, 12.24744871391589, 11.180339887498949, 12.24744871391589, 8.660254037844386, 10.0, 17.32050807568877, 5.0, 5.0, 15.0, 7.0710678118654755, 10.0, 5.0, 10.0, 8.660254037844386, 0.0, 8.660254037844386, 0.0, 8.660254037844386, 5.0, 8.660254037844386, 5.0, 5.0, 10.0, 0.0, 10.0, 7.0710678118654755, 11.180339887498949, 12.24744871391589, 0.0, 8.660254037844386, 8.660254037844386, 11.180339887498949, 8.660254037844386, 8.660254037844386, 0.0, 8.660254037844386, 13.228756555322953, 10.0, 10.0, 0.0, 7.0710678118654755, 8.660254037844386, 8.660254037844386, 5.0, 8.660254037844386, 7.0710678118654755, 7.0710678118654755, 5.0, 5.0, 0.0, 8.660254037844386, 0.0, 0.0, 5.0, 10.0, 7.0710678118654755, 5.0, 7.0710678118654755, 8.660254037844386, 10.0, 5.0, 7.0710678118654755, 7.0710678118654755, 10.0, 15.0, 0.0, 5.0, 0.0, 5.0, 10.0, 8.660254037844386, 7.0710678118654755, 14.142135623730951, 8.660254037844386, 7.0710678118654755, 8.660254037844386, 10.0, 11.180339887498949, 15.0, 5.0, 8.660254037844386, 0.0, 7.0710678118654755, 8.660254037844386, 8.660254037844386, 7.0710678118654755, 5.0, 8.660254037844386, 12.24744871391589, 8.660254037844386, 0.0, 8.660254037844386, 18.708286933869708, 7.0710678118654755, 11.180339887498949, 7.0710678118654755, 5.0, 12.24744871391589, 10.0, 8.660254037844386, 10.0, 7.0710678118654755, 5.0, 11.180339887498949, 12.24744871391589, 5.0, 8.660254037844386, 8.660254037844386, 5.0, 8.660254037844386, 5.0, 8.660254037844386, 5.0, 0.0, 5.0, 8.660254037844386, 7.0710678118654755, 5.0, 11.180339887498949, 5.0, 8.660254037844386, 0.0, 7.0710678118654755, 5.0, 8.660254037844386, 5.0, 0.0, 7.0710678118654755, 5.0, 12.24744871391589, 5.0, 0.0, 10.0, 10.0, 0.0, 5.0, 0.0, 5.0, 0.0, 0.0, 10.0, 11.180339887498949, 0.0, 7.0710678118654755, 5.0, 0.0, 0.0, 7.0710678118654755, 5.0, 8.660254037844386, 8.660254037844386, 5.0, 7.0710678118654755, 0.0, 0.0, 0.0, 5.0, 5.0, 10.0, 0.0, 0.0, 0.0, 5.0, 0.0], \"color\": \"rgb(215, 0, 0)\"}, \"text\": [\"January 8, 16.0 Number of Victim Fatalities\", \"December 11, 5.0 Number of Victim Fatalities\", \"December 31, 9.0 Number of Victim Fatalities\", \"January 17, 1.0 Number of Victim Fatalities\", \"December 30, 3.0 Number of Victim Fatalities\", \"February 19, 1.0 Number of Victim Fatalities\", \"December 7, 7.0 Number of Victim Fatalities\", \"January 29, 2.0 Number of Victim Fatalities\", \"June 10, 2.0 Number of Victim Fatalities\", \"March 19, 1.0 Number of Victim Fatalities\", \"August 20, 8.0 Number of Victim Fatalities\", \"February 18, 13.0 Number of Victim Fatalities\", \"August 19, 1.0 Number of Victim Fatalities\", \"February 24, 2.0 Number of Victim Fatalities\", \"June 29, 6.0 Number of Victim Fatalities\", \"July 18, 21.0 Number of Victim Fatalities\", \"January 21, 1.0 Number of Victim Fatalities\", \"June 3, 2.0 Number of Victim Fatalities\", \"December 8, 1.0 Number of Victim Fatalities\", \"August 20, 14.0 Number of Victim Fatalities\", \"April 12, 1.0 Number of Victim Fatalities\", \"April 23, 6.0 Number of Victim Fatalities\", \"November 2, 1.0 Number of Victim Fatalities\", \"February 16, 7.0 Number of Victim Fatalities\", \"May 20, 1.0 Number of Victim Fatalities\", \"September 22, 4.0 Number of Victim Fatalities\", \"September 26, 2.0 Number of Victim Fatalities\", \"December 14, 0.0 Number of Victim Fatalities\", \"January 17, 5.0 Number of Victim Fatalities\", \"October 8, 3.0 Number of Victim Fatalities\", \"September 14, 8.0 Number of Victim Fatalities\", \"June 17, 11.0 Number of Victim Fatalities\", \"January 11, 5.0 Number of Victim Fatalities\", \"October 10, 3.0 Number of Victim Fatalities\", \"October 16, 23.0 Number of Victim Fatalities\", \"November 14, 4.0 Number of Victim Fatalities\", \"January 5, 4.0 Number of Victim Fatalities\", \"November 9, 0.0 Number of Victim Fatalities\", \"October 15, 4.0 Number of Victim Fatalities\", \"December 14, 2.0 Number of Victim Fatalities\", \"January 7, 8.0 Number of Victim Fatalities\", \"June 5, 1.0 Number of Victim Fatalities\", \"June 5, 1.0 Number of Victim Fatalities\", \"August 7, 0.0 Number of Victim Fatalities\", \"June 8, 4.0 Number of Victim Fatalities\", \"September 17, 0.0 Number of Victim Fatalities\", \"July 12, 6.0 Number of Victim Fatalities\", \"December 14, 4.0 Number of Victim Fatalities\", \"December 16, 1.0 Number of Victim Fatalities\", \"May 26, 4.0 Number of Victim Fatalities\", \"June 20, 4.0 Number of Victim Fatalities\", \"July 11, 1.0 Number of Victim Fatalities\", \"January 26, 2.0 Number of Victim Fatalities\", \"March 21, 4.0 Number of Victim Fatalities\", \"March 4, 5.0 Number of Victim Fatalities\", \"November 15, 2.0 Number of Victim Fatalities\", \"February 2, 3.0 Number of Victim Fatalities\", \"September 2, 6.0 Number of Victim Fatalities\", \"August 15, 3.0 Number of Victim Fatalities\", \"February 19, 2.0 Number of Victim Fatalities\", \"September 15, 4.0 Number of Victim Fatalities\", \"January 10, 2.0 Number of Victim Fatalities\", \"January 12, 3.0 Number of Victim Fatalities\", \"December 19, 1.0 Number of Victim Fatalities\", \"December 18, 4.0 Number of Victim Fatalities\", \"June 3, 4.0 Number of Victim Fatalities\", \"March 24, 5.0 Number of Victim Fatalities\", \"April 24, 1.0 Number of Victim Fatalities\", \"May 21, 4.0 Number of Victim Fatalities\", \"June 10, 0.0 Number of Victim Fatalities\", \"April 20, 13.0 Number of Victim Fatalities\", \"May 20, 0.0 Number of Victim Fatalities\", \"July 29, 9.0 Number of Victim Fatalities\", \"September 15, 7.0 Number of Victim Fatalities\", \"February 11, 7.0 Number of Victim Fatalities\", \"June 12, 0.0 Number of Victim Fatalities\", \"December 30, 5.0 Number of Victim Fatalities\", \"December 26, 7.0 Number of Victim Fatalities\", \"May 2, 5.0 Number of Victim Fatalities\", \"May 3, 2.0 Number of Victim Fatalities\", \"January 16, 3.0 Number of Victim Fatalities\", \"October 28, 3.0 Number of Victim Fatalities\", \"September 5, 1.0 Number of Victim Fatalities\", \"August 7, 6.0 Number of Victim Fatalities\", \"August 27, 6.0 Number of Victim Fatalities\", \"November 21, 6.0 Number of Victim Fatalities\", \"August 12, 4.0 Number of Victim Fatalities\", \"December 3, 7.0 Number of Victim Fatalities\", \"March 21, 9.0 Number of Victim Fatalities\", \"January 30, 7.0 Number of Victim Fatalities\", \"March 25, 6.0 Number of Victim Fatalities\", \"August 24, 2.0 Number of Victim Fatalities\", \"August 30, 1.0 Number of Victim Fatalities\", \"September 17, 0.0 Number of Victim Fatalities\", \"February 10, 5.0 Number of Victim Fatalities\", \"December 2, 5.0 Number of Victim Fatalities\", \"October 4, 0.0 Number of Victim Fatalities\", \"April 16, 32.0 Number of Victim Fatalities\", \"July 10, 6.0 Number of Victim Fatalities\", \"November 10, 0.0 Number of Victim Fatalities\", \"October 25, 0.0 Number of Victim Fatalities\", \"May 12, 8.0 Number of Victim Fatalities\", \"September 12, 4.0 Number of Victim Fatalities\", \"November 12, 0.0 Number of Victim Fatalities\", \"December 24, 6.0 Number of Victim Fatalities\", \"July 2, 5.0 Number of Victim Fatalities\", \"February 14, 5.0 Number of Victim Fatalities\", \"June 25, 6.0 Number of Victim Fatalities\", \"July 24, 0.0 Number of Victim Fatalities\", \"October 26, 2.0 Number of Victim Fatalities\", \"December 24, 9.0 Number of Victim Fatalities\", \"October 3, 10.0 Number of Victim Fatalities\", \"March 29, 5.0 Number of Victim Fatalities\", \"March 29, 8.0 Number of Victim Fatalities\", \"March 4, 13.0 Number of Victim Fatalities\", \"May 11, 13.0 Number of Victim Fatalities\", \"November 29, 4.0 Number of Victim Fatalities\", \"December 2, 3.0 Number of Victim Fatalities\", \"March 8, 8.0 Number of Victim Fatalities\", \"August 1, 6.0 Number of Victim Fatalities\", \"June 2, 1.0 Number of Victim Fatalities\", \"June 4, 1.0 Number of Victim Fatalities\", \"July 7, 7.0 Number of Victim Fatalities\", \"June 9, 4.0 Number of Victim Fatalities\", \"December 10, 8.0 Number of Victim Fatalities\", \"February 22, 4.0 Number of Victim Fatalities\", \"February 27, 3.0 Number of Victim Fatalities\", \"February 4, 7.0 Number of Victim Fatalities\", \"June 4, 3.0 Number of Victim Fatalities\", \"May 30, 5.0 Number of Victim Fatalities\", \"September 6, 3.0 Number of Victim Fatalities\", \"July 20, 12.0 Number of Victim Fatalities\", \"May 8, 6.0 Number of Victim Fatalities\", \"September 27, 6.0 Number of Victim Fatalities\", \"September 28, 0.0 Number of Victim Fatalities\", \"October 21, 3.0 Number of Victim Fatalities\", \"November 12, 2.0 Number of Victim Fatalities\", \"December 14, 27.0 Number of Victim Fatalities\", \"January 19, 5.0 Number of Victim Fatalities\", \"January 30, 2.0 Number of Victim Fatalities\", \"March 2, 4.0 Number of Victim Fatalities\", \"February 19, 3.0 Number of Victim Fatalities\", \"April 21, 4.0 Number of Victim Fatalities\", \"April 24, 6.0 Number of Victim Fatalities\", \"July 6, 5.0 Number of Victim Fatalities\", \"July 26, 6.0 Number of Victim Fatalities\", \"May 8, 3.0 Number of Victim Fatalities\", \"August 14, 4.0 Number of Victim Fatalities\", \"September 16, 12.0 Number of Victim Fatalities\", \"October 21, 1.0 Number of Victim Fatalities\", \"November 11, 1.0 Number of Victim Fatalities\", \"September 8, 9.0 Number of Victim Fatalities\", \"February 24, 2.0 Number of Victim Fatalities\", \"March 13, 4.0 Number of Victim Fatalities\", \"January 11, 1.0 Number of Victim Fatalities\", \"July 8, 4.0 Number of Victim Fatalities\", \"December 28, 3.0 Number of Victim Fatalities\", \"March 23, 0.0 Number of Victim Fatalities\", \"February 4, 3.0 Number of Victim Fatalities\", \"April 29, 0.0 Number of Victim Fatalities\", \"May 23, 3.0 Number of Victim Fatalities\", \"May 6, 1.0 Number of Victim Fatalities\", \"August 6, 3.0 Number of Victim Fatalities\", \"June 29, 1.0 Number of Victim Fatalities\", \"August 8, 1.0 Number of Victim Fatalities\", \"October 24, 4.0 Number of Victim Fatalities\", \"November 19, 0.0 Number of Victim Fatalities\", \"February 20, 4.0 Number of Victim Fatalities\", \"December 30, 2.0 Number of Victim Fatalities\", \"January 29, 5.0 Number of Victim Fatalities\", \"December 15, 6.0 Number of Victim Fatalities\", \"January 1, 0.0 Number of Victim Fatalities\", \"October 1, 3.0 Number of Victim Fatalities\", \"January 24, 3.0 Number of Victim Fatalities\", \"January 28, 5.0 Number of Victim Fatalities\", \"January 24, 3.0 Number of Victim Fatalities\", \"October 2, 3.0 Number of Victim Fatalities\", \"July 2, 0.0 Number of Victim Fatalities\", \"September 2, 3.0 Number of Victim Fatalities\", \"February 26, 7.0 Number of Victim Fatalities\", \"January 12, 4.0 Number of Victim Fatalities\", \"July 2, 4.0 Number of Victim Fatalities\", \"January 2, 0.0 Number of Victim Fatalities\", \"February 22, 2.0 Number of Victim Fatalities\", \"February 22, 3.0 Number of Victim Fatalities\", \"February 24, 3.0 Number of Victim Fatalities\", \"February 27, 1.0 Number of Victim Fatalities\", \"February 28, 3.0 Number of Victim Fatalities\", \"March 13, 2.0 Number of Victim Fatalities\", \"March 15, 2.0 Number of Victim Fatalities\", \"March 18, 1.0 Number of Victim Fatalities\", \"March 19, 1.0 Number of Victim Fatalities\", \"March 28, 0.0 Number of Victim Fatalities\", \"March 30, 3.0 Number of Victim Fatalities\", \"March 4, 0.0 Number of Victim Fatalities\", \"May 4, 0.0 Number of Victim Fatalities\", \"July 4, 1.0 Number of Victim Fatalities\", \"April 16, 4.0 Number of Victim Fatalities\", \"April 21, 2.0 Number of Victim Fatalities\", \"April 25, 1.0 Number of Victim Fatalities\", \"January 5, 2.0 Number of Victim Fatalities\", \"March 5, 3.0 Number of Victim Fatalities\", \"December 5, 4.0 Number of Victim Fatalities\", \"May 25, 1.0 Number of Victim Fatalities\", \"May 31, 2.0 Number of Victim Fatalities\", \"May 31, 2.0 Number of Victim Fatalities\", \"July 6, 4.0 Number of Victim Fatalities\", \"June 17, 9.0 Number of Victim Fatalities\", \"June 20, 0.0 Number of Victim Fatalities\", \"October 5, 1.0 Number of Victim Fatalities\", \"June 16, 0.0 Number of Victim Fatalities\", \"December 7, 1.0 Number of Victim Fatalities\", \"July 16, 4.0 Number of Victim Fatalities\", \"July 22, 3.0 Number of Victim Fatalities\", \"July 23, 2.0 Number of Victim Fatalities\", \"August 8, 8.0 Number of Victim Fatalities\", \"August 19, 3.0 Number of Victim Fatalities\", \"August 26, 2.0 Number of Victim Fatalities\", \"August 29, 3.0 Number of Victim Fatalities\", \"October 9, 4.0 Number of Victim Fatalities\", \"September 17, 5.0 Number of Victim Fatalities\", \"January 10, 9.0 Number of Victim Fatalities\", \"September 10, 1.0 Number of Victim Fatalities\", \"April 2, 3.0 Number of Victim Fatalities\", \"September 27, 0.0 Number of Victim Fatalities\", \"October 21, 2.0 Number of Victim Fatalities\", \"October 31, 3.0 Number of Victim Fatalities\", \"April 11, 3.0 Number of Victim Fatalities\", \"January 10, 2.0 Number of Victim Fatalities\", \"July 11, 1.0 Number of Victim Fatalities\", \"November 13, 3.0 Number of Victim Fatalities\", \"November 15, 6.0 Number of Victim Fatalities\", \"November 23, 3.0 Number of Victim Fatalities\", \"November 23, 0.0 Number of Victim Fatalities\", \"November 27, 3.0 Number of Victim Fatalities\", \"February 12, 14.0 Number of Victim Fatalities\", \"June 12, 2.0 Number of Victim Fatalities\", \"January 27, 5.0 Number of Victim Fatalities\", \"July 2, 2.0 Number of Victim Fatalities\", \"February 20, 1.0 Number of Victim Fatalities\", \"February 20, 6.0 Number of Victim Fatalities\", \"February 23, 4.0 Number of Victim Fatalities\", \"February 25, 3.0 Number of Victim Fatalities\", \"February 26, 4.0 Number of Victim Fatalities\", \"February 27, 2.0 Number of Victim Fatalities\", \"June 3, 1.0 Number of Victim Fatalities\", \"July 3, 5.0 Number of Victim Fatalities\", \"September 3, 6.0 Number of Victim Fatalities\", \"March 19, 1.0 Number of Victim Fatalities\", \"March 20, 3.0 Number of Victim Fatalities\", \"March 21, 3.0 Number of Victim Fatalities\", \"March 25, 1.0 Number of Victim Fatalities\", \"March 26, 3.0 Number of Victim Fatalities\", \"March 31, 1.0 Number of Victim Fatalities\", \"June 1, 3.0 Number of Victim Fatalities\", \"July 1, 1.0 Number of Victim Fatalities\", \"November 1, 0.0 Number of Victim Fatalities\", \"January 17, 1.0 Number of Victim Fatalities\", \"January 23, 3.0 Number of Victim Fatalities\", \"January 23, 2.0 Number of Victim Fatalities\", \"January 25, 1.0 Number of Victim Fatalities\", \"January 27, 5.0 Number of Victim Fatalities\", \"January 29, 1.0 Number of Victim Fatalities\", \"January 30, 3.0 Number of Victim Fatalities\", \"January 31, 0.0 Number of Victim Fatalities\", \"June 2, 2.0 Number of Victim Fatalities\", \"June 2, 1.0 Number of Victim Fatalities\", \"June 2, 3.0 Number of Victim Fatalities\", \"July 2, 1.0 Number of Victim Fatalities\", \"September 2, 0.0 Number of Victim Fatalities\", \"February 19, 2.0 Number of Victim Fatalities\", \"February 20, 1.0 Number of Victim Fatalities\", \"February 20, 6.0 Number of Victim Fatalities\", \"February 21, 1.0 Number of Victim Fatalities\", \"February 21, 0.0 Number of Victim Fatalities\", \"February 23, 4.0 Number of Victim Fatalities\", \"February 25, 4.0 Number of Victim Fatalities\", \"February 28, 0.0 Number of Victim Fatalities\", \"February 28, 1.0 Number of Victim Fatalities\", \"May 3, 0.0 Number of Victim Fatalities\", \"June 3, 1.0 Number of Victim Fatalities\", \"June 3, 0.0 Number of Victim Fatalities\", \"July 3, 0.0 Number of Victim Fatalities\", \"July 3, 4.0 Number of Victim Fatalities\", \"September 3, 5.0 Number of Victim Fatalities\", \"November 3, 0.0 Number of Victim Fatalities\", \"November 3, 2.0 Number of Victim Fatalities\", \"December 3, 1.0 Number of Victim Fatalities\", \"March 13, 0.0 Number of Victim Fatalities\", \"March 15, 0.0 Number of Victim Fatalities\", \"March 19, 2.0 Number of Victim Fatalities\", \"March 19, 1.0 Number of Victim Fatalities\", \"March 20, 3.0 Number of Victim Fatalities\", \"March 21, 3.0 Number of Victim Fatalities\", \"March 25, 1.0 Number of Victim Fatalities\", \"January 4, 2.0 Number of Victim Fatalities\", \"July 4, 0.0 Number of Victim Fatalities\", \"September 4, 0.0 Number of Victim Fatalities\", \"September 4, 0.0 Number of Victim Fatalities\", \"April 18, 1.0 Number of Victim Fatalities\", \"April 19, 1.0 Number of Victim Fatalities\", \"April 19, 4.0 Number of Victim Fatalities\", \"April 19, 0.0 Number of Victim Fatalities\", \"April 21, 0.0 Number of Victim Fatalities\", \"April 24, 0.0 Number of Victim Fatalities\", \"April 26, 1.0 Number of Victim Fatalities\", \"April 29, 0.0 Number of Victim Fatalities\"]}], {\"geo\": {\"subunitcolor\": \"rgb(217, 217, 217)\", \"lakecolor\": \"rgb(255, 255, 255)\", \"showlakes\": true, \"countrycolor\": \"rgb(217, 217, 217)\", \"countrywidth\": 1, \"subunitwidth\": 1, \"showland\": true, \"projection\": {\"type\": \"albers usa\"}, \"landcolor\": \"rgb(250, 250, 250)\", \"scope\": \"usa\"}, \"title\": \"Shooting Fatalities by Latitude/Longitude in United States <br><sub>Hover to View Date and Fatalitiess</sub>\"}, {\"linkText\": \"Export to plot.ly\", \"showLink\": true})});</script>"
      ]
     },
     "metadata": {},
     "output_type": "display_data"
    }
   ],
   "source": [
    "data['text'] = data['Date'].dt.strftime('%B %-d') + ', ' + data['Number of Victim Fatalities'].astype(str) + ' Number of Victim Fatalities'\n",
    "\n",
    "data2 = [dict(\n",
    "        type = 'scattergeo',\n",
    "        locationmode = 'USA-states',\n",
    "        lon = data[data.Longitude < 0]['Longitude'],\n",
    "        lat = data[data.Longitude < 0]['Latitude'],\n",
    "        text = data[data.Longitude < 0]['text'],\n",
    "        mode = 'markers',\n",
    "        marker = dict( \n",
    "            size = data[data.Longitude < 0]['Number of Victim Fatalities'] ** 0.5 * 5,\n",
    "            opacity = 0.75,\n",
    "            color = 'rgb(215, 0, 0)')\n",
    "        )]\n",
    "\n",
    "layout = dict(\n",
    "         title = 'Shooting Fatalities by Latitude/Longitude in United States <br>'\n",
    "                 '<sub>Hover to View Date and Fatalitiess</sub>',\n",
    "         geo = dict(\n",
    "             scope = 'usa',\n",
    "             projection = dict(type = 'albers usa'),\n",
    "             showland = True,\n",
    "             landcolor = 'rgb(250, 250, 250)',\n",
    "             subunitwidth = 1,\n",
    "             subunitcolor = 'rgb(217, 217, 217)',\n",
    "             countrywidth = 1,\n",
    "             countrycolor = 'rgb(217, 217, 217)',\n",
    "             showlakes = True,\n",
    "             lakecolor = 'rgb(255, 255, 255)')\n",
    "         )\n",
    "\n",
    "plotly.offline.init_notebook_mode(connected = True)\n",
    "figure = dict(data = data2, layout = layout)\n",
    "plotly.offline.iplot(figure)"
   ]
  },
  {
   "cell_type": "code",
   "execution_count": 325,
   "metadata": {
    "collapsed": false
   },
   "outputs": [
    {
     "data": {
      "text/plain": [
       "<matplotlib.text.Text at 0x125d70160>"
      ]
     },
     "execution_count": 325,
     "metadata": {},
     "output_type": "execute_result"
    },
    {
     "data": {
      "image/png": "[encoded data removed]",
      "text/plain": [
       "<matplotlib.figure.Figure at 0x123200e80>"
      ]
     },
     "metadata": {},
     "output_type": "display_data"
    }
   ],
   "source": [
    "plt.figure(figsize=(12,8))\n",
    "sns.boxplot(x=\"Shooter Sex\", y=\"Total Number of Victims\", data=data)\n",
    "plt.ylabel('Total Victims', fontsize=12)\n",
    "plt.xlabel('Gender', fontsize=12)\n",
    "plt.xticks(rotation='vertical')\n",
    "plt.title(\"Victims targetted by Genders\", fontsize=15)\n"
   ]
  },
  {
   "cell_type": "markdown",
   "metadata": {},
   "source": [
    "The boxplot graph reveals that Male/Female are deadlier than just Male or Female mass shooters."
   ]
  },
  {
   "cell_type": "code",
   "execution_count": 326,
   "metadata": {
    "collapsed": false
   },
   "outputs": [
    {
     "data": {
      "text/html": [
       "<div>\n",
       "<style>\n",
       "    .dataframe thead tr:only-child th {\n",
       "        text-align: right;\n",
       "    }\n",
       "\n",
       "    .dataframe thead th {\n",
       "        text-align: left;\n",
       "    }\n",
       "\n",
       "    .dataframe tbody tr th {\n",
       "        vertical-align: top;\n",
       "    }\n",
       "</style>\n",
       "<table border=\"1\" class=\"dataframe\">\n",
       "  <thead>\n",
       "    <tr style=\"text-align: right;\">\n",
       "      <th></th>\n",
       "      <th>Shooter Race</th>\n",
       "      <th>History of Mental Illness - General</th>\n",
       "      <th>State</th>\n",
       "      <th>City</th>\n",
       "      <th>Total Number of Victims</th>\n",
       "    </tr>\n",
       "  </thead>\n",
       "  <tbody>\n",
       "    <tr>\n",
       "      <th>104</th>\n",
       "      <td>White</td>\n",
       "      <td>No</td>\n",
       "      <td>Washington</td>\n",
       "      <td>Carnation</td>\n",
       "      <td>6.0</td>\n",
       "    </tr>\n",
       "    <tr>\n",
       "      <th>162</th>\n",
       "      <td>White</td>\n",
       "      <td>No</td>\n",
       "      <td>Nevada</td>\n",
       "      <td>Las Vegas</td>\n",
       "      <td>3.0</td>\n",
       "    </tr>\n",
       "    <tr>\n",
       "      <th>178</th>\n",
       "      <td>White</td>\n",
       "      <td>No</td>\n",
       "      <td>Florida</td>\n",
       "      <td>New Port Richey</td>\n",
       "      <td>4.0</td>\n",
       "    </tr>\n",
       "    <tr>\n",
       "      <th>235</th>\n",
       "      <td>Asian</td>\n",
       "      <td>Unknown</td>\n",
       "      <td>California</td>\n",
       "      <td>San Bernardino</td>\n",
       "      <td>35.0</td>\n",
       "    </tr>\n",
       "  </tbody>\n",
       "</table>\n",
       "</div>"
      ],
      "text/plain": [
       "    Shooter Race History of Mental Illness - General       State  \\\n",
       "104        White                                  No  Washington   \n",
       "162        White                                  No      Nevada   \n",
       "178        White                                  No     Florida   \n",
       "235        Asian                             Unknown  California   \n",
       "\n",
       "                City  Total Number of Victims  \n",
       "104        Carnation                      6.0  \n",
       "162        Las Vegas                      3.0  \n",
       "178  New Port Richey                      4.0  \n",
       "235   San Bernardino                     35.0  "
      ]
     },
     "execution_count": 326,
     "metadata": {},
     "output_type": "execute_result"
    }
   ],
   "source": [
    "data[data['Shooter Sex'] == \"Male with Female\"][['Shooter Race', 'History of Mental Illness - General', 'State','City', \n",
    "                                            'Total Number of Victims']]"
   ]
  },
  {
   "cell_type": "code",
   "execution_count": 327,
   "metadata": {
    "collapsed": false
   },
   "outputs": [
    {
     "data": {
      "text/plain": [
       "<matplotlib.text.Text at 0x125d96a58>"
      ]
     },
     "execution_count": 327,
     "metadata": {},
     "output_type": "execute_result"
    },
    {
     "data": {
      "image/png": "[encoded data removed]",
      "text/plain": [
       "<matplotlib.figure.Figure at 0x122129dd8>"
      ]
     },
     "metadata": {},
     "output_type": "display_data"
    }
   ],
   "source": [
    "plt.figure(figsize=(12,8))\n",
    "sns.boxplot(x=\"Shooter Race\", y=\"Total Number of Victims\", data=data)\n",
    "plt.ylabel('Total Victims', fontsize=12)\n",
    "plt.xlabel('Race', fontsize=12)\n",
    "plt.xticks(rotation='vertical')\n",
    "plt.title(\"Victims Targetted by Races\", fontsize=15)"
   ]
  },
  {
   "cell_type": "code",
   "execution_count": 262,
   "metadata": {
    "collapsed": false
   },
   "outputs": [
    {
     "data": {
      "image/png": "[encoded data removed]",
      "text/plain": [
       "<matplotlib.figure.Figure at 0x125da6160>"
      ]
     },
     "metadata": {},
     "output_type": "display_data"
    }
   ],
   "source": [
    "#Type of Gun - General - pie chart\n",
    "guns = list(data['Type of Gun - General'])\n",
    "states = list(data['State'])\n",
    "data_guns = data[data['Type of Gun - General'] == guns][['Shooter Race','Type of Gun - General','Average Shooter Age','State', 'City','Place Type', 'Total Number of Victims']]\n",
    "data_guns = data_guns.dropna()\n",
    "#data_guns['Type of Gun - General'].describe()\n",
    "\n",
    "a = data_guns.groupby('Type of Gun - General').size()\n",
    "attacks = list(a)\n",
    "r = data_guns['Type of Gun - General'].unique()\n",
    "r = list(r)\n",
    "a2 = pd.DataFrame()\n",
    "a2 = pd.DataFrame({\"Guns\": [r[0], r[1] , r[2], r[3]], \"Attacks\": [attacks[1], attacks[0], attacks[2], attacks[3]]})\n",
    "\n",
    "# Create a list of colors (from iWantHue)\n",
    "colors = [\"#E13F29\", \"#D69A80\", \"#D63B59\", \"#AE5552\", \"#CB5C3B\", \"#EB8076\", \"#96624E\"]\n",
    "\n",
    "# Create a pie chart\n",
    "plt.pie(\n",
    "\n",
    "   a2['Attacks'],\n",
    "\n",
    "   labels=a2['Guns'],\n",
    "   # with no shadows\n",
    "   shadow=False,\n",
    "   # with colors\n",
    "   colors=colors,\n",
    "   # with one slide exploded out\n",
    "   #explode=(0, 0, 0.15),\n",
    "   # with the start angle at 90%\n",
    "   startangle=90,\n",
    "   # with the percent listed as a fraction\n",
    "   autopct='%1.1f%%',\n",
    "   )\n",
    "\n",
    "# View the plot drop above\n",
    "plt.axis('equal')\n",
    "\n",
    "# View the plot\n",
    "plt.tight_layout()\n",
    "plt.show()"
   ]
  },
  {
   "cell_type": "markdown",
   "metadata": {},
   "source": [
    "## Part - III Model Building"
   ]
  },
  {
   "cell_type": "markdown",
   "metadata": {},
   "source": [
    "### Finding correlation between attacks and gun applications (year-wise)"
   ]
  },
  {
   "cell_type": "code",
   "execution_count": 237,
   "metadata": {
    "collapsed": false
   },
   "outputs": [],
   "source": [
    "#Loading the firearm/gun applications dataset\n",
    "guns_appl = pd.read_csv('firearm_applications.csv')\n",
    "\n",
    "#Preparing the attacks by year dataset -> s_dates\n",
    "p = data.groupby('Year').size()\n",
    "p = list(p)\n",
    "q = data['Year'].unique()\n",
    "q = list(q)\n",
    "data_g = pd.DataFrame({\"Year\": q, \"Attacks\": p})\n",
    "s_dates = pd.DataFrame(data_g)\n",
    "cols = ['Year', 'Attacks']\n",
    "\n",
    "#Shootings incidents aka Attacks by year dataset -> s_dates\n",
    "s_dates = s_dates[cols]\n",
    "\n",
    "\n",
    "#Gun applications aka Firearm Applications by year dataset -> h_dates\n",
    "h_dates = pd.DataFrame(guns_appl)\n",
    "\n",
    "#Merging the two on 'Year'\n",
    "new_dates = pd.merge(s_dates, h_dates, on=\"Year\")\n",
    "\n",
    "#new_dates.head()\n",
    "\n",
    "\n",
    "#Finding the Correlation\n",
    "#new_dates['Attacks'].corr(new_dates['Firearm Applications’])\n"
   ]
  },
  {
   "cell_type": "markdown",
   "metadata": {},
   "source": [
    "Let's find the correlation between the number of attacks versus the number of Firearm Applications."
   ]
  },
  {
   "cell_type": "code",
   "execution_count": 238,
   "metadata": {
    "collapsed": false
   },
   "outputs": [
    {
     "data": {
      "text/plain": [
       "0.71482881622545946"
      ]
     },
     "execution_count": 238,
     "metadata": {},
     "output_type": "execute_result"
    }
   ],
   "source": [
    "x = new_dates['Attacks']\n",
    "y = new_dates['Firearm Applications']\n",
    "\n",
    "x.corr(y)"
   ]
  },
  {
   "cell_type": "markdown",
   "metadata": {},
   "source": [
    "Let's try to derive number of Firearm Approvals from Firearm Applications. According to Federal Bureau of Investigation, roughly 66 out of 100 applicants get their firearm application approved."
   ]
  },
  {
   "cell_type": "code",
   "execution_count": 252,
   "metadata": {
    "collapsed": false,
    "scrolled": true
   },
   "outputs": [
    {
     "data": {
      "text/html": [
       "<div>\n",
       "<style>\n",
       "    .dataframe thead tr:only-child th {\n",
       "        text-align: right;\n",
       "    }\n",
       "\n",
       "    .dataframe thead th {\n",
       "        text-align: left;\n",
       "    }\n",
       "\n",
       "    .dataframe tbody tr th {\n",
       "        vertical-align: top;\n",
       "    }\n",
       "</style>\n",
       "<table border=\"1\" class=\"dataframe\">\n",
       "  <thead>\n",
       "    <tr style=\"text-align: right;\">\n",
       "      <th></th>\n",
       "      <th>Year</th>\n",
       "      <th>Attacks</th>\n",
       "      <th>Firearm Applications</th>\n",
       "      <th>Firearm_Approvals</th>\n",
       "    </tr>\n",
       "  </thead>\n",
       "  <tbody>\n",
       "    <tr>\n",
       "      <th>Year</th>\n",
       "      <td>1.000000</td>\n",
       "      <td>0.605640</td>\n",
       "      <td>0.940493</td>\n",
       "      <td>0.940493</td>\n",
       "    </tr>\n",
       "    <tr>\n",
       "      <th>Attacks</th>\n",
       "      <td>0.605640</td>\n",
       "      <td>1.000000</td>\n",
       "      <td>0.714829</td>\n",
       "      <td>0.714829</td>\n",
       "    </tr>\n",
       "    <tr>\n",
       "      <th>Firearm Applications</th>\n",
       "      <td>0.940493</td>\n",
       "      <td>0.714829</td>\n",
       "      <td>1.000000</td>\n",
       "      <td>1.000000</td>\n",
       "    </tr>\n",
       "    <tr>\n",
       "      <th>Firearm_Approvals</th>\n",
       "      <td>0.940493</td>\n",
       "      <td>0.714829</td>\n",
       "      <td>1.000000</td>\n",
       "      <td>1.000000</td>\n",
       "    </tr>\n",
       "  </tbody>\n",
       "</table>\n",
       "</div>"
      ],
      "text/plain": [
       "                          Year   Attacks  Firearm Applications  \\\n",
       "Year                  1.000000  0.605640              0.940493   \n",
       "Attacks               0.605640  1.000000              0.714829   \n",
       "Firearm Applications  0.940493  0.714829              1.000000   \n",
       "Firearm_Approvals     0.940493  0.714829              1.000000   \n",
       "\n",
       "                      Firearm_Approvals  \n",
       "Year                           0.940493  \n",
       "Attacks                        0.714829  \n",
       "Firearm Applications           1.000000  \n",
       "Firearm_Approvals              1.000000  "
      ]
     },
     "execution_count": 252,
     "metadata": {},
     "output_type": "execute_result"
    }
   ],
   "source": [
    "#plt.scatter(scatterdata.Year, scatterdata['Number of Incidents'])\n",
    "#plt.scatter(x, y)\n",
    "#plt.scatter(new_dates.Year, x, c = 'r')\n",
    "Firearm_Approvals = []\n",
    "for i in new_dates['Firearm Applications']:\n",
    "    Firearm_Approvals.append(int(0.66 * i))\n",
    "\n",
    "new_dates['Firearm_Approvals'] = Firearm_Approvals\n",
    "#new_dates\n",
    "new_dates.corr()"
   ]
  },
  {
   "cell_type": "markdown",
   "metadata": {},
   "source": [
    "Let's see how statistically significant are the above correlations. We will use the t-test and p-test to determine that.\n",
    " <br> Null hypothesis: No correlation between the above variables <br/> <br> Alternate hypothesis: Significant correlation between the above variables <br /> <br> We reject the null hypothesis if our p-value < 0.05 and reject the alternate hypothesis if our p-value > 0.05"
   ]
  },
  {
   "cell_type": "code",
   "execution_count": 257,
   "metadata": {
    "collapsed": false
   },
   "outputs": [
    {
     "name": "stdout",
     "output_type": "stream",
     "text": [
      "t1 = 420.737334653\n",
      "p1 = 9.31756941601e-68\n",
      "t2 = -8.78918352948\n",
      "p2 = 3.47110475002e-10\n",
      "t3 = -8.79117739382\n",
      "p3 = 3.45159216586e-10\n"
     ]
    }
   ],
   "source": [
    "from scipy import stats\n",
    "\n",
    "t1, p1 = stats.ttest_ind(new_dates.Year,new_dates.Attacks)\n",
    "print(\"t1 = \" + str(t1))\n",
    "print(\"p1 = \" + str(2*p1))\n",
    "\n",
    "t2, p2 = stats.ttest_ind(new_dates.Year,new_dates.Firearm_Approvals)\n",
    "print(\"t2 = \" + str(t2))\n",
    "print(\"p2 = \" + str(2*p2))\n",
    "\n",
    "t3, p3 = stats.ttest_ind(new_dates.Attacks,new_dates.Firearm_Approvals)\n",
    "print(\"t3 = \" + str(t3))\n",
    "print(\"p3 = \" + str(2*p3))"
   ]
  },
  {
   "cell_type": "markdown",
   "metadata": {},
   "source": [
    "All the three correlations can be accepted as their p-values < 0.05."
   ]
  },
  {
   "cell_type": "markdown",
   "metadata": {},
   "source": [
    "Visualizing the correlations via a correlation matrix."
   ]
  },
  {
   "cell_type": "code",
   "execution_count": 261,
   "metadata": {
    "collapsed": false
   },
   "outputs": [
    {
     "data": {
      "image/png": "[encoded data removed]",
      "text/plain": [
       "<matplotlib.figure.Figure at 0x125fdc9e8>"
      ]
     },
     "metadata": {},
     "output_type": "display_data"
    }
   ],
   "source": [
    "plt.matshow(new_dates.corr())\n",
    "plt.xticks(range(len(new_dates.columns)), new_dates.columns)\n",
    "plt.yticks(range(len(new_dates.columns)), new_dates.columns)\n",
    "plt.colorbar()\n",
    "plt.show()"
   ]
  },
  {
   "cell_type": "markdown",
   "metadata": {},
   "source": [
    "### Decision Tree Model"
   ]
  },
  {
   "cell_type": "markdown",
   "metadata": {},
   "source": [
    "Let's build a decision tree model to predict whether the shooting will occur on a weekend or not. <br />\n",
    "<br /> <b>Target Variable:</b> Weekend\n",
    "<br /> <b>Predictor Variables:</b> shown by df.columns below (excluding Date, Year, Month)"
   ]
  },
  {
   "cell_type": "code",
   "execution_count": 200,
   "metadata": {
    "collapsed": false
   },
   "outputs": [],
   "source": [
    "df = data.drop(['Title', 'Description', 'Shooter Age(s)', 'Type of Gun - Detailed', \n",
    "               'text', 'Shooter Name', 'Day of Week', 'Day'], axis = 1)\n",
    "\n"
   ]
  },
  {
   "cell_type": "code",
   "execution_count": 201,
   "metadata": {
    "collapsed": false
   },
   "outputs": [
    {
     "data": {
      "text/plain": [
       "Index(['City', 'State', 'Latitude', 'Longitude', 'Number of Victim Fatalities',\n",
       "       'Total Number of Fatalities', 'Number of Victims Injured',\n",
       "       'Total Number of Victims', 'Date', 'Average Shooter Age', 'Shooter Sex',\n",
       "       'Shooter Race', 'Type of Gun - General', 'Number of Shotguns',\n",
       "       'Number of Rifles', 'Number of Handguns', 'Total Number of Guns',\n",
       "       'Number of Automatic Guns', 'Number of Semi-Automatic Guns',\n",
       "       'Fate of Shooter at the scene', 'Shooter's Cause of Death',\n",
       "       'School Related', 'Place Type', 'Relationship to Incident Location',\n",
       "       'Targeted Victim/s - General', 'Possible Motive - General',\n",
       "       'History of Mental Illness - General', 'Military Experience', 'Class',\n",
       "       'Year', 'Month', 'on_holidays', 'Weekend'],\n",
       "      dtype='object')"
      ]
     },
     "execution_count": 201,
     "metadata": {},
     "output_type": "execute_result"
    }
   ],
   "source": [
    "df.columns"
   ]
  },
  {
   "cell_type": "code",
   "execution_count": 202,
   "metadata": {
    "collapsed": false,
    "scrolled": true
   },
   "outputs": [
    {
     "name": "stdout",
     "output_type": "stream",
     "text": [
      "<class 'pandas.core.frame.DataFrame'>\n",
      "Int64Index: 307 entries, 0 to 306\n",
      "Data columns (total 33 columns):\n",
      "City                                   307 non-null category\n",
      "State                                  307 non-null category\n",
      "Latitude                               307 non-null float64\n",
      "Longitude                              307 non-null float64\n",
      "Number of Victim Fatalities            307 non-null float64\n",
      "Total Number of Fatalities             307 non-null float64\n",
      "Number of Victims Injured              307 non-null float64\n",
      "Total Number of Victims                307 non-null float64\n",
      "Date                                   307 non-null datetime64[ns]\n",
      "Average Shooter Age                    307 non-null float64\n",
      "Shooter Sex                            307 non-null category\n",
      "Shooter Race                           307 non-null category\n",
      "Type of Gun - General                  307 non-null category\n",
      "Number of Shotguns                     307 non-null float64\n",
      "Number of Rifles                       307 non-null float64\n",
      "Number of Handguns                     307 non-null float64\n",
      "Total Number of Guns                   307 non-null float64\n",
      "Number of Automatic Guns               307 non-null float64\n",
      "Number of Semi-Automatic Guns          307 non-null float64\n",
      "Fate of Shooter at the scene           307 non-null category\n",
      "Shooter's Cause of Death               307 non-null category\n",
      "School Related                         307 non-null category\n",
      "Place Type                             307 non-null category\n",
      "Relationship to Incident Location      307 non-null category\n",
      "Targeted Victim/s - General            307 non-null category\n",
      "Possible Motive - General              307 non-null category\n",
      "History of Mental Illness - General    307 non-null category\n",
      "Military Experience                    307 non-null category\n",
      "Class                                  307 non-null category\n",
      "Year                                   307 non-null int64\n",
      "Month                                  307 non-null int64\n",
      "on_holidays                            307 non-null int64\n",
      "Weekend                                307 non-null int64\n",
      "dtypes: category(15), datetime64[ns](1), float64(13), int64(4)\n",
      "memory usage: 76.5 KB\n"
     ]
    }
   ],
   "source": [
    "df.info()"
   ]
  },
  {
   "cell_type": "code",
   "execution_count": 203,
   "metadata": {
    "collapsed": false
   },
   "outputs": [
    {
     "data": {
      "text/html": [
       "<div>\n",
       "<style>\n",
       "    .dataframe thead tr:only-child th {\n",
       "        text-align: right;\n",
       "    }\n",
       "\n",
       "    .dataframe thead th {\n",
       "        text-align: left;\n",
       "    }\n",
       "\n",
       "    .dataframe tbody tr th {\n",
       "        vertical-align: top;\n",
       "    }\n",
       "</style>\n",
       "<table border=\"1\" class=\"dataframe\">\n",
       "  <thead>\n",
       "    <tr style=\"text-align: right;\">\n",
       "      <th></th>\n",
       "      <th>Latitude</th>\n",
       "      <th>Longitude</th>\n",
       "      <th>Number of Victim Fatalities</th>\n",
       "      <th>Total Number of Fatalities</th>\n",
       "      <th>Number of Victims Injured</th>\n",
       "      <th>Total Number of Victims</th>\n",
       "      <th>Average Shooter Age</th>\n",
       "      <th>Number of Shotguns</th>\n",
       "      <th>Number of Rifles</th>\n",
       "      <th>Number of Handguns</th>\n",
       "      <th>Total Number of Guns</th>\n",
       "      <th>Number of Automatic Guns</th>\n",
       "      <th>Number of Semi-Automatic Guns</th>\n",
       "      <th>Year</th>\n",
       "      <th>Month</th>\n",
       "      <th>on_holidays</th>\n",
       "      <th>Weekend</th>\n",
       "    </tr>\n",
       "  </thead>\n",
       "  <tbody>\n",
       "    <tr>\n",
       "      <th>0</th>\n",
       "      <td>30.198887</td>\n",
       "      <td>-97.844159</td>\n",
       "      <td>16.0</td>\n",
       "      <td>17.0</td>\n",
       "      <td>32.0</td>\n",
       "      <td>48.0</td>\n",
       "      <td>25.0</td>\n",
       "      <td>1.0</td>\n",
       "      <td>3.0</td>\n",
       "      <td>3.0</td>\n",
       "      <td>7.0</td>\n",
       "      <td>0.0</td>\n",
       "      <td>1.0</td>\n",
       "      <td>1966</td>\n",
       "      <td>1</td>\n",
       "      <td>0</td>\n",
       "      <td>0</td>\n",
       "    </tr>\n",
       "    <tr>\n",
       "      <th>1</th>\n",
       "      <td>33.422687</td>\n",
       "      <td>-111.816320</td>\n",
       "      <td>5.0</td>\n",
       "      <td>5.0</td>\n",
       "      <td>1.0</td>\n",
       "      <td>6.0</td>\n",
       "      <td>18.0</td>\n",
       "      <td>0.0</td>\n",
       "      <td>0.0</td>\n",
       "      <td>1.0</td>\n",
       "      <td>1.0</td>\n",
       "      <td>0.0</td>\n",
       "      <td>0.0</td>\n",
       "      <td>1966</td>\n",
       "      <td>12</td>\n",
       "      <td>0</td>\n",
       "      <td>1</td>\n",
       "    </tr>\n",
       "    <tr>\n",
       "      <th>2</th>\n",
       "      <td>30.068724</td>\n",
       "      <td>-89.931474</td>\n",
       "      <td>9.0</td>\n",
       "      <td>10.0</td>\n",
       "      <td>13.0</td>\n",
       "      <td>22.0</td>\n",
       "      <td>23.0</td>\n",
       "      <td>0.0</td>\n",
       "      <td>1.0</td>\n",
       "      <td>1.0</td>\n",
       "      <td>2.0</td>\n",
       "      <td>0.0</td>\n",
       "      <td>1.0</td>\n",
       "      <td>1972</td>\n",
       "      <td>12</td>\n",
       "      <td>0</td>\n",
       "      <td>1</td>\n",
       "    </tr>\n",
       "    <tr>\n",
       "      <th>3</th>\n",
       "      <td>41.839280</td>\n",
       "      <td>-87.688181</td>\n",
       "      <td>1.0</td>\n",
       "      <td>1.0</td>\n",
       "      <td>3.0</td>\n",
       "      <td>4.0</td>\n",
       "      <td>14.0</td>\n",
       "      <td>0.0</td>\n",
       "      <td>0.0</td>\n",
       "      <td>2.0</td>\n",
       "      <td>2.0</td>\n",
       "      <td>0.0</td>\n",
       "      <td>0.0</td>\n",
       "      <td>1974</td>\n",
       "      <td>1</td>\n",
       "      <td>0</td>\n",
       "      <td>0</td>\n",
       "    </tr>\n",
       "    <tr>\n",
       "      <th>4</th>\n",
       "      <td>42.081854</td>\n",
       "      <td>-78.432139</td>\n",
       "      <td>3.0</td>\n",
       "      <td>3.0</td>\n",
       "      <td>7.0</td>\n",
       "      <td>10.0</td>\n",
       "      <td>17.0</td>\n",
       "      <td>1.0</td>\n",
       "      <td>1.0</td>\n",
       "      <td>0.0</td>\n",
       "      <td>2.0</td>\n",
       "      <td>0.0</td>\n",
       "      <td>0.0</td>\n",
       "      <td>1974</td>\n",
       "      <td>12</td>\n",
       "      <td>0</td>\n",
       "      <td>0</td>\n",
       "    </tr>\n",
       "  </tbody>\n",
       "</table>\n",
       "</div>"
      ],
      "text/plain": [
       "    Latitude   Longitude  Number of Victim Fatalities  \\\n",
       "0  30.198887  -97.844159                         16.0   \n",
       "1  33.422687 -111.816320                          5.0   \n",
       "2  30.068724  -89.931474                          9.0   \n",
       "3  41.839280  -87.688181                          1.0   \n",
       "4  42.081854  -78.432139                          3.0   \n",
       "\n",
       "   Total Number of Fatalities  Number of Victims Injured  \\\n",
       "0                        17.0                       32.0   \n",
       "1                         5.0                        1.0   \n",
       "2                        10.0                       13.0   \n",
       "3                         1.0                        3.0   \n",
       "4                         3.0                        7.0   \n",
       "\n",
       "   Total Number of Victims  Average Shooter Age  Number of Shotguns  \\\n",
       "0                     48.0                 25.0                 1.0   \n",
       "1                      6.0                 18.0                 0.0   \n",
       "2                     22.0                 23.0                 0.0   \n",
       "3                      4.0                 14.0                 0.0   \n",
       "4                     10.0                 17.0                 1.0   \n",
       "\n",
       "   Number of Rifles  Number of Handguns  Total Number of Guns  \\\n",
       "0               3.0                 3.0                   7.0   \n",
       "1               0.0                 1.0                   1.0   \n",
       "2               1.0                 1.0                   2.0   \n",
       "3               0.0                 2.0                   2.0   \n",
       "4               1.0                 0.0                   2.0   \n",
       "\n",
       "   Number of Automatic Guns  Number of Semi-Automatic Guns  Year  Month  \\\n",
       "0                       0.0                            1.0  1966      1   \n",
       "1                       0.0                            0.0  1966     12   \n",
       "2                       0.0                            1.0  1972     12   \n",
       "3                       0.0                            0.0  1974      1   \n",
       "4                       0.0                            0.0  1974     12   \n",
       "\n",
       "   on_holidays  Weekend  \n",
       "0            0        0  \n",
       "1            0        1  \n",
       "2            0        1  \n",
       "3            0        0  \n",
       "4            0        0  "
      ]
     },
     "execution_count": 203,
     "metadata": {},
     "output_type": "execute_result"
    }
   ],
   "source": [
    "\n",
    "df_numeric = df.select_dtypes(include = ['float64', 'int64'])\n",
    "\n",
    "df_numeric.head()"
   ]
  },
  {
   "cell_type": "code",
   "execution_count": 204,
   "metadata": {
    "collapsed": false
   },
   "outputs": [
    {
     "data": {
      "text/html": [
       "<div>\n",
       "<style>\n",
       "    .dataframe thead tr:only-child th {\n",
       "        text-align: right;\n",
       "    }\n",
       "\n",
       "    .dataframe thead th {\n",
       "        text-align: left;\n",
       "    }\n",
       "\n",
       "    .dataframe tbody tr th {\n",
       "        vertical-align: top;\n",
       "    }\n",
       "</style>\n",
       "<table border=\"1\" class=\"dataframe\">\n",
       "  <thead>\n",
       "    <tr style=\"text-align: right;\">\n",
       "      <th></th>\n",
       "      <th>City</th>\n",
       "      <th>State</th>\n",
       "      <th>Shooter Sex</th>\n",
       "      <th>Shooter Race</th>\n",
       "      <th>Type of Gun - General</th>\n",
       "      <th>Fate of Shooter at the scene</th>\n",
       "      <th>Shooter's Cause of Death</th>\n",
       "      <th>School Related</th>\n",
       "      <th>Place Type</th>\n",
       "      <th>Relationship to Incident Location</th>\n",
       "      <th>Targeted Victim/s - General</th>\n",
       "      <th>Possible Motive - General</th>\n",
       "      <th>History of Mental Illness - General</th>\n",
       "      <th>Military Experience</th>\n",
       "      <th>Class</th>\n",
       "    </tr>\n",
       "  </thead>\n",
       "  <tbody>\n",
       "    <tr>\n",
       "      <th>0</th>\n",
       "      <td>Austin</td>\n",
       "      <td>Texas</td>\n",
       "      <td>Male</td>\n",
       "      <td>White</td>\n",
       "      <td>Multiple Guns</td>\n",
       "      <td>Deceased</td>\n",
       "      <td>Killed</td>\n",
       "      <td>Yes</td>\n",
       "      <td>Educational</td>\n",
       "      <td>Schooling</td>\n",
       "      <td>General Public</td>\n",
       "      <td>Personal Problems</td>\n",
       "      <td>Yes</td>\n",
       "      <td>Yes</td>\n",
       "      <td>SPK</td>\n",
       "    </tr>\n",
       "    <tr>\n",
       "      <th>1</th>\n",
       "      <td>Mesa</td>\n",
       "      <td>Arizona</td>\n",
       "      <td>Male</td>\n",
       "      <td>White</td>\n",
       "      <td>Handgun</td>\n",
       "      <td>Arrested</td>\n",
       "      <td>Not Applicable</td>\n",
       "      <td>Yes</td>\n",
       "      <td>Educational</td>\n",
       "      <td>None</td>\n",
       "      <td>School Related</td>\n",
       "      <td>Personal Problems</td>\n",
       "      <td>Yes</td>\n",
       "      <td>Unknown</td>\n",
       "      <td>MS</td>\n",
       "    </tr>\n",
       "    <tr>\n",
       "      <th>2</th>\n",
       "      <td>New Orleans</td>\n",
       "      <td>Louisiana</td>\n",
       "      <td>Male</td>\n",
       "      <td>Black</td>\n",
       "      <td>Multiple Guns</td>\n",
       "      <td>Deceased</td>\n",
       "      <td>Killed</td>\n",
       "      <td>No</td>\n",
       "      <td>Government Facility</td>\n",
       "      <td>Government Facility</td>\n",
       "      <td>Government Related</td>\n",
       "      <td>Targeting a Specific Group</td>\n",
       "      <td>Yes</td>\n",
       "      <td>Unknown</td>\n",
       "      <td>SPK</td>\n",
       "    </tr>\n",
       "    <tr>\n",
       "      <th>3</th>\n",
       "      <td>Chicago</td>\n",
       "      <td>Illinois</td>\n",
       "      <td>Male</td>\n",
       "      <td>Unknown</td>\n",
       "      <td>Handgun</td>\n",
       "      <td>Arrested</td>\n",
       "      <td>Not Applicable</td>\n",
       "      <td>Yes</td>\n",
       "      <td>Educational</td>\n",
       "      <td>Schooling</td>\n",
       "      <td>School Related</td>\n",
       "      <td>General Rejection</td>\n",
       "      <td>Yes</td>\n",
       "      <td>Unknown</td>\n",
       "      <td>MS</td>\n",
       "    </tr>\n",
       "    <tr>\n",
       "      <th>4</th>\n",
       "      <td>Olean</td>\n",
       "      <td>New York</td>\n",
       "      <td>Male</td>\n",
       "      <td>White</td>\n",
       "      <td>Multiple Guns</td>\n",
       "      <td>Arrested</td>\n",
       "      <td>Not Applicable</td>\n",
       "      <td>Yes</td>\n",
       "      <td>Educational</td>\n",
       "      <td>Schooling</td>\n",
       "      <td>General Public</td>\n",
       "      <td>Personal Problems</td>\n",
       "      <td>No</td>\n",
       "      <td>Unknown</td>\n",
       "      <td>MS</td>\n",
       "    </tr>\n",
       "  </tbody>\n",
       "</table>\n",
       "</div>"
      ],
      "text/plain": [
       "          City      State Shooter Sex Shooter Race Type of Gun - General  \\\n",
       "0       Austin      Texas        Male        White         Multiple Guns   \n",
       "1         Mesa    Arizona        Male        White               Handgun   \n",
       "2  New Orleans  Louisiana        Male        Black         Multiple Guns   \n",
       "3      Chicago   Illinois        Male      Unknown               Handgun   \n",
       "4        Olean   New York        Male        White         Multiple Guns   \n",
       "\n",
       "  Fate of Shooter at the scene Shooter's Cause of Death School Related  \\\n",
       "0                     Deceased                   Killed            Yes   \n",
       "1                     Arrested           Not Applicable            Yes   \n",
       "2                     Deceased                   Killed             No   \n",
       "3                     Arrested           Not Applicable            Yes   \n",
       "4                     Arrested           Not Applicable            Yes   \n",
       "\n",
       "            Place Type Relationship to Incident Location  \\\n",
       "0          Educational                         Schooling   \n",
       "1          Educational                              None   \n",
       "2  Government Facility               Government Facility   \n",
       "3          Educational                         Schooling   \n",
       "4          Educational                         Schooling   \n",
       "\n",
       "  Targeted Victim/s - General   Possible Motive - General  \\\n",
       "0              General Public           Personal Problems   \n",
       "1              School Related           Personal Problems   \n",
       "2          Government Related  Targeting a Specific Group   \n",
       "3              School Related           General Rejection   \n",
       "4              General Public           Personal Problems   \n",
       "\n",
       "  History of Mental Illness - General Military Experience Class  \n",
       "0                                 Yes                 Yes   SPK  \n",
       "1                                 Yes             Unknown    MS  \n",
       "2                                 Yes             Unknown   SPK  \n",
       "3                                 Yes             Unknown    MS  \n",
       "4                                  No             Unknown    MS  "
      ]
     },
     "execution_count": 204,
     "metadata": {},
     "output_type": "execute_result"
    }
   ],
   "source": [
    "df_categorical = df.select_dtypes(include = ['category'])\n",
    "\n",
    "df_categorical.head()"
   ]
  },
  {
   "cell_type": "markdown",
   "metadata": {},
   "source": [
    "Generating dummy variables for Categorical Columns"
   ]
  },
  {
   "cell_type": "code",
   "execution_count": 205,
   "metadata": {
    "collapsed": false
   },
   "outputs": [
    {
     "data": {
      "text/html": [
       "<div>\n",
       "<style>\n",
       "    .dataframe thead tr:only-child th {\n",
       "        text-align: right;\n",
       "    }\n",
       "\n",
       "    .dataframe thead th {\n",
       "        text-align: left;\n",
       "    }\n",
       "\n",
       "    .dataframe tbody tr th {\n",
       "        vertical-align: top;\n",
       "    }\n",
       "</style>\n",
       "<table border=\"1\" class=\"dataframe\">\n",
       "  <thead>\n",
       "    <tr style=\"text-align: right;\">\n",
       "      <th></th>\n",
       "      <th>City_Aiken</th>\n",
       "      <th>City_Albuquerque</th>\n",
       "      <th>City_Alturas</th>\n",
       "      <th>City_Amarillo</th>\n",
       "      <th>City_Arvada</th>\n",
       "      <th>City_Atlanta</th>\n",
       "      <th>City_Auburn</th>\n",
       "      <th>City_Aurora</th>\n",
       "      <th>City_Austin</th>\n",
       "      <th>City_Baltimore</th>\n",
       "      <th>...</th>\n",
       "      <th>History of Mental Illness - General_No</th>\n",
       "      <th>History of Mental Illness - General_Unknown</th>\n",
       "      <th>History of Mental Illness - General_Yes</th>\n",
       "      <th>Military Experience_No</th>\n",
       "      <th>Military Experience_Unknown</th>\n",
       "      <th>Military Experience_Yes</th>\n",
       "      <th>Class_FMS</th>\n",
       "      <th>Class_GD</th>\n",
       "      <th>Class_MS</th>\n",
       "      <th>Class_SPK</th>\n",
       "    </tr>\n",
       "  </thead>\n",
       "  <tbody>\n",
       "    <tr>\n",
       "      <th>0</th>\n",
       "      <td>0</td>\n",
       "      <td>0</td>\n",
       "      <td>0</td>\n",
       "      <td>0</td>\n",
       "      <td>0</td>\n",
       "      <td>0</td>\n",
       "      <td>0</td>\n",
       "      <td>0</td>\n",
       "      <td>1</td>\n",
       "      <td>0</td>\n",
       "      <td>...</td>\n",
       "      <td>0</td>\n",
       "      <td>0</td>\n",
       "      <td>1</td>\n",
       "      <td>0</td>\n",
       "      <td>0</td>\n",
       "      <td>1</td>\n",
       "      <td>0</td>\n",
       "      <td>0</td>\n",
       "      <td>0</td>\n",
       "      <td>1</td>\n",
       "    </tr>\n",
       "    <tr>\n",
       "      <th>1</th>\n",
       "      <td>0</td>\n",
       "      <td>0</td>\n",
       "      <td>0</td>\n",
       "      <td>0</td>\n",
       "      <td>0</td>\n",
       "      <td>0</td>\n",
       "      <td>0</td>\n",
       "      <td>0</td>\n",
       "      <td>0</td>\n",
       "      <td>0</td>\n",
       "      <td>...</td>\n",
       "      <td>0</td>\n",
       "      <td>0</td>\n",
       "      <td>1</td>\n",
       "      <td>0</td>\n",
       "      <td>1</td>\n",
       "      <td>0</td>\n",
       "      <td>0</td>\n",
       "      <td>0</td>\n",
       "      <td>1</td>\n",
       "      <td>0</td>\n",
       "    </tr>\n",
       "    <tr>\n",
       "      <th>2</th>\n",
       "      <td>0</td>\n",
       "      <td>0</td>\n",
       "      <td>0</td>\n",
       "      <td>0</td>\n",
       "      <td>0</td>\n",
       "      <td>0</td>\n",
       "      <td>0</td>\n",
       "      <td>0</td>\n",
       "      <td>0</td>\n",
       "      <td>0</td>\n",
       "      <td>...</td>\n",
       "      <td>0</td>\n",
       "      <td>0</td>\n",
       "      <td>1</td>\n",
       "      <td>0</td>\n",
       "      <td>1</td>\n",
       "      <td>0</td>\n",
       "      <td>0</td>\n",
       "      <td>0</td>\n",
       "      <td>0</td>\n",
       "      <td>1</td>\n",
       "    </tr>\n",
       "    <tr>\n",
       "      <th>3</th>\n",
       "      <td>0</td>\n",
       "      <td>0</td>\n",
       "      <td>0</td>\n",
       "      <td>0</td>\n",
       "      <td>0</td>\n",
       "      <td>0</td>\n",
       "      <td>0</td>\n",
       "      <td>0</td>\n",
       "      <td>0</td>\n",
       "      <td>0</td>\n",
       "      <td>...</td>\n",
       "      <td>0</td>\n",
       "      <td>0</td>\n",
       "      <td>1</td>\n",
       "      <td>0</td>\n",
       "      <td>1</td>\n",
       "      <td>0</td>\n",
       "      <td>0</td>\n",
       "      <td>0</td>\n",
       "      <td>1</td>\n",
       "      <td>0</td>\n",
       "    </tr>\n",
       "    <tr>\n",
       "      <th>4</th>\n",
       "      <td>0</td>\n",
       "      <td>0</td>\n",
       "      <td>0</td>\n",
       "      <td>0</td>\n",
       "      <td>0</td>\n",
       "      <td>0</td>\n",
       "      <td>0</td>\n",
       "      <td>0</td>\n",
       "      <td>0</td>\n",
       "      <td>0</td>\n",
       "      <td>...</td>\n",
       "      <td>1</td>\n",
       "      <td>0</td>\n",
       "      <td>0</td>\n",
       "      <td>0</td>\n",
       "      <td>1</td>\n",
       "      <td>0</td>\n",
       "      <td>0</td>\n",
       "      <td>0</td>\n",
       "      <td>1</td>\n",
       "      <td>0</td>\n",
       "    </tr>\n",
       "  </tbody>\n",
       "</table>\n",
       "<p>5 rows × 348 columns</p>\n",
       "</div>"
      ],
      "text/plain": [
       "   City_Aiken  City_Albuquerque  City_Alturas  City_Amarillo  City_Arvada  \\\n",
       "0           0                 0             0              0            0   \n",
       "1           0                 0             0              0            0   \n",
       "2           0                 0             0              0            0   \n",
       "3           0                 0             0              0            0   \n",
       "4           0                 0             0              0            0   \n",
       "\n",
       "   City_Atlanta  City_Auburn  City_Aurora  City_Austin  City_Baltimore  \\\n",
       "0             0            0            0            1               0   \n",
       "1             0            0            0            0               0   \n",
       "2             0            0            0            0               0   \n",
       "3             0            0            0            0               0   \n",
       "4             0            0            0            0               0   \n",
       "\n",
       "     ...      History of Mental Illness - General_No  \\\n",
       "0    ...                                           0   \n",
       "1    ...                                           0   \n",
       "2    ...                                           0   \n",
       "3    ...                                           0   \n",
       "4    ...                                           1   \n",
       "\n",
       "   History of Mental Illness - General_Unknown  \\\n",
       "0                                            0   \n",
       "1                                            0   \n",
       "2                                            0   \n",
       "3                                            0   \n",
       "4                                            0   \n",
       "\n",
       "   History of Mental Illness - General_Yes  Military Experience_No  \\\n",
       "0                                        1                       0   \n",
       "1                                        1                       0   \n",
       "2                                        1                       0   \n",
       "3                                        1                       0   \n",
       "4                                        0                       0   \n",
       "\n",
       "   Military Experience_Unknown  Military Experience_Yes  Class_FMS  Class_GD  \\\n",
       "0                            0                        1          0         0   \n",
       "1                            1                        0          0         0   \n",
       "2                            1                        0          0         0   \n",
       "3                            1                        0          0         0   \n",
       "4                            1                        0          0         0   \n",
       "\n",
       "   Class_MS  Class_SPK  \n",
       "0         0          1  \n",
       "1         1          0  \n",
       "2         0          1  \n",
       "3         1          0  \n",
       "4         1          0  \n",
       "\n",
       "[5 rows x 348 columns]"
      ]
     },
     "execution_count": 205,
     "metadata": {},
     "output_type": "execute_result"
    }
   ],
   "source": [
    "df_categorical_dummies = pd.get_dummies(df_categorical)\n",
    "\n",
    "df_categorical_dummies.head()"
   ]
  },
  {
   "cell_type": "code",
   "execution_count": 206,
   "metadata": {
    "collapsed": false
   },
   "outputs": [
    {
     "data": {
      "text/html": [
       "<div>\n",
       "<style>\n",
       "    .dataframe thead tr:only-child th {\n",
       "        text-align: right;\n",
       "    }\n",
       "\n",
       "    .dataframe thead th {\n",
       "        text-align: left;\n",
       "    }\n",
       "\n",
       "    .dataframe tbody tr th {\n",
       "        vertical-align: top;\n",
       "    }\n",
       "</style>\n",
       "<table border=\"1\" class=\"dataframe\">\n",
       "  <thead>\n",
       "    <tr style=\"text-align: right;\">\n",
       "      <th></th>\n",
       "      <th>Latitude</th>\n",
       "      <th>Longitude</th>\n",
       "      <th>Number of Victim Fatalities</th>\n",
       "      <th>Total Number of Fatalities</th>\n",
       "      <th>Number of Victims Injured</th>\n",
       "      <th>Total Number of Victims</th>\n",
       "      <th>Average Shooter Age</th>\n",
       "      <th>Number of Shotguns</th>\n",
       "      <th>Number of Rifles</th>\n",
       "      <th>Number of Handguns</th>\n",
       "      <th>...</th>\n",
       "      <th>History of Mental Illness - General_No</th>\n",
       "      <th>History of Mental Illness - General_Unknown</th>\n",
       "      <th>History of Mental Illness - General_Yes</th>\n",
       "      <th>Military Experience_No</th>\n",
       "      <th>Military Experience_Unknown</th>\n",
       "      <th>Military Experience_Yes</th>\n",
       "      <th>Class_FMS</th>\n",
       "      <th>Class_GD</th>\n",
       "      <th>Class_MS</th>\n",
       "      <th>Class_SPK</th>\n",
       "    </tr>\n",
       "  </thead>\n",
       "  <tbody>\n",
       "    <tr>\n",
       "      <th>0</th>\n",
       "      <td>30.198887</td>\n",
       "      <td>-97.844159</td>\n",
       "      <td>16.0</td>\n",
       "      <td>17.0</td>\n",
       "      <td>32.0</td>\n",
       "      <td>48.0</td>\n",
       "      <td>25.0</td>\n",
       "      <td>1.0</td>\n",
       "      <td>3.0</td>\n",
       "      <td>3.0</td>\n",
       "      <td>...</td>\n",
       "      <td>0</td>\n",
       "      <td>0</td>\n",
       "      <td>1</td>\n",
       "      <td>0</td>\n",
       "      <td>0</td>\n",
       "      <td>1</td>\n",
       "      <td>0</td>\n",
       "      <td>0</td>\n",
       "      <td>0</td>\n",
       "      <td>1</td>\n",
       "    </tr>\n",
       "    <tr>\n",
       "      <th>1</th>\n",
       "      <td>33.422687</td>\n",
       "      <td>-111.816320</td>\n",
       "      <td>5.0</td>\n",
       "      <td>5.0</td>\n",
       "      <td>1.0</td>\n",
       "      <td>6.0</td>\n",
       "      <td>18.0</td>\n",
       "      <td>0.0</td>\n",
       "      <td>0.0</td>\n",
       "      <td>1.0</td>\n",
       "      <td>...</td>\n",
       "      <td>0</td>\n",
       "      <td>0</td>\n",
       "      <td>1</td>\n",
       "      <td>0</td>\n",
       "      <td>1</td>\n",
       "      <td>0</td>\n",
       "      <td>0</td>\n",
       "      <td>0</td>\n",
       "      <td>1</td>\n",
       "      <td>0</td>\n",
       "    </tr>\n",
       "    <tr>\n",
       "      <th>2</th>\n",
       "      <td>30.068724</td>\n",
       "      <td>-89.931474</td>\n",
       "      <td>9.0</td>\n",
       "      <td>10.0</td>\n",
       "      <td>13.0</td>\n",
       "      <td>22.0</td>\n",
       "      <td>23.0</td>\n",
       "      <td>0.0</td>\n",
       "      <td>1.0</td>\n",
       "      <td>1.0</td>\n",
       "      <td>...</td>\n",
       "      <td>0</td>\n",
       "      <td>0</td>\n",
       "      <td>1</td>\n",
       "      <td>0</td>\n",
       "      <td>1</td>\n",
       "      <td>0</td>\n",
       "      <td>0</td>\n",
       "      <td>0</td>\n",
       "      <td>0</td>\n",
       "      <td>1</td>\n",
       "    </tr>\n",
       "    <tr>\n",
       "      <th>3</th>\n",
       "      <td>41.839280</td>\n",
       "      <td>-87.688181</td>\n",
       "      <td>1.0</td>\n",
       "      <td>1.0</td>\n",
       "      <td>3.0</td>\n",
       "      <td>4.0</td>\n",
       "      <td>14.0</td>\n",
       "      <td>0.0</td>\n",
       "      <td>0.0</td>\n",
       "      <td>2.0</td>\n",
       "      <td>...</td>\n",
       "      <td>0</td>\n",
       "      <td>0</td>\n",
       "      <td>1</td>\n",
       "      <td>0</td>\n",
       "      <td>1</td>\n",
       "      <td>0</td>\n",
       "      <td>0</td>\n",
       "      <td>0</td>\n",
       "      <td>1</td>\n",
       "      <td>0</td>\n",
       "    </tr>\n",
       "    <tr>\n",
       "      <th>4</th>\n",
       "      <td>42.081854</td>\n",
       "      <td>-78.432139</td>\n",
       "      <td>3.0</td>\n",
       "      <td>3.0</td>\n",
       "      <td>7.0</td>\n",
       "      <td>10.0</td>\n",
       "      <td>17.0</td>\n",
       "      <td>1.0</td>\n",
       "      <td>1.0</td>\n",
       "      <td>0.0</td>\n",
       "      <td>...</td>\n",
       "      <td>1</td>\n",
       "      <td>0</td>\n",
       "      <td>0</td>\n",
       "      <td>0</td>\n",
       "      <td>1</td>\n",
       "      <td>0</td>\n",
       "      <td>0</td>\n",
       "      <td>0</td>\n",
       "      <td>1</td>\n",
       "      <td>0</td>\n",
       "    </tr>\n",
       "  </tbody>\n",
       "</table>\n",
       "<p>5 rows × 365 columns</p>\n",
       "</div>"
      ],
      "text/plain": [
       "    Latitude   Longitude  Number of Victim Fatalities  \\\n",
       "0  30.198887  -97.844159                         16.0   \n",
       "1  33.422687 -111.816320                          5.0   \n",
       "2  30.068724  -89.931474                          9.0   \n",
       "3  41.839280  -87.688181                          1.0   \n",
       "4  42.081854  -78.432139                          3.0   \n",
       "\n",
       "   Total Number of Fatalities  Number of Victims Injured  \\\n",
       "0                        17.0                       32.0   \n",
       "1                         5.0                        1.0   \n",
       "2                        10.0                       13.0   \n",
       "3                         1.0                        3.0   \n",
       "4                         3.0                        7.0   \n",
       "\n",
       "   Total Number of Victims  Average Shooter Age  Number of Shotguns  \\\n",
       "0                     48.0                 25.0                 1.0   \n",
       "1                      6.0                 18.0                 0.0   \n",
       "2                     22.0                 23.0                 0.0   \n",
       "3                      4.0                 14.0                 0.0   \n",
       "4                     10.0                 17.0                 1.0   \n",
       "\n",
       "   Number of Rifles  Number of Handguns    ...      \\\n",
       "0               3.0                 3.0    ...       \n",
       "1               0.0                 1.0    ...       \n",
       "2               1.0                 1.0    ...       \n",
       "3               0.0                 2.0    ...       \n",
       "4               1.0                 0.0    ...       \n",
       "\n",
       "   History of Mental Illness - General_No  \\\n",
       "0                                       0   \n",
       "1                                       0   \n",
       "2                                       0   \n",
       "3                                       0   \n",
       "4                                       1   \n",
       "\n",
       "   History of Mental Illness - General_Unknown  \\\n",
       "0                                            0   \n",
       "1                                            0   \n",
       "2                                            0   \n",
       "3                                            0   \n",
       "4                                            0   \n",
       "\n",
       "   History of Mental Illness - General_Yes  Military Experience_No  \\\n",
       "0                                        1                       0   \n",
       "1                                        1                       0   \n",
       "2                                        1                       0   \n",
       "3                                        1                       0   \n",
       "4                                        0                       0   \n",
       "\n",
       "   Military Experience_Unknown  Military Experience_Yes  Class_FMS  Class_GD  \\\n",
       "0                            0                        1          0         0   \n",
       "1                            1                        0          0         0   \n",
       "2                            1                        0          0         0   \n",
       "3                            1                        0          0         0   \n",
       "4                            1                        0          0         0   \n",
       "\n",
       "   Class_MS  Class_SPK  \n",
       "0         0          1  \n",
       "1         1          0  \n",
       "2         0          1  \n",
       "3         1          0  \n",
       "4         1          0  \n",
       "\n",
       "[5 rows x 365 columns]"
      ]
     },
     "execution_count": 206,
     "metadata": {},
     "output_type": "execute_result"
    }
   ],
   "source": [
    "df_concat_numeric_categorical = pd.concat([df_numeric, df_categorical_dummies], axis = 1)\n",
    "\n",
    "df_concat_numeric_categorical.head()"
   ]
  },
  {
   "cell_type": "code",
   "execution_count": 207,
   "metadata": {
    "collapsed": false
   },
   "outputs": [
    {
     "name": "stdout",
     "output_type": "stream",
     "text": [
      "<class 'pandas.core.frame.DataFrame'>\n",
      "Int64Index: 307 entries, 0 to 306\n",
      "Columns: 365 entries, Latitude to Class_SPK\n",
      "dtypes: float64(13), int64(4), uint8(348)\n",
      "memory usage: 157.5 KB\n"
     ]
    }
   ],
   "source": [
    "# df_concat_numeric_categorical_noNaN = df_concat_numeric_categorical.dropna()\n",
    "\n",
    "df_concat_numeric_categorical.info()"
   ]
  },
  {
   "cell_type": "code",
   "execution_count": 109,
   "metadata": {
    "collapsed": false
   },
   "outputs": [
    {
     "name": "stdout",
     "output_type": "stream",
     "text": [
      "Accuracy is  77.4193548387\n"
     ]
    }
   ],
   "source": [
    "from sklearn.cross_validation import train_test_split\n",
    "from sklearn.tree import DecisionTreeClassifier\n",
    "from sklearn.metrics import accuracy_score\n",
    "from sklearn import tree\n",
    "\n",
    "X = df_concat_numeric_categorical.drop('Weekend', axis = 1)\n",
    "Y = DataFrame(df_concat_numeric_categorical['Weekend'])\n",
    "\n",
    "X_train, X_test, y_train, y_test = train_test_split( X, Y, test_size = 0.2)\n",
    "\n",
    "clf_gini = DecisionTreeClassifier(criterion = \"entropy\")#,\n",
    "                               #max_depth=5, min_samples_leaf=1)\n",
    "clf_gini.fit(X_train, y_train)\n",
    "\n",
    "Y_pred = clf_gini.predict(X_test)\n",
    "\n",
    "print(\"Accuracy is \", accuracy_score(y_test,Y_pred)*100)"
   ]
  },
  {
   "cell_type": "markdown",
   "metadata": {},
   "source": [
    "We get an accuracy of 77.41. Since we have a class imbalance problem (more than number of 0's (weekdays) than 1's (weekends), we will use the roc curve as our evaluation metric to get a clearer picture of our model's performance."
   ]
  },
  {
   "cell_type": "code",
   "execution_count": 144,
   "metadata": {
    "collapsed": false
   },
   "outputs": [
    {
     "data": {
      "image/png": "[encoded data removed]",
      "text/plain": [
       "<matplotlib.figure.Figure at 0x121e76390>"
      ]
     },
     "metadata": {},
     "output_type": "display_data"
    }
   ],
   "source": [
    "from sklearn import preprocessing\n",
    "from sklearn.metrics import roc_curve, auc\n",
    "\n",
    "fpr, tpr, thresholds = roc_curve(y_test, Y_pred)\n",
    "\n",
    "decision_tree_roc_curve = auc(fpr, tpr)\n",
    "\n",
    "plt.figure()\n",
    "plt.plot(fpr, tpr, color = 'red', label = 'ROC Curve (area = %0.2f)' %decision_tree_roc_curve)\n",
    "\n",
    "plt.plot([0,1], [0, 1], color = 'blue', linestyle = '--')\n",
    "plt.xlim([0.0, 1.00])\n",
    "plt.ylim([0.0, 1.00])\n",
    "plt.xlabel('False Positive Rate')\n",
    "plt.ylabel('True Positive Rate')\n",
    "plt.title('Receiver Operating Characteristic')\n",
    "plt.legend(loc=\"lower right\")\n",
    "plt.show()\n"
   ]
  },
  {
   "cell_type": "markdown",
   "metadata": {},
   "source": [
    "We get the ROC Curve = 0.77, which is not bad."
   ]
  },
  {
   "cell_type": "markdown",
   "metadata": {},
   "source": [
    "Let's try predicting the mental illness of a shooter, given a shooting has occured. <br /> <br />\n",
    "<b>Target Variable:</b> 'History of Mental Illness - General' <br /> <br />\n",
    "<b> Predictor Variables:</b> Same as the above model "
   ]
  },
  {
   "cell_type": "code",
   "execution_count": 209,
   "metadata": {
    "collapsed": false
   },
   "outputs": [
    {
     "data": {
      "text/html": [
       "<div>\n",
       "<style>\n",
       "    .dataframe thead tr:only-child th {\n",
       "        text-align: right;\n",
       "    }\n",
       "\n",
       "    .dataframe thead th {\n",
       "        text-align: left;\n",
       "    }\n",
       "\n",
       "    .dataframe tbody tr th {\n",
       "        vertical-align: top;\n",
       "    }\n",
       "</style>\n",
       "<table border=\"1\" class=\"dataframe\">\n",
       "  <thead>\n",
       "    <tr style=\"text-align: right;\">\n",
       "      <th></th>\n",
       "      <th>City_Aiken</th>\n",
       "      <th>City_Albuquerque</th>\n",
       "      <th>City_Alturas</th>\n",
       "      <th>City_Amarillo</th>\n",
       "      <th>City_Arvada</th>\n",
       "      <th>City_Atlanta</th>\n",
       "      <th>City_Auburn</th>\n",
       "      <th>City_Aurora</th>\n",
       "      <th>City_Austin</th>\n",
       "      <th>City_Baltimore</th>\n",
       "      <th>...</th>\n",
       "      <th>History of Mental Illness - General_No</th>\n",
       "      <th>History of Mental Illness - General_Unknown</th>\n",
       "      <th>History of Mental Illness - General_Yes</th>\n",
       "      <th>Military Experience_No</th>\n",
       "      <th>Military Experience_Unknown</th>\n",
       "      <th>Military Experience_Yes</th>\n",
       "      <th>Class_FMS</th>\n",
       "      <th>Class_GD</th>\n",
       "      <th>Class_MS</th>\n",
       "      <th>Class_SPK</th>\n",
       "    </tr>\n",
       "  </thead>\n",
       "  <tbody>\n",
       "    <tr>\n",
       "      <th>0</th>\n",
       "      <td>0</td>\n",
       "      <td>0</td>\n",
       "      <td>0</td>\n",
       "      <td>0</td>\n",
       "      <td>0</td>\n",
       "      <td>0</td>\n",
       "      <td>0</td>\n",
       "      <td>0</td>\n",
       "      <td>1</td>\n",
       "      <td>0</td>\n",
       "      <td>...</td>\n",
       "      <td>0</td>\n",
       "      <td>0</td>\n",
       "      <td>1</td>\n",
       "      <td>0</td>\n",
       "      <td>0</td>\n",
       "      <td>1</td>\n",
       "      <td>0</td>\n",
       "      <td>0</td>\n",
       "      <td>0</td>\n",
       "      <td>1</td>\n",
       "    </tr>\n",
       "    <tr>\n",
       "      <th>1</th>\n",
       "      <td>0</td>\n",
       "      <td>0</td>\n",
       "      <td>0</td>\n",
       "      <td>0</td>\n",
       "      <td>0</td>\n",
       "      <td>0</td>\n",
       "      <td>0</td>\n",
       "      <td>0</td>\n",
       "      <td>0</td>\n",
       "      <td>0</td>\n",
       "      <td>...</td>\n",
       "      <td>0</td>\n",
       "      <td>0</td>\n",
       "      <td>1</td>\n",
       "      <td>0</td>\n",
       "      <td>1</td>\n",
       "      <td>0</td>\n",
       "      <td>0</td>\n",
       "      <td>0</td>\n",
       "      <td>1</td>\n",
       "      <td>0</td>\n",
       "    </tr>\n",
       "    <tr>\n",
       "      <th>2</th>\n",
       "      <td>0</td>\n",
       "      <td>0</td>\n",
       "      <td>0</td>\n",
       "      <td>0</td>\n",
       "      <td>0</td>\n",
       "      <td>0</td>\n",
       "      <td>0</td>\n",
       "      <td>0</td>\n",
       "      <td>0</td>\n",
       "      <td>0</td>\n",
       "      <td>...</td>\n",
       "      <td>0</td>\n",
       "      <td>0</td>\n",
       "      <td>1</td>\n",
       "      <td>0</td>\n",
       "      <td>1</td>\n",
       "      <td>0</td>\n",
       "      <td>0</td>\n",
       "      <td>0</td>\n",
       "      <td>0</td>\n",
       "      <td>1</td>\n",
       "    </tr>\n",
       "    <tr>\n",
       "      <th>3</th>\n",
       "      <td>0</td>\n",
       "      <td>0</td>\n",
       "      <td>0</td>\n",
       "      <td>0</td>\n",
       "      <td>0</td>\n",
       "      <td>0</td>\n",
       "      <td>0</td>\n",
       "      <td>0</td>\n",
       "      <td>0</td>\n",
       "      <td>0</td>\n",
       "      <td>...</td>\n",
       "      <td>0</td>\n",
       "      <td>0</td>\n",
       "      <td>1</td>\n",
       "      <td>0</td>\n",
       "      <td>1</td>\n",
       "      <td>0</td>\n",
       "      <td>0</td>\n",
       "      <td>0</td>\n",
       "      <td>1</td>\n",
       "      <td>0</td>\n",
       "    </tr>\n",
       "    <tr>\n",
       "      <th>4</th>\n",
       "      <td>0</td>\n",
       "      <td>0</td>\n",
       "      <td>0</td>\n",
       "      <td>0</td>\n",
       "      <td>0</td>\n",
       "      <td>0</td>\n",
       "      <td>0</td>\n",
       "      <td>0</td>\n",
       "      <td>0</td>\n",
       "      <td>0</td>\n",
       "      <td>...</td>\n",
       "      <td>1</td>\n",
       "      <td>0</td>\n",
       "      <td>0</td>\n",
       "      <td>0</td>\n",
       "      <td>1</td>\n",
       "      <td>0</td>\n",
       "      <td>0</td>\n",
       "      <td>0</td>\n",
       "      <td>1</td>\n",
       "      <td>0</td>\n",
       "    </tr>\n",
       "  </tbody>\n",
       "</table>\n",
       "<p>5 rows × 348 columns</p>\n",
       "</div>"
      ],
      "text/plain": [
       "   City_Aiken  City_Albuquerque  City_Alturas  City_Amarillo  City_Arvada  \\\n",
       "0           0                 0             0              0            0   \n",
       "1           0                 0             0              0            0   \n",
       "2           0                 0             0              0            0   \n",
       "3           0                 0             0              0            0   \n",
       "4           0                 0             0              0            0   \n",
       "\n",
       "   City_Atlanta  City_Auburn  City_Aurora  City_Austin  City_Baltimore  \\\n",
       "0             0            0            0            1               0   \n",
       "1             0            0            0            0               0   \n",
       "2             0            0            0            0               0   \n",
       "3             0            0            0            0               0   \n",
       "4             0            0            0            0               0   \n",
       "\n",
       "     ...      History of Mental Illness - General_No  \\\n",
       "0    ...                                           0   \n",
       "1    ...                                           0   \n",
       "2    ...                                           0   \n",
       "3    ...                                           0   \n",
       "4    ...                                           1   \n",
       "\n",
       "   History of Mental Illness - General_Unknown  \\\n",
       "0                                            0   \n",
       "1                                            0   \n",
       "2                                            0   \n",
       "3                                            0   \n",
       "4                                            0   \n",
       "\n",
       "   History of Mental Illness - General_Yes  Military Experience_No  \\\n",
       "0                                        1                       0   \n",
       "1                                        1                       0   \n",
       "2                                        1                       0   \n",
       "3                                        1                       0   \n",
       "4                                        0                       0   \n",
       "\n",
       "   Military Experience_Unknown  Military Experience_Yes  Class_FMS  Class_GD  \\\n",
       "0                            0                        1          0         0   \n",
       "1                            1                        0          0         0   \n",
       "2                            1                        0          0         0   \n",
       "3                            1                        0          0         0   \n",
       "4                            1                        0          0         0   \n",
       "\n",
       "   Class_MS  Class_SPK  \n",
       "0         0          1  \n",
       "1         1          0  \n",
       "2         0          1  \n",
       "3         1          0  \n",
       "4         1          0  \n",
       "\n",
       "[5 rows x 348 columns]"
      ]
     },
     "execution_count": 209,
     "metadata": {},
     "output_type": "execute_result"
    }
   ],
   "source": [
    "df2 = DataFrame(df)\n",
    "df2_numeric = df2.select_dtypes(include = ['float64', 'int64'])\n",
    "df2_categorical = df2.select_dtypes(include = ['category'])\n",
    "\n",
    "df2_categorical_dummies = pd.get_dummies(df2_categorical)\n",
    "\n",
    "df2_categorical_dummies.head()\n"
   ]
  },
  {
   "cell_type": "code",
   "execution_count": 211,
   "metadata": {
    "collapsed": false
   },
   "outputs": [
    {
     "data": {
      "text/plain": [
       "0    Yes\n",
       "1    Yes\n",
       "2    Yes\n",
       "3    Yes\n",
       "4     No\n",
       "Name: History of Mental Illness - General, dtype: category\n",
       "Categories (3, object): [No, Unknown, Yes]"
      ]
     },
     "execution_count": 211,
     "metadata": {},
     "output_type": "execute_result"
    }
   ],
   "source": [
    "df2_categorical_dummies.drop(['History of Mental Illness - General_No', 'History of Mental Illness - General_Yes',\n",
    "                             'History of Mental Illness - General_Unknown'], axis = 1, inplace = True)\n",
    "df2_categorical_dummies['History of Mental Illness - General'] = df['History of Mental Illness - General']\n",
    "\n",
    "df2_categorical_dummies['History of Mental Illness - General'].head()"
   ]
  },
  {
   "cell_type": "code",
   "execution_count": 215,
   "metadata": {
    "collapsed": false
   },
   "outputs": [
    {
     "name": "stdout",
     "output_type": "stream",
     "text": [
      "<class 'pandas.core.frame.DataFrame'>\n",
      "Int64Index: 307 entries, 0 to 306\n",
      "Columns: 363 entries, Latitude to History of Mental Illness - General\n",
      "dtypes: category(1), float64(13), int64(4), uint8(345)\n",
      "memory usage: 157.0 KB\n"
     ]
    }
   ],
   "source": [
    "df2_concat_numeric_categorical = pd.concat([df2_numeric, df2_categorical_dummies], axis = 1)\n",
    "\n",
    "df2_concat_numeric_categorical.info()"
   ]
  },
  {
   "cell_type": "code",
   "execution_count": 230,
   "metadata": {
    "collapsed": false
   },
   "outputs": [
    {
     "name": "stdout",
     "output_type": "stream",
     "text": [
      "Accuracy is  62.9032258065\n"
     ]
    }
   ],
   "source": [
    "label2 = 'History of Mental Illness - General'\n",
    "X2 = df2_concat_numeric_categorical.drop(label2, axis = 1)\n",
    "Y2 = DataFrame(df2_concat_numeric_categorical[label2])\n",
    "\n",
    "X2_train, X2_test, y2_train, y2_test = train_test_split( X2, Y2, test_size = 0.2)\n",
    "\n",
    "clf_gini2 = DecisionTreeClassifier(criterion = \"entropy\")#,\n",
    "                               #max_depth=5, min_samples_leaf=1)\n",
    "clf_gini2.fit(X2_train, y2_train)\n",
    "\n",
    "Y2_pred = clf_gini2.predict(X2_test)\n",
    "\n",
    "print(\"Accuracy is \", accuracy_score(y2_test,Y2_pred)*100)"
   ]
  },
  {
   "cell_type": "markdown",
   "metadata": {},
   "source": [
    "The accuracy comes out to 62.9 which is not optimal. Looks like our predictor variables are not catching the complexity of the target variable (or) are not predictive enough for our target variable."
   ]
  },
  {
   "cell_type": "markdown",
   "metadata": {},
   "source": [
    "### Time Series Model"
   ]
  },
  {
   "cell_type": "markdown",
   "metadata": {},
   "source": [
    "Here, we will built a model to predict the number of attacks over a period of time"
   ]
  },
  {
   "cell_type": "code",
   "execution_count": 338,
   "metadata": {
    "collapsed": false
   },
   "outputs": [
    {
     "data": {
      "text/html": [
       "<div>\n",
       "<style>\n",
       "    .dataframe thead tr:only-child th {\n",
       "        text-align: right;\n",
       "    }\n",
       "\n",
       "    .dataframe thead th {\n",
       "        text-align: left;\n",
       "    }\n",
       "\n",
       "    .dataframe tbody tr th {\n",
       "        vertical-align: top;\n",
       "    }\n",
       "</style>\n",
       "<table border=\"1\" class=\"dataframe\">\n",
       "  <thead>\n",
       "    <tr style=\"text-align: right;\">\n",
       "      <th></th>\n",
       "      <th>Total Number of Victims</th>\n",
       "      <th>Year</th>\n",
       "    </tr>\n",
       "  </thead>\n",
       "  <tbody>\n",
       "    <tr>\n",
       "      <th>0</th>\n",
       "      <td>54.0</td>\n",
       "      <td>1966</td>\n",
       "    </tr>\n",
       "    <tr>\n",
       "      <th>1</th>\n",
       "      <td>0.0</td>\n",
       "      <td>1967</td>\n",
       "    </tr>\n",
       "    <tr>\n",
       "      <th>2</th>\n",
       "      <td>0.0</td>\n",
       "      <td>1968</td>\n",
       "    </tr>\n",
       "    <tr>\n",
       "      <th>3</th>\n",
       "      <td>0.0</td>\n",
       "      <td>1969</td>\n",
       "    </tr>\n",
       "    <tr>\n",
       "      <th>4</th>\n",
       "      <td>0.0</td>\n",
       "      <td>1970</td>\n",
       "    </tr>\n",
       "  </tbody>\n",
       "</table>\n",
       "</div>"
      ],
      "text/plain": [
       "   Total Number of Victims  Year\n",
       "0                     54.0  1966\n",
       "1                      0.0  1967\n",
       "2                      0.0  1968\n",
       "3                      0.0  1969\n",
       "4                      0.0  1970"
      ]
     },
     "execution_count": 338,
     "metadata": {},
     "output_type": "execute_result"
    }
   ],
   "source": [
    "time_series_data = DataFrame(data = data, columns = ['Year', 'Total Number of Victims'])\n",
    "\n",
    "from collections import defaultdict, deque\n",
    "time_dict = defaultdict(deque)\n",
    "for i in range(1966, 2017):\n",
    "    time_dict['Year'].append(i)\n",
    "    time_dict['Total Number of Victims'].append(time_series_data.loc[time_series_data['Year'] == i, 'Total Number of Victims'].sum())\n",
    "\n",
    "\n",
    "#time_dict\n",
    "temp_df = DataFrame.from_dict(time_dict)\n",
    "\n",
    "temp_df.head()"
   ]
  },
  {
   "cell_type": "code",
   "execution_count": 339,
   "metadata": {
    "collapsed": false
   },
   "outputs": [
    {
     "data": {
      "text/plain": [
       "[2,\n",
       " 0,\n",
       " 0,\n",
       " 0,\n",
       " 0,\n",
       " 1,\n",
       " 1,\n",
       " 0,\n",
       " 2,\n",
       " 0,\n",
       " 2,\n",
       " 0,\n",
       " 0,\n",
       " 2,\n",
       " 0,\n",
       " 0,\n",
       " 2,\n",
       " 2,\n",
       " 3,\n",
       " 2,\n",
       " 3,\n",
       " 1,\n",
       " 6,\n",
       " 3,\n",
       " 1,\n",
       " 5,\n",
       " 4,\n",
       " 9,\n",
       " 4,\n",
       " 4,\n",
       " 3,\n",
       " 6,\n",
       " 5,\n",
       " 7,\n",
       " 1,\n",
       " 2,\n",
       " 2,\n",
       " 3,\n",
       " 2,\n",
       " 3,\n",
       " 6,\n",
       " 10,\n",
       " 6,\n",
       " 6,\n",
       " 2,\n",
       " 6,\n",
       " 14,\n",
       " 16,\n",
       " 13,\n",
       " 65,\n",
       " 70]"
      ]
     },
     "execution_count": 339,
     "metadata": {},
     "output_type": "execute_result"
    }
   ],
   "source": [
    "no_of_incidents = []\n",
    "for i in range(1966, 2017):\n",
    "    no_of_incidents.append(len(time_series_data.loc[time_series_data['Year'] == i]))\n",
    "\n",
    "#time_series_data['Number of Incidents'] = no_of_incidents\n",
    "no_of_incidents"
   ]
  },
  {
   "cell_type": "code",
   "execution_count": 340,
   "metadata": {
    "collapsed": true
   },
   "outputs": [],
   "source": [
    "#DataFrame.to_csv(temp_df, \"time_series_data.csv\", index = False)\n",
    "date_parse = lambda dates: pd.datetime.strptime(dates, '%Y')"
   ]
  },
  {
   "cell_type": "code",
   "execution_count": 341,
   "metadata": {
    "collapsed": false
   },
   "outputs": [
    {
     "name": "stdout",
     "output_type": "stream",
     "text": [
      "<class 'pandas.core.frame.DataFrame'>\n",
      "DatetimeIndex: 51 entries, 1966-01-01 to 2016-01-01\n",
      "Data columns (total 2 columns):\n",
      "Total Number of Victims    51 non-null float64\n",
      "Number of Incidents        51 non-null float64\n",
      "dtypes: float64(2)\n",
      "memory usage: 1.2 KB\n"
     ]
    }
   ],
   "source": [
    "tsdata = pd.read_csv(\"time_series_data.csv\", index_col = 'Year', date_parser=date_parse)\n",
    "tsdata['Number of Incidents'] = no_of_incidents\n",
    "tsdata['Number of Incidents'] = tsdata['Number of Incidents'].astype('float')\n",
    "tsdata.info()"
   ]
  },
  {
   "cell_type": "code",
   "execution_count": 356,
   "metadata": {
    "collapsed": false
   },
   "outputs": [
    {
     "data": {
      "text/plain": [
       "<matplotlib.text.Text at 0x12b24aa90>"
      ]
     },
     "execution_count": 356,
     "metadata": {},
     "output_type": "execute_result"
    },
    {
     "data": {
      "image/png": "[encoded data removed]",
      "text/plain": [
       "<matplotlib.figure.Figure at 0x12b445da0>"
      ]
     },
     "metadata": {},
     "output_type": "display_data"
    }
   ],
   "source": [
    "scatterdata = pd.read_csv(\"time_series_data.csv\")\n",
    "scatterdata['Number of Incidents'] = no_of_incidents\n",
    "plt.scatter(scatterdata.Year, scatterdata['Number of Incidents'])\n",
    "plt.xlabel(\"Years\")\n",
    "plt.ylabel(\"Number of Incidents\")"
   ]
  },
  {
   "cell_type": "code",
   "execution_count": 343,
   "metadata": {
    "collapsed": false
   },
   "outputs": [
    {
     "name": "stderr",
     "output_type": "stream",
     "text": [
      "/Applications/anaconda/lib/python3.5/site-packages/PIL/Image.py:77: RuntimeWarning:\n",
      "\n",
      "The _imaging extension was built for another version of Pillow or PIL: Core Version: 4.3.0Pillow Version:  3.0.0\n",
      "\n",
      "/Applications/anaconda/lib/python3.5/site-packages/statsmodels/compat/pandas.py:56: FutureWarning:\n",
      "\n",
      "The pandas.core.datetools module is deprecated and will be removed in a future version. Please use the pandas.tseries module instead.\n",
      "\n"
     ]
    },
    {
     "data": {
      "text/plain": [
       "<matplotlib.text.Text at 0x1264457b8>"
      ]
     },
     "execution_count": 343,
     "metadata": {},
     "output_type": "execute_result"
    },
    {
     "data": {
      "image/png": "[encoded data removed]",
      "text/plain": [
       "<matplotlib.figure.Figure at 0x125faf240>"
      ]
     },
     "metadata": {},
     "output_type": "display_data"
    }
   ],
   "source": [
    "from statsmodels.tsa.stattools import acf, pacf\n",
    "\n",
    "ts_column = tsdata['Number of Incidents']\n",
    "\n",
    "acf_cases = acf(ts_column)\n",
    "pacf_cases = pacf(ts_column, nlags = 20, method = 'ols')\n",
    "\n",
    "plt.subplot(121)\n",
    "plt.plot(acf_cases)\n",
    "plt.axhline(y=0,linestyle='--',color='gray')\n",
    "plt.axhline(y=-1.96/np.sqrt(len(ts_column)),linestyle='--',color='gray')\n",
    "plt.axhline(y=1.96/np.sqrt(len(ts_column)),linestyle='--',color='gray')\n",
    "plt.title('Autocorrelation Function')"
   ]
  },
  {
   "cell_type": "code",
   "execution_count": 345,
   "metadata": {
    "collapsed": false
   },
   "outputs": [
    {
     "data": {
      "image/png": "[encoded data removed]",
      "text/plain": [
       "<matplotlib.figure.Figure at 0x1262df080>"
      ]
     },
     "metadata": {},
     "output_type": "display_data"
    }
   ],
   "source": [
    "from statsmodels.graphics.tsaplots import plot_acf, plot_pacf\n",
    "\n",
    "fig_first = plot_acf(ts_column)"
   ]
  },
  {
   "cell_type": "code",
   "execution_count": 346,
   "metadata": {
    "collapsed": false
   },
   "outputs": [
    {
     "data": {
      "image/png": "[encoded data removed]",
      "text/plain": [
       "<matplotlib.figure.Figure at 0x1262bef98>"
      ]
     },
     "metadata": {},
     "output_type": "display_data"
    }
   ],
   "source": [
    "plt.subplot(122)\n",
    "plt.plot(pacf_cases)\n",
    "plt.axhline(y=0,linestyle='--',color='gray')\n",
    "plt.axhline(y=-1.96/np.sqrt(len(ts_column)),linestyle='--',color='gray')\n",
    "plt.axhline(y=1.96/np.sqrt(len(ts_column)),linestyle='--',color='gray')\n",
    "plt.title('Partial Autocorrelation Function')\n",
    "plt.tight_layout()"
   ]
  },
  {
   "cell_type": "code",
   "execution_count": 347,
   "metadata": {
    "collapsed": false
   },
   "outputs": [
    {
     "data": {
      "image/png": "[encoded data removed]",
      "text/plain": [
       "<matplotlib.figure.Figure at 0x126274390>"
      ]
     },
     "metadata": {},
     "output_type": "display_data"
    }
   ],
   "source": [
    "fig_second = plot_pacf(ts_column)"
   ]
  },
  {
   "cell_type": "markdown",
   "metadata": {},
   "source": [
    "Let's try to detect autocorrelation via the durbin_watson test. If the test value is closer to 0, we have autocorrelation. If it's closer to 0, we have no autocorrelation."
   ]
  },
  {
   "cell_type": "code",
   "execution_count": 348,
   "metadata": {
    "collapsed": false
   },
   "outputs": [
    {
     "data": {
      "text/plain": [
       "0.29635331473106896"
      ]
     },
     "execution_count": 348,
     "metadata": {},
     "output_type": "execute_result"
    }
   ],
   "source": [
    "from statsmodels.stats.stattools import durbin_watson\n",
    "\n",
    "durbin_watson(ts_column)"
   ]
  },
  {
   "cell_type": "markdown",
   "metadata": {},
   "source": [
    "We observe that there is indeed autocorrelation present as the test value is closer to 0."
   ]
  },
  {
   "cell_type": "markdown",
   "metadata": {},
   "source": [
    "Let us build an ARMA model to forecast number of attacks."
   ]
  },
  {
   "cell_type": "code",
   "execution_count": 365,
   "metadata": {
    "collapsed": false
   },
   "outputs": [
    {
     "data": {
      "text/plain": [
       "<matplotlib.legend.Legend at 0x12c0436d8>"
      ]
     },
     "execution_count": 365,
     "metadata": {},
     "output_type": "execute_result"
    },
    {
     "data": {
      "image/png": "[encoded data removed]",
      "text/plain": [
       "<matplotlib.figure.Figure at 0x122771b70>"
      ]
     },
     "metadata": {},
     "output_type": "display_data"
    }
   ],
   "source": [
    "from statsmodels.tsa.arima_model import ARMA\n",
    "#from statsmodels.tsa.arima_model import ARIMA\n",
    "\n",
    "model_AR = ARMA(ts_column, order=(2, 0))  \n",
    "results_AR = model_AR.fit()  \n",
    "plt.plot(ts_column, label = 'Actual')\n",
    "plt.plot(results_AR.fittedvalues, color='red', label = 'Predicted')\n",
    "plt.xlabel(\"Years\")\n",
    "plt.ylabel(\"Number of Incidents\")\n",
    "plt.legend(loc = \"upper left\")"
   ]
  },
  {
   "cell_type": "markdown",
   "metadata": {},
   "source": [
    "We observe that the ARMA model does a good job fitting the data."
   ]
  },
  {
   "cell_type": "markdown",
   "metadata": {},
   "source": [
    "Let's check if the residuals are of normal distribution. "
   ]
  },
  {
   "cell_type": "code",
   "execution_count": 351,
   "metadata": {
    "collapsed": false,
    "scrolled": false
   },
   "outputs": [
    {
     "data": {
      "image/png": "[encoded data removed]",
      "text/plain": [
       "<matplotlib.figure.Figure at 0x127747e80>"
      ]
     },
     "metadata": {},
     "output_type": "display_data"
    },
    {
     "name": "stdout",
     "output_type": "stream",
     "text": [
      "NormaltestResult(statistic=91.92873763907339, pvalue=1.0912600528295913e-20)\n"
     ]
    }
   ],
   "source": [
    "import pylab\n",
    "import scipy.stats as stats\n",
    "\n",
    "#checking whether the residuals are of normal distribution, dist = \"norm\" is effectively our null hypothesis\n",
    "stats.probplot(results_AR.resid, dist = \"norm\", plot = pylab)\n",
    "pylab.show()\n",
    "stats.normaltest\n",
    "print(stats.normaltest(results_AR.resid))"
   ]
  },
  {
   "cell_type": "markdown",
   "metadata": {},
   "source": [
    "We observe that the residuals are not normally distributed."
   ]
  },
  {
   "cell_type": "markdown",
   "metadata": {},
   "source": [
    "Let us forecast the values from 2006 to 2016."
   ]
  },
  {
   "cell_type": "code",
   "execution_count": 364,
   "metadata": {
    "collapsed": false
   },
   "outputs": [
    {
     "data": {
      "text/plain": [
       "<matplotlib.legend.Legend at 0x12b0cc2b0>"
      ]
     },
     "execution_count": 364,
     "metadata": {},
     "output_type": "execute_result"
    },
    {
     "data": {
      "image/png": "[encoded data removed]",
      "text/plain": [
       "<matplotlib.figure.Figure at 0x12b2b16d8>"
      ]
     },
     "metadata": {},
     "output_type": "display_data"
    }
   ],
   "source": [
    "tsdata['FORECAST'] = results_AR.predict(start = '2006-01-01', end = '2016-01-01', dynamic = False)\n",
    "\n",
    "plt.plot(tsdata['Number of Incidents'], label = 'Actual')\n",
    "plt.plot(tsdata['FORECAST'], color = 'red', label = 'Forecasted')\n",
    "plt.legend(loc = \"upper left\")\n",
    "#data.tail(200)"
   ]
  },
  {
   "cell_type": "code",
   "execution_count": 353,
   "metadata": {
    "collapsed": false
   },
   "outputs": [
    {
     "data": {
      "text/plain": [
       "Year\n",
       "2006-01-01     3.871150\n",
       "2007-01-01     6.795029\n",
       "2008-01-01    10.615699\n",
       "2009-01-01     6.468126\n",
       "2010-01-01     6.654928\n",
       "2011-01-01     2.694156\n",
       "2012-01-01     6.841729\n",
       "2013-01-01    14.576471\n",
       "2014-01-01    16.183253\n",
       "2015-01-01    13.119274\n",
       "2016-01-01    64.749405\n",
       "Name: FORECAST, dtype: float64"
      ]
     },
     "execution_count": 353,
     "metadata": {},
     "output_type": "execute_result"
    }
   ],
   "source": [
    "#ts_column[48:51]\n",
    "tsdata['FORECAST'][40:51]"
   ]
  },
  {
   "cell_type": "markdown",
   "metadata": {},
   "source": [
    "Let us evaluate the performance of our ARMA model.<br /> <br />\n",
    "We will use three evaluation metrics: <br /> <br />\n",
    "1. Mean Absolute Error <br /> <br />\n",
    "2. Mean Forecast Error <br /> <br />\n",
    "3. Root Mean Square Error <br /> <br />\n",
    "\n",
    "The closer the value to 0, the better the performance of our model."
   ]
  },
  {
   "cell_type": "code",
   "execution_count": 354,
   "metadata": {
    "collapsed": false
   },
   "outputs": [
    {
     "name": "stdout",
     "output_type": "stream",
     "text": [
      "The Mean Absolute Error is: 7.93\n",
      "The Mean Forecast Error is: 5.58\n"
     ]
    }
   ],
   "source": [
    "from decimal import Decimal\n",
    "\n",
    "actual_values = ts_column[40:51]\n",
    "predicted_values = tsdata['FORECAST'][40:51]\n",
    "\n",
    "def Mean_Absolute_Error(x,y):\n",
    "    '''\n",
    "    x: actual value of type float\n",
    "    y: predicted value of type float\n",
    "    returns MAE of type float\n",
    "    '''\n",
    "    error = abs(x - y)\n",
    "    MAE = Decimal( ( np.sum(error) ) / len(error) )\n",
    "    return round(MAE, 2)\n",
    "\n",
    "def Mean_Forecast_Error(x,y):\n",
    "    '''\n",
    "    x: actual value of type float\n",
    "    y: predicted value of type float\n",
    "    returns MFE of type float\n",
    "    '''\n",
    "    error = x - y\n",
    "    MFE = Decimal( ( np.sum(error) ) / len(error) )\n",
    "    return round(MFE, 2)\n",
    "\n",
    "print(\"The Mean Absolute Error is:\", Mean_Absolute_Error(actual_values, predicted_values))\n",
    "print(\"The Mean Forecast Error is:\", Mean_Forecast_Error(actual_values, predicted_values))"
   ]
  },
  {
   "cell_type": "code",
   "execution_count": 355,
   "metadata": {
    "collapsed": false
   },
   "outputs": [
    {
     "name": "stdout",
     "output_type": "stream",
     "text": [
      "The RMSE is: 16.1005462372\n"
     ]
    }
   ],
   "source": [
    "def RMSE(x, y):\n",
    "    '''\n",
    "    x: actual value of type float\n",
    "    y: predicted value of type float\n",
    "    returns MFE of type float\n",
    "    '''\n",
    "    return np.sqrt(((y - x) ** 2).mean())\n",
    "\n",
    "print(\"The RMSE is:\", RMSE(actual_values, predicted_values))"
   ]
  },
  {
   "cell_type": "markdown",
   "metadata": {
    "collapsed": true
   },
   "source": [
    "We observe that our values are not as close to 0 as we expect, but are acceptable since our data size is 307. "
   ]
  },
  {
   "cell_type": "code",
   "execution_count": null,
   "metadata": {
    "collapsed": true
   },
   "outputs": [],
   "source": []
  }
 ],
 "metadata": {
  "kernelspec": {
   "display_name": "Python 3",
   "language": "python",
   "name": "python3"
  },
  "language_info": {
   "codemirror_mode": {
    "name": "ipython",
    "version": 3
   },
   "file_extension": ".py",
   "mimetype": "text/x-python",
   "name": "python",
   "nbconvert_exporter": "python",
   "pygments_lexer": "ipython3",
   "version": "3.6.4"
  }
 },
 "nbformat": 4,
 "nbformat_minor": 1
}
